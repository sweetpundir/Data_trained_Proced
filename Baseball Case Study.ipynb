{
 "cells": [
  {
   "cell_type": "markdown",
   "id": "c7d40d44",
   "metadata": {},
   "source": [
    "### Baseball Case Study Problem Statement"
   ]
  },
  {
   "cell_type": "markdown",
   "id": "b20fd508",
   "metadata": {},
   "source": [
    "Baseball Case Study\n",
    "Problem Statement:\n",
    "This dataset utilizes data from 2014 Major League Baseball seasons in order to develop an algorithm that predicts the number of wins for a given team in the 2015 season based on several different indicators of success. There are 16 different features that will be used as the inputs to the machine learning and the output will be a value that represents the number of wins. \n",
    "\n",
    "-- Input features: Runs, At Bats, Hits, Doubles, Triples, Homeruns, Walks, Strikeouts, Stolen Bases, Runs Allowed, Earned Runs, Earned Run Average (ERA), Shutouts, Saves, Complete Games and Errors\n",
    "\n",
    "-- Output: Number of predicted wins (W)\n",
    "\n",
    "To understand the columns meaning, follow the link given below to understand the baseball statistics: https://en.wikipedia.org/wiki/Baseball_statistics\n",
    "\n",
    "For downloading the dataset, use the link given below. \n",
    "\n",
    "Downlaod Files:\n",
    "https://github.com/dsrscientist/Data-Science-ML-Capstone-Projects/blob/master/baseball.csv"
   ]
  },
  {
   "cell_type": "markdown",
   "id": "3ab28636",
   "metadata": {},
   "source": [
    "### Importing Liberary"
   ]
  },
  {
   "cell_type": "code",
   "execution_count": 96,
   "id": "7c830347",
   "metadata": {},
   "outputs": [],
   "source": [
    "#Data Lib\n",
    "import numpy as np\n",
    "import pandas as pd\n",
    "\n",
    "#Visualization lib\n",
    "import seaborn as sns\n",
    "import matplotlib.pyplot as plt\n",
    "%matplotlib inline\n",
    "\n",
    "#Preprocessing lib\n",
    "from sklearn.model_selection import train_test_split\n",
    "from sklearn.preprocessing import StandardScaler\n",
    "#models\n",
    "from sklearn.linear_model import LinearRegression\n",
    "from sklearn.ensemble import RandomForestRegressor\n",
    "from sklearn.neighbors import KNeighborsRegressor\n",
    "from sklearn.svm import SVR\n",
    "from sklearn.ensemble import GradientBoostingRegressor\n",
    "#tunning lib\n",
    "from sklearn.model_selection import GridSearchCV\n",
    "#metrics\n",
    "\n",
    "from sklearn.metrics import r2_score,mean_absolute_error,mean_squared_error\n",
    "\n",
    "#save\n",
    "\n",
    "import pickle\n",
    "\n",
    "import warnings\n",
    "warnings.filterwarnings(\"ignore\")"
   ]
  },
  {
   "cell_type": "markdown",
   "id": "4b73460b",
   "metadata": {},
   "source": [
    "### Data Loading"
   ]
  },
  {
   "cell_type": "code",
   "execution_count": 2,
   "id": "90d01e0f",
   "metadata": {},
   "outputs": [
    {
     "data": {
      "text/html": [
       "<div>\n",
       "<style scoped>\n",
       "    .dataframe tbody tr th:only-of-type {\n",
       "        vertical-align: middle;\n",
       "    }\n",
       "\n",
       "    .dataframe tbody tr th {\n",
       "        vertical-align: top;\n",
       "    }\n",
       "\n",
       "    .dataframe thead th {\n",
       "        text-align: right;\n",
       "    }\n",
       "</style>\n",
       "<table border=\"1\" class=\"dataframe\">\n",
       "  <thead>\n",
       "    <tr style=\"text-align: right;\">\n",
       "      <th></th>\n",
       "      <th>W</th>\n",
       "      <th>R</th>\n",
       "      <th>AB</th>\n",
       "      <th>H</th>\n",
       "      <th>2B</th>\n",
       "      <th>3B</th>\n",
       "      <th>HR</th>\n",
       "      <th>BB</th>\n",
       "      <th>SO</th>\n",
       "      <th>SB</th>\n",
       "      <th>RA</th>\n",
       "      <th>ER</th>\n",
       "      <th>ERA</th>\n",
       "      <th>CG</th>\n",
       "      <th>SHO</th>\n",
       "      <th>SV</th>\n",
       "      <th>E</th>\n",
       "    </tr>\n",
       "  </thead>\n",
       "  <tbody>\n",
       "    <tr>\n",
       "      <th>0</th>\n",
       "      <td>95</td>\n",
       "      <td>724</td>\n",
       "      <td>5575</td>\n",
       "      <td>1497</td>\n",
       "      <td>300</td>\n",
       "      <td>42</td>\n",
       "      <td>139</td>\n",
       "      <td>383</td>\n",
       "      <td>973</td>\n",
       "      <td>104</td>\n",
       "      <td>641</td>\n",
       "      <td>601</td>\n",
       "      <td>3.73</td>\n",
       "      <td>2</td>\n",
       "      <td>8</td>\n",
       "      <td>56</td>\n",
       "      <td>88</td>\n",
       "    </tr>\n",
       "    <tr>\n",
       "      <th>1</th>\n",
       "      <td>83</td>\n",
       "      <td>696</td>\n",
       "      <td>5467</td>\n",
       "      <td>1349</td>\n",
       "      <td>277</td>\n",
       "      <td>44</td>\n",
       "      <td>156</td>\n",
       "      <td>439</td>\n",
       "      <td>1264</td>\n",
       "      <td>70</td>\n",
       "      <td>700</td>\n",
       "      <td>653</td>\n",
       "      <td>4.07</td>\n",
       "      <td>2</td>\n",
       "      <td>12</td>\n",
       "      <td>45</td>\n",
       "      <td>86</td>\n",
       "    </tr>\n",
       "    <tr>\n",
       "      <th>2</th>\n",
       "      <td>81</td>\n",
       "      <td>669</td>\n",
       "      <td>5439</td>\n",
       "      <td>1395</td>\n",
       "      <td>303</td>\n",
       "      <td>29</td>\n",
       "      <td>141</td>\n",
       "      <td>533</td>\n",
       "      <td>1157</td>\n",
       "      <td>86</td>\n",
       "      <td>640</td>\n",
       "      <td>584</td>\n",
       "      <td>3.67</td>\n",
       "      <td>11</td>\n",
       "      <td>10</td>\n",
       "      <td>38</td>\n",
       "      <td>79</td>\n",
       "    </tr>\n",
       "    <tr>\n",
       "      <th>3</th>\n",
       "      <td>76</td>\n",
       "      <td>622</td>\n",
       "      <td>5533</td>\n",
       "      <td>1381</td>\n",
       "      <td>260</td>\n",
       "      <td>27</td>\n",
       "      <td>136</td>\n",
       "      <td>404</td>\n",
       "      <td>1231</td>\n",
       "      <td>68</td>\n",
       "      <td>701</td>\n",
       "      <td>643</td>\n",
       "      <td>3.98</td>\n",
       "      <td>7</td>\n",
       "      <td>9</td>\n",
       "      <td>37</td>\n",
       "      <td>101</td>\n",
       "    </tr>\n",
       "    <tr>\n",
       "      <th>4</th>\n",
       "      <td>74</td>\n",
       "      <td>689</td>\n",
       "      <td>5605</td>\n",
       "      <td>1515</td>\n",
       "      <td>289</td>\n",
       "      <td>49</td>\n",
       "      <td>151</td>\n",
       "      <td>455</td>\n",
       "      <td>1259</td>\n",
       "      <td>83</td>\n",
       "      <td>803</td>\n",
       "      <td>746</td>\n",
       "      <td>4.64</td>\n",
       "      <td>7</td>\n",
       "      <td>12</td>\n",
       "      <td>35</td>\n",
       "      <td>86</td>\n",
       "    </tr>\n",
       "  </tbody>\n",
       "</table>\n",
       "</div>"
      ],
      "text/plain": [
       "    W    R    AB     H   2B  3B   HR   BB    SO   SB   RA   ER   ERA  CG  SHO  \\\n",
       "0  95  724  5575  1497  300  42  139  383   973  104  641  601  3.73   2    8   \n",
       "1  83  696  5467  1349  277  44  156  439  1264   70  700  653  4.07   2   12   \n",
       "2  81  669  5439  1395  303  29  141  533  1157   86  640  584  3.67  11   10   \n",
       "3  76  622  5533  1381  260  27  136  404  1231   68  701  643  3.98   7    9   \n",
       "4  74  689  5605  1515  289  49  151  455  1259   83  803  746  4.64   7   12   \n",
       "\n",
       "   SV    E  \n",
       "0  56   88  \n",
       "1  45   86  \n",
       "2  38   79  \n",
       "3  37  101  \n",
       "4  35   86  "
      ]
     },
     "execution_count": 2,
     "metadata": {},
     "output_type": "execute_result"
    }
   ],
   "source": [
    "data=pd.read_csv('https://raw.githubusercontent.com/dsrscientist/Data-Science-ML-Capstone-Projects/master/baseball.csv')\n",
    "data.head()"
   ]
  },
  {
   "cell_type": "code",
   "execution_count": 3,
   "id": "d8784d62",
   "metadata": {},
   "outputs": [
    {
     "data": {
      "text/plain": [
       "(30, 17)"
      ]
     },
     "execution_count": 3,
     "metadata": {},
     "output_type": "execute_result"
    }
   ],
   "source": [
    "data.shape"
   ]
  },
  {
   "cell_type": "markdown",
   "id": "4da1c9cc",
   "metadata": {},
   "source": [
    "We have only 30 observations and 16 features , target W is continious data so its regression problem."
   ]
  },
  {
   "cell_type": "markdown",
   "id": "e613c715",
   "metadata": {},
   "source": [
    "### Duplicacy Test"
   ]
  },
  {
   "cell_type": "code",
   "execution_count": 4,
   "id": "8eb27deb",
   "metadata": {},
   "outputs": [
    {
     "data": {
      "text/plain": [
       "0"
      ]
     },
     "execution_count": 4,
     "metadata": {},
     "output_type": "execute_result"
    }
   ],
   "source": [
    "data.duplicated().sum()"
   ]
  },
  {
   "cell_type": "markdown",
   "id": "be7c97e6",
   "metadata": {},
   "source": [
    "No duplicacy in data set"
   ]
  },
  {
   "cell_type": "markdown",
   "id": "1ce1af18",
   "metadata": {},
   "source": [
    "### Categorical & Null Testing"
   ]
  },
  {
   "cell_type": "code",
   "execution_count": 5,
   "id": "7d431ea8",
   "metadata": {},
   "outputs": [
    {
     "name": "stdout",
     "output_type": "stream",
     "text": [
      "<class 'pandas.core.frame.DataFrame'>\n",
      "RangeIndex: 30 entries, 0 to 29\n",
      "Data columns (total 17 columns):\n",
      " #   Column  Non-Null Count  Dtype  \n",
      "---  ------  --------------  -----  \n",
      " 0   W       30 non-null     int64  \n",
      " 1   R       30 non-null     int64  \n",
      " 2   AB      30 non-null     int64  \n",
      " 3   H       30 non-null     int64  \n",
      " 4   2B      30 non-null     int64  \n",
      " 5   3B      30 non-null     int64  \n",
      " 6   HR      30 non-null     int64  \n",
      " 7   BB      30 non-null     int64  \n",
      " 8   SO      30 non-null     int64  \n",
      " 9   SB      30 non-null     int64  \n",
      " 10  RA      30 non-null     int64  \n",
      " 11  ER      30 non-null     int64  \n",
      " 12  ERA     30 non-null     float64\n",
      " 13  CG      30 non-null     int64  \n",
      " 14  SHO     30 non-null     int64  \n",
      " 15  SV      30 non-null     int64  \n",
      " 16  E       30 non-null     int64  \n",
      "dtypes: float64(1), int64(16)\n",
      "memory usage: 4.1 KB\n"
     ]
    }
   ],
   "source": [
    "data.info()"
   ]
  },
  {
   "cell_type": "code",
   "execution_count": 6,
   "id": "7f7ac706",
   "metadata": {},
   "outputs": [
    {
     "data": {
      "text/plain": [
       "W      0\n",
       "R      0\n",
       "AB     0\n",
       "H      0\n",
       "2B     0\n",
       "3B     0\n",
       "HR     0\n",
       "BB     0\n",
       "SO     0\n",
       "SB     0\n",
       "RA     0\n",
       "ER     0\n",
       "ERA    0\n",
       "CG     0\n",
       "SHO    0\n",
       "SV     0\n",
       "E      0\n",
       "dtype: int64"
      ]
     },
     "execution_count": 6,
     "metadata": {},
     "output_type": "execute_result"
    }
   ],
   "source": [
    "data.isna().sum()"
   ]
  },
  {
   "cell_type": "markdown",
   "id": "163a54f2",
   "metadata": {},
   "source": [
    "All values are numeric type & no null values"
   ]
  },
  {
   "cell_type": "markdown",
   "id": "67272799",
   "metadata": {},
   "source": [
    "### Describe Dataset"
   ]
  },
  {
   "cell_type": "code",
   "execution_count": 7,
   "id": "f7e0c024",
   "metadata": {},
   "outputs": [
    {
     "data": {
      "text/html": [
       "<div>\n",
       "<style scoped>\n",
       "    .dataframe tbody tr th:only-of-type {\n",
       "        vertical-align: middle;\n",
       "    }\n",
       "\n",
       "    .dataframe tbody tr th {\n",
       "        vertical-align: top;\n",
       "    }\n",
       "\n",
       "    .dataframe thead th {\n",
       "        text-align: right;\n",
       "    }\n",
       "</style>\n",
       "<table border=\"1\" class=\"dataframe\">\n",
       "  <thead>\n",
       "    <tr style=\"text-align: right;\">\n",
       "      <th></th>\n",
       "      <th>W</th>\n",
       "      <th>R</th>\n",
       "      <th>AB</th>\n",
       "      <th>H</th>\n",
       "      <th>2B</th>\n",
       "      <th>3B</th>\n",
       "      <th>HR</th>\n",
       "      <th>BB</th>\n",
       "      <th>SO</th>\n",
       "      <th>SB</th>\n",
       "      <th>RA</th>\n",
       "      <th>ER</th>\n",
       "      <th>ERA</th>\n",
       "      <th>CG</th>\n",
       "      <th>SHO</th>\n",
       "      <th>SV</th>\n",
       "      <th>E</th>\n",
       "    </tr>\n",
       "  </thead>\n",
       "  <tbody>\n",
       "    <tr>\n",
       "      <th>count</th>\n",
       "      <td>30.000000</td>\n",
       "      <td>30.000000</td>\n",
       "      <td>30.000000</td>\n",
       "      <td>30.000000</td>\n",
       "      <td>30.000000</td>\n",
       "      <td>30.000000</td>\n",
       "      <td>30.000000</td>\n",
       "      <td>30.000000</td>\n",
       "      <td>30.00000</td>\n",
       "      <td>30.000000</td>\n",
       "      <td>30.000000</td>\n",
       "      <td>30.000000</td>\n",
       "      <td>30.000000</td>\n",
       "      <td>30.000000</td>\n",
       "      <td>30.000000</td>\n",
       "      <td>30.000000</td>\n",
       "      <td>30.000000</td>\n",
       "    </tr>\n",
       "    <tr>\n",
       "      <th>mean</th>\n",
       "      <td>80.966667</td>\n",
       "      <td>688.233333</td>\n",
       "      <td>5516.266667</td>\n",
       "      <td>1403.533333</td>\n",
       "      <td>274.733333</td>\n",
       "      <td>31.300000</td>\n",
       "      <td>163.633333</td>\n",
       "      <td>469.100000</td>\n",
       "      <td>1248.20000</td>\n",
       "      <td>83.500000</td>\n",
       "      <td>688.233333</td>\n",
       "      <td>635.833333</td>\n",
       "      <td>3.956333</td>\n",
       "      <td>3.466667</td>\n",
       "      <td>11.300000</td>\n",
       "      <td>43.066667</td>\n",
       "      <td>94.333333</td>\n",
       "    </tr>\n",
       "    <tr>\n",
       "      <th>std</th>\n",
       "      <td>10.453455</td>\n",
       "      <td>58.761754</td>\n",
       "      <td>70.467372</td>\n",
       "      <td>57.140923</td>\n",
       "      <td>18.095405</td>\n",
       "      <td>10.452355</td>\n",
       "      <td>31.823309</td>\n",
       "      <td>57.053725</td>\n",
       "      <td>103.75947</td>\n",
       "      <td>22.815225</td>\n",
       "      <td>72.108005</td>\n",
       "      <td>70.140786</td>\n",
       "      <td>0.454089</td>\n",
       "      <td>2.763473</td>\n",
       "      <td>4.120177</td>\n",
       "      <td>7.869335</td>\n",
       "      <td>13.958889</td>\n",
       "    </tr>\n",
       "    <tr>\n",
       "      <th>min</th>\n",
       "      <td>63.000000</td>\n",
       "      <td>573.000000</td>\n",
       "      <td>5385.000000</td>\n",
       "      <td>1324.000000</td>\n",
       "      <td>236.000000</td>\n",
       "      <td>13.000000</td>\n",
       "      <td>100.000000</td>\n",
       "      <td>375.000000</td>\n",
       "      <td>973.00000</td>\n",
       "      <td>44.000000</td>\n",
       "      <td>525.000000</td>\n",
       "      <td>478.000000</td>\n",
       "      <td>2.940000</td>\n",
       "      <td>0.000000</td>\n",
       "      <td>4.000000</td>\n",
       "      <td>28.000000</td>\n",
       "      <td>75.000000</td>\n",
       "    </tr>\n",
       "    <tr>\n",
       "      <th>25%</th>\n",
       "      <td>74.000000</td>\n",
       "      <td>651.250000</td>\n",
       "      <td>5464.000000</td>\n",
       "      <td>1363.000000</td>\n",
       "      <td>262.250000</td>\n",
       "      <td>23.000000</td>\n",
       "      <td>140.250000</td>\n",
       "      <td>428.250000</td>\n",
       "      <td>1157.50000</td>\n",
       "      <td>69.000000</td>\n",
       "      <td>636.250000</td>\n",
       "      <td>587.250000</td>\n",
       "      <td>3.682500</td>\n",
       "      <td>1.000000</td>\n",
       "      <td>9.000000</td>\n",
       "      <td>37.250000</td>\n",
       "      <td>86.000000</td>\n",
       "    </tr>\n",
       "    <tr>\n",
       "      <th>50%</th>\n",
       "      <td>81.000000</td>\n",
       "      <td>689.000000</td>\n",
       "      <td>5510.000000</td>\n",
       "      <td>1382.500000</td>\n",
       "      <td>275.500000</td>\n",
       "      <td>31.000000</td>\n",
       "      <td>158.500000</td>\n",
       "      <td>473.000000</td>\n",
       "      <td>1261.50000</td>\n",
       "      <td>83.500000</td>\n",
       "      <td>695.500000</td>\n",
       "      <td>644.500000</td>\n",
       "      <td>4.025000</td>\n",
       "      <td>3.000000</td>\n",
       "      <td>12.000000</td>\n",
       "      <td>42.000000</td>\n",
       "      <td>91.000000</td>\n",
       "    </tr>\n",
       "    <tr>\n",
       "      <th>75%</th>\n",
       "      <td>87.750000</td>\n",
       "      <td>718.250000</td>\n",
       "      <td>5570.000000</td>\n",
       "      <td>1451.500000</td>\n",
       "      <td>288.750000</td>\n",
       "      <td>39.000000</td>\n",
       "      <td>177.000000</td>\n",
       "      <td>501.250000</td>\n",
       "      <td>1311.50000</td>\n",
       "      <td>96.500000</td>\n",
       "      <td>732.500000</td>\n",
       "      <td>679.250000</td>\n",
       "      <td>4.220000</td>\n",
       "      <td>5.750000</td>\n",
       "      <td>13.000000</td>\n",
       "      <td>46.750000</td>\n",
       "      <td>96.750000</td>\n",
       "    </tr>\n",
       "    <tr>\n",
       "      <th>max</th>\n",
       "      <td>100.000000</td>\n",
       "      <td>891.000000</td>\n",
       "      <td>5649.000000</td>\n",
       "      <td>1515.000000</td>\n",
       "      <td>308.000000</td>\n",
       "      <td>49.000000</td>\n",
       "      <td>232.000000</td>\n",
       "      <td>570.000000</td>\n",
       "      <td>1518.00000</td>\n",
       "      <td>134.000000</td>\n",
       "      <td>844.000000</td>\n",
       "      <td>799.000000</td>\n",
       "      <td>5.040000</td>\n",
       "      <td>11.000000</td>\n",
       "      <td>21.000000</td>\n",
       "      <td>62.000000</td>\n",
       "      <td>126.000000</td>\n",
       "    </tr>\n",
       "  </tbody>\n",
       "</table>\n",
       "</div>"
      ],
      "text/plain": [
       "                W           R           AB            H          2B  \\\n",
       "count   30.000000   30.000000    30.000000    30.000000   30.000000   \n",
       "mean    80.966667  688.233333  5516.266667  1403.533333  274.733333   \n",
       "std     10.453455   58.761754    70.467372    57.140923   18.095405   \n",
       "min     63.000000  573.000000  5385.000000  1324.000000  236.000000   \n",
       "25%     74.000000  651.250000  5464.000000  1363.000000  262.250000   \n",
       "50%     81.000000  689.000000  5510.000000  1382.500000  275.500000   \n",
       "75%     87.750000  718.250000  5570.000000  1451.500000  288.750000   \n",
       "max    100.000000  891.000000  5649.000000  1515.000000  308.000000   \n",
       "\n",
       "              3B          HR          BB          SO          SB          RA  \\\n",
       "count  30.000000   30.000000   30.000000    30.00000   30.000000   30.000000   \n",
       "mean   31.300000  163.633333  469.100000  1248.20000   83.500000  688.233333   \n",
       "std    10.452355   31.823309   57.053725   103.75947   22.815225   72.108005   \n",
       "min    13.000000  100.000000  375.000000   973.00000   44.000000  525.000000   \n",
       "25%    23.000000  140.250000  428.250000  1157.50000   69.000000  636.250000   \n",
       "50%    31.000000  158.500000  473.000000  1261.50000   83.500000  695.500000   \n",
       "75%    39.000000  177.000000  501.250000  1311.50000   96.500000  732.500000   \n",
       "max    49.000000  232.000000  570.000000  1518.00000  134.000000  844.000000   \n",
       "\n",
       "               ER        ERA         CG        SHO         SV           E  \n",
       "count   30.000000  30.000000  30.000000  30.000000  30.000000   30.000000  \n",
       "mean   635.833333   3.956333   3.466667  11.300000  43.066667   94.333333  \n",
       "std     70.140786   0.454089   2.763473   4.120177   7.869335   13.958889  \n",
       "min    478.000000   2.940000   0.000000   4.000000  28.000000   75.000000  \n",
       "25%    587.250000   3.682500   1.000000   9.000000  37.250000   86.000000  \n",
       "50%    644.500000   4.025000   3.000000  12.000000  42.000000   91.000000  \n",
       "75%    679.250000   4.220000   5.750000  13.000000  46.750000   96.750000  \n",
       "max    799.000000   5.040000  11.000000  21.000000  62.000000  126.000000  "
      ]
     },
     "execution_count": 7,
     "metadata": {},
     "output_type": "execute_result"
    }
   ],
   "source": [
    "data.describe()"
   ]
  },
  {
   "cell_type": "markdown",
   "id": "80d076cd",
   "metadata": {},
   "source": [
    "As here also we can see dataset have equal observations in all features. data set looks good."
   ]
  },
  {
   "cell_type": "markdown",
   "id": "63c58a30",
   "metadata": {},
   "source": [
    "### Correlation & multicollinearty Test"
   ]
  },
  {
   "cell_type": "code",
   "execution_count": 8,
   "id": "f5b94b85",
   "metadata": {},
   "outputs": [
    {
     "data": {
      "text/html": [
       "<div>\n",
       "<style scoped>\n",
       "    .dataframe tbody tr th:only-of-type {\n",
       "        vertical-align: middle;\n",
       "    }\n",
       "\n",
       "    .dataframe tbody tr th {\n",
       "        vertical-align: top;\n",
       "    }\n",
       "\n",
       "    .dataframe thead th {\n",
       "        text-align: right;\n",
       "    }\n",
       "</style>\n",
       "<table border=\"1\" class=\"dataframe\">\n",
       "  <thead>\n",
       "    <tr style=\"text-align: right;\">\n",
       "      <th></th>\n",
       "      <th>W</th>\n",
       "      <th>R</th>\n",
       "      <th>AB</th>\n",
       "      <th>H</th>\n",
       "      <th>2B</th>\n",
       "      <th>3B</th>\n",
       "      <th>HR</th>\n",
       "      <th>BB</th>\n",
       "      <th>SO</th>\n",
       "      <th>SB</th>\n",
       "      <th>RA</th>\n",
       "      <th>ER</th>\n",
       "      <th>ERA</th>\n",
       "      <th>CG</th>\n",
       "      <th>SHO</th>\n",
       "      <th>SV</th>\n",
       "      <th>E</th>\n",
       "    </tr>\n",
       "  </thead>\n",
       "  <tbody>\n",
       "    <tr>\n",
       "      <th>W</th>\n",
       "      <td>1.000000</td>\n",
       "      <td>0.430751</td>\n",
       "      <td>-0.087947</td>\n",
       "      <td>0.037612</td>\n",
       "      <td>0.427797</td>\n",
       "      <td>-0.251118</td>\n",
       "      <td>0.307407</td>\n",
       "      <td>0.484342</td>\n",
       "      <td>0.111850</td>\n",
       "      <td>-0.157234</td>\n",
       "      <td>-0.812952</td>\n",
       "      <td>-0.809435</td>\n",
       "      <td>-0.819600</td>\n",
       "      <td>0.080533</td>\n",
       "      <td>0.471805</td>\n",
       "      <td>0.666530</td>\n",
       "      <td>-0.089485</td>\n",
       "    </tr>\n",
       "    <tr>\n",
       "      <th>R</th>\n",
       "      <td>0.430751</td>\n",
       "      <td>1.000000</td>\n",
       "      <td>0.319464</td>\n",
       "      <td>0.482856</td>\n",
       "      <td>0.560084</td>\n",
       "      <td>-0.070072</td>\n",
       "      <td>0.671283</td>\n",
       "      <td>0.402452</td>\n",
       "      <td>-0.054726</td>\n",
       "      <td>0.081367</td>\n",
       "      <td>-0.041623</td>\n",
       "      <td>-0.041245</td>\n",
       "      <td>-0.049281</td>\n",
       "      <td>0.232042</td>\n",
       "      <td>-0.103274</td>\n",
       "      <td>-0.096380</td>\n",
       "      <td>-0.023262</td>\n",
       "    </tr>\n",
       "    <tr>\n",
       "      <th>AB</th>\n",
       "      <td>-0.087947</td>\n",
       "      <td>0.319464</td>\n",
       "      <td>1.000000</td>\n",
       "      <td>0.739122</td>\n",
       "      <td>0.453370</td>\n",
       "      <td>0.435422</td>\n",
       "      <td>-0.066983</td>\n",
       "      <td>-0.136414</td>\n",
       "      <td>-0.106022</td>\n",
       "      <td>0.372618</td>\n",
       "      <td>0.316010</td>\n",
       "      <td>0.309686</td>\n",
       "      <td>0.255551</td>\n",
       "      <td>-0.080876</td>\n",
       "      <td>-0.197321</td>\n",
       "      <td>-0.106367</td>\n",
       "      <td>0.316743</td>\n",
       "    </tr>\n",
       "    <tr>\n",
       "      <th>H</th>\n",
       "      <td>0.037612</td>\n",
       "      <td>0.482856</td>\n",
       "      <td>0.739122</td>\n",
       "      <td>1.000000</td>\n",
       "      <td>0.566847</td>\n",
       "      <td>0.478694</td>\n",
       "      <td>-0.090855</td>\n",
       "      <td>-0.118281</td>\n",
       "      <td>-0.398830</td>\n",
       "      <td>0.413444</td>\n",
       "      <td>0.224324</td>\n",
       "      <td>0.252489</td>\n",
       "      <td>0.231172</td>\n",
       "      <td>0.147955</td>\n",
       "      <td>-0.145559</td>\n",
       "      <td>-0.130371</td>\n",
       "      <td>-0.033173</td>\n",
       "    </tr>\n",
       "    <tr>\n",
       "      <th>2B</th>\n",
       "      <td>0.427797</td>\n",
       "      <td>0.560084</td>\n",
       "      <td>0.453370</td>\n",
       "      <td>0.566847</td>\n",
       "      <td>1.000000</td>\n",
       "      <td>0.220490</td>\n",
       "      <td>0.056292</td>\n",
       "      <td>0.302700</td>\n",
       "      <td>-0.150752</td>\n",
       "      <td>0.195027</td>\n",
       "      <td>-0.218160</td>\n",
       "      <td>-0.235531</td>\n",
       "      <td>-0.254854</td>\n",
       "      <td>0.306675</td>\n",
       "      <td>0.057998</td>\n",
       "      <td>0.171576</td>\n",
       "      <td>0.105754</td>\n",
       "    </tr>\n",
       "    <tr>\n",
       "      <th>3B</th>\n",
       "      <td>-0.251118</td>\n",
       "      <td>-0.070072</td>\n",
       "      <td>0.435422</td>\n",
       "      <td>0.478694</td>\n",
       "      <td>0.220490</td>\n",
       "      <td>1.000000</td>\n",
       "      <td>-0.430915</td>\n",
       "      <td>-0.454949</td>\n",
       "      <td>-0.141196</td>\n",
       "      <td>0.457437</td>\n",
       "      <td>0.314125</td>\n",
       "      <td>0.340225</td>\n",
       "      <td>0.330951</td>\n",
       "      <td>-0.065898</td>\n",
       "      <td>-0.041396</td>\n",
       "      <td>-0.142370</td>\n",
       "      <td>0.126678</td>\n",
       "    </tr>\n",
       "    <tr>\n",
       "      <th>HR</th>\n",
       "      <td>0.307407</td>\n",
       "      <td>0.671283</td>\n",
       "      <td>-0.066983</td>\n",
       "      <td>-0.090855</td>\n",
       "      <td>0.056292</td>\n",
       "      <td>-0.430915</td>\n",
       "      <td>1.000000</td>\n",
       "      <td>0.425691</td>\n",
       "      <td>0.359923</td>\n",
       "      <td>-0.136567</td>\n",
       "      <td>-0.103903</td>\n",
       "      <td>-0.085922</td>\n",
       "      <td>-0.090917</td>\n",
       "      <td>0.156502</td>\n",
       "      <td>-0.019119</td>\n",
       "      <td>-0.028540</td>\n",
       "      <td>-0.207597</td>\n",
       "    </tr>\n",
       "    <tr>\n",
       "      <th>BB</th>\n",
       "      <td>0.484342</td>\n",
       "      <td>0.402452</td>\n",
       "      <td>-0.136414</td>\n",
       "      <td>-0.118281</td>\n",
       "      <td>0.302700</td>\n",
       "      <td>-0.454949</td>\n",
       "      <td>0.425691</td>\n",
       "      <td>1.000000</td>\n",
       "      <td>0.233652</td>\n",
       "      <td>-0.098347</td>\n",
       "      <td>-0.416445</td>\n",
       "      <td>-0.452663</td>\n",
       "      <td>-0.459832</td>\n",
       "      <td>0.462478</td>\n",
       "      <td>0.426004</td>\n",
       "      <td>0.099445</td>\n",
       "      <td>-0.075685</td>\n",
       "    </tr>\n",
       "    <tr>\n",
       "      <th>SO</th>\n",
       "      <td>0.111850</td>\n",
       "      <td>-0.054726</td>\n",
       "      <td>-0.106022</td>\n",
       "      <td>-0.398830</td>\n",
       "      <td>-0.150752</td>\n",
       "      <td>-0.141196</td>\n",
       "      <td>0.359923</td>\n",
       "      <td>0.233652</td>\n",
       "      <td>1.000000</td>\n",
       "      <td>0.030968</td>\n",
       "      <td>-0.129745</td>\n",
       "      <td>-0.161612</td>\n",
       "      <td>-0.180368</td>\n",
       "      <td>-0.093418</td>\n",
       "      <td>0.237721</td>\n",
       "      <td>0.126297</td>\n",
       "      <td>0.155133</td>\n",
       "    </tr>\n",
       "    <tr>\n",
       "      <th>SB</th>\n",
       "      <td>-0.157234</td>\n",
       "      <td>0.081367</td>\n",
       "      <td>0.372618</td>\n",
       "      <td>0.413444</td>\n",
       "      <td>0.195027</td>\n",
       "      <td>0.457437</td>\n",
       "      <td>-0.136567</td>\n",
       "      <td>-0.098347</td>\n",
       "      <td>0.030968</td>\n",
       "      <td>1.000000</td>\n",
       "      <td>0.132290</td>\n",
       "      <td>0.143068</td>\n",
       "      <td>0.126063</td>\n",
       "      <td>-0.020783</td>\n",
       "      <td>-0.106563</td>\n",
       "      <td>-0.183418</td>\n",
       "      <td>0.079149</td>\n",
       "    </tr>\n",
       "    <tr>\n",
       "      <th>RA</th>\n",
       "      <td>-0.812952</td>\n",
       "      <td>-0.041623</td>\n",
       "      <td>0.316010</td>\n",
       "      <td>0.224324</td>\n",
       "      <td>-0.218160</td>\n",
       "      <td>0.314125</td>\n",
       "      <td>-0.103903</td>\n",
       "      <td>-0.416445</td>\n",
       "      <td>-0.129745</td>\n",
       "      <td>0.132290</td>\n",
       "      <td>1.000000</td>\n",
       "      <td>0.991018</td>\n",
       "      <td>0.986674</td>\n",
       "      <td>-0.016659</td>\n",
       "      <td>-0.636862</td>\n",
       "      <td>-0.616224</td>\n",
       "      <td>0.198996</td>\n",
       "    </tr>\n",
       "    <tr>\n",
       "      <th>ER</th>\n",
       "      <td>-0.809435</td>\n",
       "      <td>-0.041245</td>\n",
       "      <td>0.309686</td>\n",
       "      <td>0.252489</td>\n",
       "      <td>-0.235531</td>\n",
       "      <td>0.340225</td>\n",
       "      <td>-0.085922</td>\n",
       "      <td>-0.452663</td>\n",
       "      <td>-0.161612</td>\n",
       "      <td>0.143068</td>\n",
       "      <td>0.991018</td>\n",
       "      <td>1.000000</td>\n",
       "      <td>0.997248</td>\n",
       "      <td>-0.020221</td>\n",
       "      <td>-0.630192</td>\n",
       "      <td>-0.589663</td>\n",
       "      <td>0.136921</td>\n",
       "    </tr>\n",
       "    <tr>\n",
       "      <th>ERA</th>\n",
       "      <td>-0.819600</td>\n",
       "      <td>-0.049281</td>\n",
       "      <td>0.255551</td>\n",
       "      <td>0.231172</td>\n",
       "      <td>-0.254854</td>\n",
       "      <td>0.330951</td>\n",
       "      <td>-0.090917</td>\n",
       "      <td>-0.459832</td>\n",
       "      <td>-0.180368</td>\n",
       "      <td>0.126063</td>\n",
       "      <td>0.986674</td>\n",
       "      <td>0.997248</td>\n",
       "      <td>1.000000</td>\n",
       "      <td>-0.009856</td>\n",
       "      <td>-0.630833</td>\n",
       "      <td>-0.607005</td>\n",
       "      <td>0.113137</td>\n",
       "    </tr>\n",
       "    <tr>\n",
       "      <th>CG</th>\n",
       "      <td>0.080533</td>\n",
       "      <td>0.232042</td>\n",
       "      <td>-0.080876</td>\n",
       "      <td>0.147955</td>\n",
       "      <td>0.306675</td>\n",
       "      <td>-0.065898</td>\n",
       "      <td>0.156502</td>\n",
       "      <td>0.462478</td>\n",
       "      <td>-0.093418</td>\n",
       "      <td>-0.020783</td>\n",
       "      <td>-0.016659</td>\n",
       "      <td>-0.020221</td>\n",
       "      <td>-0.009856</td>\n",
       "      <td>1.000000</td>\n",
       "      <td>0.241676</td>\n",
       "      <td>-0.367766</td>\n",
       "      <td>-0.140047</td>\n",
       "    </tr>\n",
       "    <tr>\n",
       "      <th>SHO</th>\n",
       "      <td>0.471805</td>\n",
       "      <td>-0.103274</td>\n",
       "      <td>-0.197321</td>\n",
       "      <td>-0.145559</td>\n",
       "      <td>0.057998</td>\n",
       "      <td>-0.041396</td>\n",
       "      <td>-0.019119</td>\n",
       "      <td>0.426004</td>\n",
       "      <td>0.237721</td>\n",
       "      <td>-0.106563</td>\n",
       "      <td>-0.636862</td>\n",
       "      <td>-0.630192</td>\n",
       "      <td>-0.630833</td>\n",
       "      <td>0.241676</td>\n",
       "      <td>1.000000</td>\n",
       "      <td>0.221639</td>\n",
       "      <td>-0.115716</td>\n",
       "    </tr>\n",
       "    <tr>\n",
       "      <th>SV</th>\n",
       "      <td>0.666530</td>\n",
       "      <td>-0.096380</td>\n",
       "      <td>-0.106367</td>\n",
       "      <td>-0.130371</td>\n",
       "      <td>0.171576</td>\n",
       "      <td>-0.142370</td>\n",
       "      <td>-0.028540</td>\n",
       "      <td>0.099445</td>\n",
       "      <td>0.126297</td>\n",
       "      <td>-0.183418</td>\n",
       "      <td>-0.616224</td>\n",
       "      <td>-0.589663</td>\n",
       "      <td>-0.607005</td>\n",
       "      <td>-0.367766</td>\n",
       "      <td>0.221639</td>\n",
       "      <td>1.000000</td>\n",
       "      <td>-0.025636</td>\n",
       "    </tr>\n",
       "    <tr>\n",
       "      <th>E</th>\n",
       "      <td>-0.089485</td>\n",
       "      <td>-0.023262</td>\n",
       "      <td>0.316743</td>\n",
       "      <td>-0.033173</td>\n",
       "      <td>0.105754</td>\n",
       "      <td>0.126678</td>\n",
       "      <td>-0.207597</td>\n",
       "      <td>-0.075685</td>\n",
       "      <td>0.155133</td>\n",
       "      <td>0.079149</td>\n",
       "      <td>0.198996</td>\n",
       "      <td>0.136921</td>\n",
       "      <td>0.113137</td>\n",
       "      <td>-0.140047</td>\n",
       "      <td>-0.115716</td>\n",
       "      <td>-0.025636</td>\n",
       "      <td>1.000000</td>\n",
       "    </tr>\n",
       "  </tbody>\n",
       "</table>\n",
       "</div>"
      ],
      "text/plain": [
       "            W         R        AB         H        2B        3B        HR  \\\n",
       "W    1.000000  0.430751 -0.087947  0.037612  0.427797 -0.251118  0.307407   \n",
       "R    0.430751  1.000000  0.319464  0.482856  0.560084 -0.070072  0.671283   \n",
       "AB  -0.087947  0.319464  1.000000  0.739122  0.453370  0.435422 -0.066983   \n",
       "H    0.037612  0.482856  0.739122  1.000000  0.566847  0.478694 -0.090855   \n",
       "2B   0.427797  0.560084  0.453370  0.566847  1.000000  0.220490  0.056292   \n",
       "3B  -0.251118 -0.070072  0.435422  0.478694  0.220490  1.000000 -0.430915   \n",
       "HR   0.307407  0.671283 -0.066983 -0.090855  0.056292 -0.430915  1.000000   \n",
       "BB   0.484342  0.402452 -0.136414 -0.118281  0.302700 -0.454949  0.425691   \n",
       "SO   0.111850 -0.054726 -0.106022 -0.398830 -0.150752 -0.141196  0.359923   \n",
       "SB  -0.157234  0.081367  0.372618  0.413444  0.195027  0.457437 -0.136567   \n",
       "RA  -0.812952 -0.041623  0.316010  0.224324 -0.218160  0.314125 -0.103903   \n",
       "ER  -0.809435 -0.041245  0.309686  0.252489 -0.235531  0.340225 -0.085922   \n",
       "ERA -0.819600 -0.049281  0.255551  0.231172 -0.254854  0.330951 -0.090917   \n",
       "CG   0.080533  0.232042 -0.080876  0.147955  0.306675 -0.065898  0.156502   \n",
       "SHO  0.471805 -0.103274 -0.197321 -0.145559  0.057998 -0.041396 -0.019119   \n",
       "SV   0.666530 -0.096380 -0.106367 -0.130371  0.171576 -0.142370 -0.028540   \n",
       "E   -0.089485 -0.023262  0.316743 -0.033173  0.105754  0.126678 -0.207597   \n",
       "\n",
       "           BB        SO        SB        RA        ER       ERA        CG  \\\n",
       "W    0.484342  0.111850 -0.157234 -0.812952 -0.809435 -0.819600  0.080533   \n",
       "R    0.402452 -0.054726  0.081367 -0.041623 -0.041245 -0.049281  0.232042   \n",
       "AB  -0.136414 -0.106022  0.372618  0.316010  0.309686  0.255551 -0.080876   \n",
       "H   -0.118281 -0.398830  0.413444  0.224324  0.252489  0.231172  0.147955   \n",
       "2B   0.302700 -0.150752  0.195027 -0.218160 -0.235531 -0.254854  0.306675   \n",
       "3B  -0.454949 -0.141196  0.457437  0.314125  0.340225  0.330951 -0.065898   \n",
       "HR   0.425691  0.359923 -0.136567 -0.103903 -0.085922 -0.090917  0.156502   \n",
       "BB   1.000000  0.233652 -0.098347 -0.416445 -0.452663 -0.459832  0.462478   \n",
       "SO   0.233652  1.000000  0.030968 -0.129745 -0.161612 -0.180368 -0.093418   \n",
       "SB  -0.098347  0.030968  1.000000  0.132290  0.143068  0.126063 -0.020783   \n",
       "RA  -0.416445 -0.129745  0.132290  1.000000  0.991018  0.986674 -0.016659   \n",
       "ER  -0.452663 -0.161612  0.143068  0.991018  1.000000  0.997248 -0.020221   \n",
       "ERA -0.459832 -0.180368  0.126063  0.986674  0.997248  1.000000 -0.009856   \n",
       "CG   0.462478 -0.093418 -0.020783 -0.016659 -0.020221 -0.009856  1.000000   \n",
       "SHO  0.426004  0.237721 -0.106563 -0.636862 -0.630192 -0.630833  0.241676   \n",
       "SV   0.099445  0.126297 -0.183418 -0.616224 -0.589663 -0.607005 -0.367766   \n",
       "E   -0.075685  0.155133  0.079149  0.198996  0.136921  0.113137 -0.140047   \n",
       "\n",
       "          SHO        SV         E  \n",
       "W    0.471805  0.666530 -0.089485  \n",
       "R   -0.103274 -0.096380 -0.023262  \n",
       "AB  -0.197321 -0.106367  0.316743  \n",
       "H   -0.145559 -0.130371 -0.033173  \n",
       "2B   0.057998  0.171576  0.105754  \n",
       "3B  -0.041396 -0.142370  0.126678  \n",
       "HR  -0.019119 -0.028540 -0.207597  \n",
       "BB   0.426004  0.099445 -0.075685  \n",
       "SO   0.237721  0.126297  0.155133  \n",
       "SB  -0.106563 -0.183418  0.079149  \n",
       "RA  -0.636862 -0.616224  0.198996  \n",
       "ER  -0.630192 -0.589663  0.136921  \n",
       "ERA -0.630833 -0.607005  0.113137  \n",
       "CG   0.241676 -0.367766 -0.140047  \n",
       "SHO  1.000000  0.221639 -0.115716  \n",
       "SV   0.221639  1.000000 -0.025636  \n",
       "E   -0.115716 -0.025636  1.000000  "
      ]
     },
     "execution_count": 8,
     "metadata": {},
     "output_type": "execute_result"
    }
   ],
   "source": [
    "data.corr()"
   ]
  },
  {
   "cell_type": "code",
   "execution_count": 9,
   "id": "3d160338",
   "metadata": {},
   "outputs": [
    {
     "data": {
      "image/png": "[encoded data removed]",
      "text/plain": [
       "<Figure size 1440x864 with 2 Axes>"
      ]
     },
     "metadata": {
      "needs_background": "light"
     },
     "output_type": "display_data"
    }
   ],
   "source": [
    "plt.figure(figsize=(20,12))\n",
    "sns.heatmap(data.corr(), annot=True)\n",
    "plt.show()"
   ]
  },
  {
   "cell_type": "markdown",
   "id": "084c2db8",
   "metadata": {},
   "source": [
    "5 Features having strong positive correlation with target W ,more the 0.40.\n",
    "\n",
    "3 Features having strong negative correlation with target W ,more the 0.80.\n",
    "\n",
    "4 Features having very less relation within range of (0.1 to -0.1)\n",
    "multicollinearity problem also clearly showing in dataset, these 3 featues are strongly correlated (ERA,RA,ER), so we can keep 1 feature out of 3."
   ]
  },
  {
   "cell_type": "markdown",
   "id": "ab198841",
   "metadata": {},
   "source": [
    "### Distribution Plot"
   ]
  },
  {
   "cell_type": "code",
   "execution_count": 10,
   "id": "660e35dd",
   "metadata": {},
   "outputs": [
    {
     "data": {
      "image/png": "[encoded data removed]",
      "text/plain": [
       "<Figure size 1440x720 with 17 Axes>"
      ]
     },
     "metadata": {
      "needs_background": "light"
     },
     "output_type": "display_data"
    }
   ],
   "source": [
    "plt.figure(figsize=(20,10))\n",
    "\n",
    "plotnumber=1\n",
    "\n",
    "for col in data :\n",
    "    if plotnumber<=17:\n",
    "        ax=plt.subplot(4,5,plotnumber)\n",
    "        sns.distplot(data[col])\n",
    "        \n",
    "    plotnumber+=1\n",
    "    \n",
    "plt.tight_layout()"
   ]
  },
  {
   "cell_type": "markdown",
   "id": "ab89e2a7",
   "metadata": {},
   "source": [
    "As we have very less data points but still all features near to normally distribution. few features are bit skewed will check it."
   ]
  },
  {
   "cell_type": "markdown",
   "id": "c65e8b4a",
   "metadata": {},
   "source": [
    "### Skewness"
   ]
  },
  {
   "cell_type": "code",
   "execution_count": 11,
   "id": "06d7cb0c",
   "metadata": {},
   "outputs": [
    {
     "data": {
      "text/plain": [
       "W      0.047089\n",
       "R      1.200786\n",
       "AB     0.183437\n",
       "H      0.670254\n",
       "2B    -0.230650\n",
       "3B     0.129502\n",
       "HR     0.516441\n",
       "BB     0.158498\n",
       "SO    -0.156065\n",
       "SB     0.479893\n",
       "RA     0.045734\n",
       "ER     0.058710\n",
       "ERA    0.053331\n",
       "CG     0.736845\n",
       "SHO    0.565790\n",
       "SV     0.657524\n",
       "E      0.890132\n",
       "dtype: float64"
      ]
     },
     "execution_count": 11,
     "metadata": {},
     "output_type": "execute_result"
    }
   ],
   "source": [
    "data.skew()"
   ]
  },
  {
   "cell_type": "markdown",
   "id": "00fb82f0",
   "metadata": {},
   "source": [
    "features i.e. R,E,CG which skewed right but we cant afford any loss in data points."
   ]
  },
  {
   "cell_type": "markdown",
   "id": "d83afc8f",
   "metadata": {},
   "source": [
    "### Boxplot for Outliers Testing"
   ]
  },
  {
   "cell_type": "code",
   "execution_count": 12,
   "id": "d49d35af",
   "metadata": {},
   "outputs": [
    {
     "data": {
      "image/png": "[encoded data removed]",
      "text/plain": [
       "<Figure size 1440x720 with 17 Axes>"
      ]
     },
     "metadata": {
      "needs_background": "light"
     },
     "output_type": "display_data"
    }
   ],
   "source": [
    "plt.figure(figsize=(20,10))\n",
    "\n",
    "plotnumber=1\n",
    "\n",
    "for col in data:\n",
    "    if plotnumber<=17:\n",
    "        ax=plt.subplot(4,5,plotnumber)\n",
    "        sns.boxplot(data[col],color='orange')\n",
    "        \n",
    "    plotnumber+=1\n",
    "    \n",
    "plt.tight_layout()"
   ]
  },
  {
   "cell_type": "markdown",
   "id": "77a45985",
   "metadata": {},
   "source": [
    "feature E having few outliers rest all are good to go. will continue with same data."
   ]
  },
  {
   "cell_type": "markdown",
   "id": "2c8a57a3",
   "metadata": {},
   "source": [
    "### Upsampling"
   ]
  },
  {
   "cell_type": "markdown",
   "id": "09230788",
   "metadata": {},
   "source": [
    "as we have very less dataset so performing upsampling, with less number of observation model can lead to overfit. "
   ]
  },
  {
   "cell_type": "code",
   "execution_count": 247,
   "id": "5587570b",
   "metadata": {},
   "outputs": [],
   "source": [
    "from sklearn.utils import resample\n",
    "\n",
    "upsample=resample(data,replace=True,n_samples=200,random_state=22)"
   ]
  },
  {
   "cell_type": "markdown",
   "id": "98175058",
   "metadata": {},
   "source": [
    "### Split Dataset"
   ]
  },
  {
   "cell_type": "code",
   "execution_count": 248,
   "id": "43a36ec6",
   "metadata": {},
   "outputs": [],
   "source": [
    "X=upsample.drop(columns=['W'])\n",
    "y=upsample.W"
   ]
  },
  {
   "cell_type": "markdown",
   "id": "42b35ad4",
   "metadata": {},
   "source": [
    "### Scaling"
   ]
  },
  {
   "cell_type": "code",
   "execution_count": 249,
   "id": "4d531187",
   "metadata": {},
   "outputs": [],
   "source": [
    "scaler=StandardScaler()\n",
    "x_scale=scaler.fit_transform(X)"
   ]
  },
  {
   "cell_type": "code",
   "execution_count": 250,
   "id": "1ff7de67",
   "metadata": {},
   "outputs": [
    {
     "data": {
      "text/plain": [
       "(200, 16)"
      ]
     },
     "execution_count": 250,
     "metadata": {},
     "output_type": "execute_result"
    }
   ],
   "source": [
    "x_scale.shape"
   ]
  },
  {
   "cell_type": "markdown",
   "id": "164437af",
   "metadata": {},
   "source": [
    "### Multicollinearity detection using VIF"
   ]
  },
  {
   "cell_type": "code",
   "execution_count": 251,
   "id": "cba5c163",
   "metadata": {},
   "outputs": [
    {
     "data": {
      "text/html": [
       "<div>\n",
       "<style scoped>\n",
       "    .dataframe tbody tr th:only-of-type {\n",
       "        vertical-align: middle;\n",
       "    }\n",
       "\n",
       "    .dataframe tbody tr th {\n",
       "        vertical-align: top;\n",
       "    }\n",
       "\n",
       "    .dataframe thead th {\n",
       "        text-align: right;\n",
       "    }\n",
       "</style>\n",
       "<table border=\"1\" class=\"dataframe\">\n",
       "  <thead>\n",
       "    <tr style=\"text-align: right;\">\n",
       "      <th></th>\n",
       "      <th>vif</th>\n",
       "      <th>features</th>\n",
       "    </tr>\n",
       "  </thead>\n",
       "  <tbody>\n",
       "    <tr>\n",
       "      <th>0</th>\n",
       "      <td>12.080721</td>\n",
       "      <td>R</td>\n",
       "    </tr>\n",
       "    <tr>\n",
       "      <th>1</th>\n",
       "      <td>12.863991</td>\n",
       "      <td>AB</td>\n",
       "    </tr>\n",
       "    <tr>\n",
       "      <th>2</th>\n",
       "      <td>10.652565</td>\n",
       "      <td>H</td>\n",
       "    </tr>\n",
       "    <tr>\n",
       "      <th>3</th>\n",
       "      <td>3.520597</td>\n",
       "      <td>2B</td>\n",
       "    </tr>\n",
       "    <tr>\n",
       "      <th>4</th>\n",
       "      <td>4.077203</td>\n",
       "      <td>3B</td>\n",
       "    </tr>\n",
       "    <tr>\n",
       "      <th>5</th>\n",
       "      <td>10.976846</td>\n",
       "      <td>HR</td>\n",
       "    </tr>\n",
       "    <tr>\n",
       "      <th>6</th>\n",
       "      <td>4.310555</td>\n",
       "      <td>BB</td>\n",
       "    </tr>\n",
       "    <tr>\n",
       "      <th>7</th>\n",
       "      <td>2.969469</td>\n",
       "      <td>SO</td>\n",
       "    </tr>\n",
       "    <tr>\n",
       "      <th>8</th>\n",
       "      <td>2.161533</td>\n",
       "      <td>SB</td>\n",
       "    </tr>\n",
       "    <tr>\n",
       "      <th>9</th>\n",
       "      <td>223.963988</td>\n",
       "      <td>RA</td>\n",
       "    </tr>\n",
       "    <tr>\n",
       "      <th>10</th>\n",
       "      <td>2028.530076</td>\n",
       "      <td>ER</td>\n",
       "    </tr>\n",
       "    <tr>\n",
       "      <th>11</th>\n",
       "      <td>1498.116085</td>\n",
       "      <td>ERA</td>\n",
       "    </tr>\n",
       "    <tr>\n",
       "      <th>12</th>\n",
       "      <td>3.205440</td>\n",
       "      <td>CG</td>\n",
       "    </tr>\n",
       "    <tr>\n",
       "      <th>13</th>\n",
       "      <td>4.095923</td>\n",
       "      <td>SHO</td>\n",
       "    </tr>\n",
       "    <tr>\n",
       "      <th>14</th>\n",
       "      <td>5.847162</td>\n",
       "      <td>SV</td>\n",
       "    </tr>\n",
       "    <tr>\n",
       "      <th>15</th>\n",
       "      <td>2.123418</td>\n",
       "      <td>E</td>\n",
       "    </tr>\n",
       "  </tbody>\n",
       "</table>\n",
       "</div>"
      ],
      "text/plain": [
       "            vif features\n",
       "0     12.080721        R\n",
       "1     12.863991       AB\n",
       "2     10.652565        H\n",
       "3      3.520597       2B\n",
       "4      4.077203       3B\n",
       "5     10.976846       HR\n",
       "6      4.310555       BB\n",
       "7      2.969469       SO\n",
       "8      2.161533       SB\n",
       "9    223.963988       RA\n",
       "10  2028.530076       ER\n",
       "11  1498.116085      ERA\n",
       "12     3.205440       CG\n",
       "13     4.095923      SHO\n",
       "14     5.847162       SV\n",
       "15     2.123418        E"
      ]
     },
     "execution_count": 251,
     "metadata": {},
     "output_type": "execute_result"
    }
   ],
   "source": [
    "#multicollinearity using VIF\n",
    "from statsmodels.stats.outliers_influence import variance_inflation_factor\n",
    "vif=pd.DataFrame()\n",
    "\n",
    "vif['vif']=[variance_inflation_factor(x_scale,i) for i in range(x_scale.shape[1])]\n",
    "\n",
    "vif[\"features\"]=X.columns\n",
    "\n",
    "vif"
   ]
  },
  {
   "cell_type": "code",
   "execution_count": 252,
   "id": "3dde0411",
   "metadata": {},
   "outputs": [],
   "source": [
    "X.drop(columns=['ER','ERA'],inplace=True)"
   ]
  },
  {
   "cell_type": "code",
   "execution_count": 254,
   "id": "ee12e1e3",
   "metadata": {},
   "outputs": [
    {
     "data": {
      "text/plain": [
       "(200, 14)"
      ]
     },
     "execution_count": 254,
     "metadata": {},
     "output_type": "execute_result"
    }
   ],
   "source": [
    "X.shape"
   ]
  },
  {
   "cell_type": "markdown",
   "id": "aa585ba7",
   "metadata": {},
   "source": [
    "we observed multicollinearity problem in heatmap , same result showing in vif. so removing 2 features. "
   ]
  },
  {
   "cell_type": "markdown",
   "id": "4541348f",
   "metadata": {},
   "source": [
    "### Train Test Split"
   ]
  },
  {
   "cell_type": "code",
   "execution_count": 255,
   "id": "2cfaced2",
   "metadata": {},
   "outputs": [
    {
     "name": "stdout",
     "output_type": "stream",
     "text": [
      "0.9490704591390657 10\n",
      "0.976727025960801 13\n",
      "0.9537009890925684 16\n",
      "0.9453732992592849 19\n",
      "0.9473270979993849 22\n",
      "0.9505173554566702 25\n",
      "0.9475259334321116 28\n",
      "0.9470099187310245 31\n",
      "0.9501784880359937 34\n",
      "0.9518797266380735 37\n",
      "0.955812741565818 40\n",
      "0.9446372087321906 43\n",
      "0.9475450377346044 46\n",
      "0.9539825761652136 49\n",
      "0.9473544530509412 52\n",
      "0.9525656839991833 55\n",
      "0.9522623748020521 58\n",
      "0.9542129686917651 61\n",
      "0.9540085495067002 64\n",
      "0.9520507498023307 67\n",
      "0.9531602454591813 70\n",
      "0.9479343598672197 73\n",
      "0.954080691343589 76\n",
      "0.9538650045801375 79\n",
      "0.9485426187949286 82\n",
      "0.9792935700635685 85\n",
      "0.9600167999374049 88\n",
      "0.9509420805800946 91\n",
      "0.9493760016377526 94\n",
      "0.9482973448814187 97\n"
     ]
    }
   ],
   "source": [
    "# testing best random state\n",
    "for i in range(10,100,3):\n",
    "    x_train,x_test,y_train,y_test=train_test_split(x_scale,y,test_size=0.25,random_state=i)\n",
    "    lr=LinearRegression()\n",
    "    lr.fit(x_train,y_train)\n",
    "    \n",
    "    print(lr.score(x_train,y_train),i)"
   ]
  },
  {
   "cell_type": "markdown",
   "id": "b3b89bed",
   "metadata": {},
   "source": [
    "we are getting best training score wit random state 85. so will go for it. "
   ]
  },
  {
   "cell_type": "code",
   "execution_count": 256,
   "id": "33690013",
   "metadata": {},
   "outputs": [],
   "source": [
    "x_train,x_test,y_train,y_test=train_test_split(x_scale,y,test_size=0.15,random_state=85)"
   ]
  },
  {
   "cell_type": "markdown",
   "id": "82e0e0ef",
   "metadata": {},
   "source": [
    "### Model Building"
   ]
  },
  {
   "cell_type": "code",
   "execution_count": 257,
   "id": "820d190b",
   "metadata": {},
   "outputs": [],
   "source": [
    "lr=LinearRegression()\n",
    "rfr=RandomForestRegressor()\n",
    "knn=KNeighborsRegressor()\n",
    "svm=SVR()\n",
    "gbr=GradientBoostingRegressor()"
   ]
  },
  {
   "cell_type": "code",
   "execution_count": 258,
   "id": "3f3535c4",
   "metadata": {},
   "outputs": [
    {
     "data": {
      "text/plain": [
       "GradientBoostingRegressor()"
      ]
     },
     "execution_count": 258,
     "metadata": {},
     "output_type": "execute_result"
    }
   ],
   "source": [
    "lr.fit(x_train,y_train)\n",
    "rfr.fit(x_train,y_train)\n",
    "knn.fit(x_train,y_train)\n",
    "svm.fit(x_train,y_train)\n",
    "gbr.fit(x_train,y_train)\n"
   ]
  },
  {
   "cell_type": "markdown",
   "id": "8dfd6971",
   "metadata": {},
   "source": [
    "### Training Score"
   ]
  },
  {
   "cell_type": "code",
   "execution_count": 259,
   "id": "ec2d41bf",
   "metadata": {},
   "outputs": [
    {
     "name": "stdout",
     "output_type": "stream",
     "text": [
      "0.9605595072364722\n",
      "0.9982860932375998\n",
      "0.9702210192493665\n",
      "0.8661325719949702\n",
      "0.9999938846173525\n"
     ]
    }
   ],
   "source": [
    "print(lr.score(x_train,y_train))\n",
    "print(rfr.score(x_train,y_train))\n",
    "print(knn.score(x_train,y_train))\n",
    "print(svm.score(x_train,y_train))\n",
    "print(gbr.score(x_train,y_train))"
   ]
  },
  {
   "cell_type": "markdown",
   "id": "f1426e98",
   "metadata": {},
   "source": [
    "### Testing score(r2_score)"
   ]
  },
  {
   "cell_type": "code",
   "execution_count": 260,
   "id": "2e72b628",
   "metadata": {},
   "outputs": [
    {
     "name": "stdout",
     "output_type": "stream",
     "text": [
      "77.47936507949632\n"
     ]
    }
   ],
   "source": [
    "#lr score\n",
    "\n",
    "y_pred=lr.predict(x_test)\n",
    "print(r2_score(y_test,y_pred)*100)"
   ]
  },
  {
   "cell_type": "code",
   "execution_count": 261,
   "id": "78f6e407",
   "metadata": {},
   "outputs": [
    {
     "name": "stdout",
     "output_type": "stream",
     "text": [
      "96.55892075471698\n"
     ]
    }
   ],
   "source": [
    "#rfr score\n",
    "\n",
    "y_pred=rfr.predict(x_test)\n",
    "print(r2_score(y_test,y_pred)*100)"
   ]
  },
  {
   "cell_type": "code",
   "execution_count": 262,
   "id": "7380b39c",
   "metadata": {},
   "outputs": [
    {
     "name": "stdout",
     "output_type": "stream",
     "text": [
      "65.80226415094339\n"
     ]
    }
   ],
   "source": [
    "#knn score\n",
    "\n",
    "y_pred=knn.predict(x_test)\n",
    "print(r2_score(y_test,y_pred)*100)"
   ]
  },
  {
   "cell_type": "code",
   "execution_count": 263,
   "id": "2a1ee99c",
   "metadata": {},
   "outputs": [
    {
     "name": "stdout",
     "output_type": "stream",
     "text": [
      "74.05045380026114\n"
     ]
    }
   ],
   "source": [
    "#svm score\n",
    "\n",
    "y_pred=svm.predict(x_test)\n",
    "print(r2_score(y_test,y_pred)*100)"
   ]
  },
  {
   "cell_type": "code",
   "execution_count": 264,
   "id": "70768418",
   "metadata": {},
   "outputs": [
    {
     "name": "stdout",
     "output_type": "stream",
     "text": [
      "99.9982845100332\n"
     ]
    }
   ],
   "source": [
    "#gbr score\n",
    "\n",
    "y_pred=gbr.predict(x_test)\n",
    "print(r2_score(y_test,y_pred)*100)"
   ]
  },
  {
   "cell_type": "markdown",
   "id": "f7f873cc",
   "metadata": {},
   "source": [
    "Getting best score with gbr(GradientBoostingRegressor).. lets cross validate"
   ]
  },
  {
   "cell_type": "markdown",
   "id": "a0b8d3c4",
   "metadata": {},
   "source": [
    "### Cross Validation"
   ]
  },
  {
   "cell_type": "code",
   "execution_count": 265,
   "id": "b53c27bf",
   "metadata": {},
   "outputs": [],
   "source": [
    "from sklearn.model_selection import cross_val_score"
   ]
  },
  {
   "cell_type": "code",
   "execution_count": 266,
   "id": "538e7ca7",
   "metadata": {},
   "outputs": [
    {
     "name": "stdout",
     "output_type": "stream",
     "text": [
      "cv_score for LogisticRegression:  92.51155166349838\n",
      "\n",
      "cv_score for RandomForestRegressor:  98.7037326849545\n",
      "\n",
      "cv_score for SVR:  77.24503390459014\n",
      "\n",
      "cv_score for KNN:  89.94889608903426\n",
      "\n",
      "cv_score for GradientBoostingRegressor:  99.18444416682358\n"
     ]
    }
   ],
   "source": [
    "print('cv_score for LogisticRegression: ', np.mean(cross_val_score(lr,x_train,y_train)*100))\n",
    "print('\\ncv_score for RandomForestRegressor: ', np.mean(cross_val_score(rfr,x_train,y_train)*100))\n",
    "print('\\ncv_score for SVR: ', np.mean(cross_val_score(svm,x_train,y_train)*100))\n",
    "print('\\ncv_score for KNN: ', np.mean(cross_val_score(knn,x_train,y_train)*100))\n",
    "print('\\ncv_score for GradientBoostingRegressor: ', np.mean(cross_val_score(gbr,x_train,y_train)*100))"
   ]
  },
  {
   "cell_type": "markdown",
   "id": "132eb40a",
   "metadata": {},
   "source": [
    "cross validation score of GradientBoostingRegressor is highest so will be our final model"
   ]
  },
  {
   "cell_type": "markdown",
   "id": "15529a19",
   "metadata": {},
   "source": [
    "### Model Selection"
   ]
  },
  {
   "cell_type": "markdown",
   "id": "04dc9689",
   "metadata": {},
   "source": [
    "we are getting best model & test score around 100% with  GradientBoostingRegressor.\n",
    "\n",
    "GradientBoostingRegressor"
   ]
  },
  {
   "cell_type": "code",
   "execution_count": 267,
   "id": "fdfed65c",
   "metadata": {},
   "outputs": [],
   "source": [
    "gbr=GradientBoostingRegressor()\n",
    "\n",
    "gbr.fit(x_train,y_train)\n",
    "y_pred=gbr.predict(x_test)"
   ]
  },
  {
   "cell_type": "code",
   "execution_count": 268,
   "id": "a27862b8",
   "metadata": {},
   "outputs": [
    {
     "name": "stdout",
     "output_type": "stream",
     "text": [
      "R Squared score:  99.9982845100332\n",
      "\n",
      "Mean squared error:  0.0015153494706762853\n",
      "\n",
      "Mean absolute error:  0.03143839155591337\n",
      "\n",
      "Root mean square error:  0.03892748990978336\n"
     ]
    }
   ],
   "source": [
    "print('R Squared score: ',r2_score(y_test,y_pred)*100)\n",
    "print('\\nMean squared error: ',mean_squared_error(y_test,y_pred))\n",
    "print('\\nMean absolute error: ',mean_absolute_error(y_test,y_pred))\n",
    "print('\\nRoot mean square error: ',np.sqrt(mean_squared_error(y_test,y_pred)))"
   ]
  },
  {
   "cell_type": "markdown",
   "id": "8ec43ad1",
   "metadata": {},
   "source": [
    "### HyperParameter Tunning"
   ]
  },
  {
   "cell_type": "markdown",
   "id": "4fd536c5",
   "metadata": {},
   "source": [
    "since our model performing with 100% accuracy score with default parameters. so no need to do hyperparameter tunning. "
   ]
  },
  {
   "cell_type": "markdown",
   "id": "dadaafb2",
   "metadata": {},
   "source": [
    "### Model save"
   ]
  },
  {
   "cell_type": "code",
   "execution_count": 270,
   "id": "888e18f1",
   "metadata": {},
   "outputs": [],
   "source": [
    "filename='Baseball_study.pickle'\n",
    "\n",
    "pickle.dump(rfr,open(filename,'wb'))"
   ]
  }
 ],
 "metadata": {
  "kernelspec": {
   "display_name": "Python 3",
   "language": "python",
   "name": "python3"
  },
  "language_info": {
   "codemirror_mode": {
    "name": "ipython",
    "version": 3
   },
   "file_extension": ".py",
   "mimetype": "text/x-python",
   "name": "python",
   "nbconvert_exporter": "python",
   "pygments_lexer": "ipython3",
   "version": "3.8.8"
  }
 },
 "nbformat": 4,
 "nbformat_minor": 5
}
