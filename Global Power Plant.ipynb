{
 "cells": [
  {
   "cell_type": "markdown",
   "id": "cfc2a544",
   "metadata": {},
   "source": [
    "### Global Power Plant"
   ]
  },
  {
   "cell_type": "markdown",
   "id": "8f494f10",
   "metadata": {},
   "source": [
    "Global Power Plant Database\n",
    "Problem Statement:\n",
    "Description\n",
    "\n",
    "The Global Power Plant Database is a comprehensive, open source database of power plants around the world. It centralizes power plant data to make it easier to navigate, compare and draw insights for one’s own analysis. The database covers approximately 35,000 power plants from 167 countries and includes thermal plants (e.g. coal, gas, oil, nuclear, biomass, waste, geothermal) and renewables (e.g. hydro, wind, solar). Each power plant is geolocated and entries contain information on plant capacity, generation, ownership, and fuel type. It will be continuously updated as data becomes available.\n",
    "\n",
    "Key attributes of the database\n",
    "The database includes the following indicators:\n",
    "\n",
    "`country` (text): 3 character country code corresponding to the ISO 3166-1 alpha-3 specification [5]\n",
    "`country_long` (text): longer form of the country designation\n",
    "`name` (text): name or title of the power plant, generally in Romanized form\n",
    "`gppd_idnr` (text): 10 or 12 character identifier for the power plant\n",
    "`capacity_mw` (number): electrical generating capacity in megawatts\n",
    "`latitude` (number): geolocation in decimal degrees; WGS84 (EPSG:4326)\n",
    "`longitude` (number): geolocation in decimal degrees; WGS84 (EPSG:4326)\n",
    "`primary_fuel` (text): energy source used in primary electricity generation or export\n",
    "`other_fuel1` (text): energy source used in electricity generation or export\n",
    "`other_fuel2` (text): energy source used in electricity generation or export\n",
    "`other_fuel3` (text): energy source used in electricity generation or export\n",
    " `commissioning_year` (number): year of plant operation, weighted by unit-capacity when data is available\n",
    "`owner` (text): majority shareholder of the power plant, generally in Romanized form\n",
    "`source` (text): entity reporting the data; could be an organization, report, or document, generally in Romanized form\n",
    "`url` (text): web document corresponding to the `source` field\n",
    "`geolocation_source` (text): attribution for geolocation information\n",
    "`wepp_id` (text): a reference to a unique plant identifier in the widely-used PLATTS-WEPP database.\n",
    "`year_of_capacity_data` (number): year the capacity information was reported\n",
    "`generation_gwh_2013` (number): electricity generation in gigawatt-hours reported for the year 2013\n",
    "`generation_gwh_2014` (number): electricity generation in gigawatt-hours reported for the year 2014\n",
    "`generation_gwh_2015` (number): electricity generation in gigawatt-hours reported for the year 2015\n",
    "`generation_gwh_2016` (number): electricity generation in gigawatt-hours reported for the year 2016\n",
    "`generation_gwh_2017` (number): electricity generation in gigawatt-hours reported for the year 2017\n",
    "`generation_gwh_2018` (number): electricity generation in gigawatt-hours reported for the year 2018\n",
    "`generation_gwh_2019` (number): electricity generation in gigawatt-hours reported for the year 2019\n",
    "`generation_data_source` (text): attribution for the reported generation information\n",
    "`estimated_generation_gwh_2013` (number): estimated electricity generation in gigawatt-hours for the year 2013\n",
    "`estimated_generation_gwh_2014` (number): estimated electricity generation in gigawatt-hours for the year 2014 \n",
    "`estimated_generation_gwh_2015` (number): estimated electricity generation in gigawatt-hours for the year 2015 \n",
    "`estimated_generation_gwh_2016` (number): estimated electricity generation in gigawatt-hours for the year 2016 \n",
    "`estimated_generation_gwh_2017` (number): estimated electricity generation in gigawatt-hours for the year 2017 \n",
    "'estimated_generation_note_2013` (text): label of the model/method used to estimate generation for the year 2013\n",
    "`estimated_generation_note_2014` (text): label of the model/method used to estimate generation for the year 2014 \n",
    "`estimated_generation_note_2015` (text): label of the model/method used to estimate generation for the year 2015\n",
    "`estimated_generation_note_2016` (text): label of the model/method used to estimate generation for the year 2016\n",
    "`estimated_generation_note_2017` (text): label of the model/method used to estimate generation for the year 2017 \n",
    "Fuel Type Aggregation\n",
    "We define the \"Fuel Type\" attribute of our database based on common fuel categories. \n",
    "\n",
    "Prediction :   Make two prediction  1) Primary Fuel    2) capacity_mw \n",
    "\n",
    "Find the dataset link below. \n",
    "\n",
    "Downlaod Files:\n",
    "https://github.com/wri/global-power-plant-database/blob/master/source_databases_csv/database_IND.csv"
   ]
  },
  {
   "cell_type": "markdown",
   "id": "4c2882fc",
   "metadata": {},
   "source": [
    "### Importing Liberary"
   ]
  },
  {
   "cell_type": "code",
   "execution_count": 131,
   "id": "ca7ee6a2",
   "metadata": {},
   "outputs": [],
   "source": [
    "#data lib\n",
    "import pandas as pd\n",
    "import numpy as np\n",
    "%matplotlib inline\n",
    "\n",
    "#visualization\n",
    "import seaborn as sns\n",
    "import matplotlib.pyplot as plt\n",
    "\n",
    "#preprocessing\n",
    "\n",
    "from sklearn.preprocessing import StandardScaler\n",
    "from sklearn.model_selection import train_test_split,GridSearchCV\n",
    "\n",
    "#models\n",
    "\n",
    "from sklearn.linear_model import LinearRegression\n",
    "from sklearn.ensemble import RandomForestRegressor\n",
    "from sklearn.neighbors import KNeighborsRegressor\n",
    "from sklearn.svm import SVR\n",
    "\n",
    "#classification \n",
    "\n",
    "from sklearn.linear_model import LogisticRegression\n",
    "from sklearn.tree import DecisionTreeClassifier\n",
    "from sklearn.ensemble import RandomForestClassifier\n",
    "\n",
    "#metrics\n",
    "from sklearn.metrics import r2_score,mean_absolute_error,mean_squared_error\n",
    "from sklearn.metrics import accuracy_score,classification_report\n",
    "#model save\n",
    "import pickle\n",
    "import warnings\n",
    "warnings.filterwarnings('ignore')"
   ]
  },
  {
   "cell_type": "markdown",
   "id": "c1d298cf",
   "metadata": {},
   "source": [
    "### Importing Data"
   ]
  },
  {
   "cell_type": "code",
   "execution_count": 214,
   "id": "f8474fa1",
   "metadata": {},
   "outputs": [
    {
     "data": {
      "text/html": [
       "<div>\n",
       "<style scoped>\n",
       "    .dataframe tbody tr th:only-of-type {\n",
       "        vertical-align: middle;\n",
       "    }\n",
       "\n",
       "    .dataframe tbody tr th {\n",
       "        vertical-align: top;\n",
       "    }\n",
       "\n",
       "    .dataframe thead th {\n",
       "        text-align: right;\n",
       "    }\n",
       "</style>\n",
       "<table border=\"1\" class=\"dataframe\">\n",
       "  <thead>\n",
       "    <tr style=\"text-align: right;\">\n",
       "      <th></th>\n",
       "      <th>country</th>\n",
       "      <th>country_long</th>\n",
       "      <th>name</th>\n",
       "      <th>gppd_idnr</th>\n",
       "      <th>capacity_mw</th>\n",
       "      <th>latitude</th>\n",
       "      <th>longitude</th>\n",
       "      <th>primary_fuel</th>\n",
       "      <th>other_fuel1</th>\n",
       "      <th>other_fuel2</th>\n",
       "      <th>other_fuel3</th>\n",
       "      <th>commissioning_year</th>\n",
       "      <th>owner</th>\n",
       "      <th>source</th>\n",
       "      <th>url</th>\n",
       "      <th>geolocation_source</th>\n",
       "      <th>wepp_id</th>\n",
       "      <th>year_of_capacity_data</th>\n",
       "      <th>generation_gwh_2013</th>\n",
       "      <th>generation_gwh_2014</th>\n",
       "      <th>generation_gwh_2015</th>\n",
       "      <th>generation_gwh_2016</th>\n",
       "      <th>generation_gwh_2017</th>\n",
       "      <th>generation_data_source</th>\n",
       "      <th>estimated_generation_gwh</th>\n",
       "    </tr>\n",
       "  </thead>\n",
       "  <tbody>\n",
       "    <tr>\n",
       "      <th>554</th>\n",
       "      <td>IND</td>\n",
       "      <td>India</td>\n",
       "      <td>Nargund Wind Farm</td>\n",
       "      <td>WRI1026352</td>\n",
       "      <td>7.2</td>\n",
       "      <td>15.7319</td>\n",
       "      <td>75.3789</td>\n",
       "      <td>Wind</td>\n",
       "      <td>NaN</td>\n",
       "      <td>NaN</td>\n",
       "      <td>NaN</td>\n",
       "      <td>NaN</td>\n",
       "      <td>Bhoruka Power</td>\n",
       "      <td>CDM</td>\n",
       "      <td>https://cdm.unfccc.int/Projects/DB/PJR%20CDM13...</td>\n",
       "      <td>WRI</td>\n",
       "      <td>NaN</td>\n",
       "      <td>NaN</td>\n",
       "      <td>NaN</td>\n",
       "      <td>NaN</td>\n",
       "      <td>NaN</td>\n",
       "      <td>NaN</td>\n",
       "      <td>NaN</td>\n",
       "      <td>NaN</td>\n",
       "      <td>NaN</td>\n",
       "    </tr>\n",
       "    <tr>\n",
       "      <th>462</th>\n",
       "      <td>IND</td>\n",
       "      <td>India</td>\n",
       "      <td>MANGLAM CEMENT</td>\n",
       "      <td>WRI1019892</td>\n",
       "      <td>25.0</td>\n",
       "      <td>24.7176</td>\n",
       "      <td>75.9522</td>\n",
       "      <td>Coal</td>\n",
       "      <td>NaN</td>\n",
       "      <td>NaN</td>\n",
       "      <td>NaN</td>\n",
       "      <td>NaN</td>\n",
       "      <td>Manglam Cement ltd</td>\n",
       "      <td>Manglam Cement ltd</td>\n",
       "      <td>http://www.mangalamcement.com/</td>\n",
       "      <td>WRI</td>\n",
       "      <td>NaN</td>\n",
       "      <td>NaN</td>\n",
       "      <td>NaN</td>\n",
       "      <td>NaN</td>\n",
       "      <td>NaN</td>\n",
       "      <td>NaN</td>\n",
       "      <td>NaN</td>\n",
       "      <td>NaN</td>\n",
       "      <td>NaN</td>\n",
       "    </tr>\n",
       "    <tr>\n",
       "      <th>42</th>\n",
       "      <td>IND</td>\n",
       "      <td>India</td>\n",
       "      <td>BAGLIHAR HEP</td>\n",
       "      <td>IND0000020</td>\n",
       "      <td>450.0</td>\n",
       "      <td>33.1815</td>\n",
       "      <td>75.3155</td>\n",
       "      <td>Hydro</td>\n",
       "      <td>NaN</td>\n",
       "      <td>NaN</td>\n",
       "      <td>NaN</td>\n",
       "      <td>2008.0</td>\n",
       "      <td>NaN</td>\n",
       "      <td>Central Electricity Authority</td>\n",
       "      <td>http://www.cea.nic.in/</td>\n",
       "      <td>WRI</td>\n",
       "      <td>NaN</td>\n",
       "      <td>2018.0</td>\n",
       "      <td>2785.80100</td>\n",
       "      <td>2925.21045</td>\n",
       "      <td>2985.1393</td>\n",
       "      <td>2173.63720</td>\n",
       "      <td>2494.17645</td>\n",
       "      <td>Central Electricity Authority</td>\n",
       "      <td>NaN</td>\n",
       "    </tr>\n",
       "    <tr>\n",
       "      <th>53</th>\n",
       "      <td>IND</td>\n",
       "      <td>India</td>\n",
       "      <td>BANSAGAR (I)</td>\n",
       "      <td>IND0000029</td>\n",
       "      <td>315.0</td>\n",
       "      <td>24.1917</td>\n",
       "      <td>81.2875</td>\n",
       "      <td>Hydro</td>\n",
       "      <td>NaN</td>\n",
       "      <td>NaN</td>\n",
       "      <td>NaN</td>\n",
       "      <td>1991.0</td>\n",
       "      <td>NaN</td>\n",
       "      <td>Central Electricity Authority</td>\n",
       "      <td>http://www.cea.nic.in/</td>\n",
       "      <td>WRI</td>\n",
       "      <td>NaN</td>\n",
       "      <td>2018.0</td>\n",
       "      <td>1650.46620</td>\n",
       "      <td>1075.95320</td>\n",
       "      <td>571.6076</td>\n",
       "      <td>1232.82490</td>\n",
       "      <td>542.64315</td>\n",
       "      <td>Central Electricity Authority</td>\n",
       "      <td>NaN</td>\n",
       "    </tr>\n",
       "    <tr>\n",
       "      <th>422</th>\n",
       "      <td>IND</td>\n",
       "      <td>India</td>\n",
       "      <td>LIGANAMAKKI</td>\n",
       "      <td>IND0000232</td>\n",
       "      <td>55.0</td>\n",
       "      <td>14.1704</td>\n",
       "      <td>74.8388</td>\n",
       "      <td>Hydro</td>\n",
       "      <td>NaN</td>\n",
       "      <td>NaN</td>\n",
       "      <td>NaN</td>\n",
       "      <td>1979.0</td>\n",
       "      <td>NaN</td>\n",
       "      <td>Central Electricity Authority</td>\n",
       "      <td>http://www.cea.nic.in/</td>\n",
       "      <td>WRI</td>\n",
       "      <td>NaN</td>\n",
       "      <td>2018.0</td>\n",
       "      <td>266.60030</td>\n",
       "      <td>254.98865</td>\n",
       "      <td>118.3453</td>\n",
       "      <td>105.11180</td>\n",
       "      <td>124.92225</td>\n",
       "      <td>Central Electricity Authority</td>\n",
       "      <td>NaN</td>\n",
       "    </tr>\n",
       "    <tr>\n",
       "      <th>885</th>\n",
       "      <td>IND</td>\n",
       "      <td>India</td>\n",
       "      <td>VRL Wind Farm</td>\n",
       "      <td>WRI1026103</td>\n",
       "      <td>42.5</td>\n",
       "      <td>NaN</td>\n",
       "      <td>NaN</td>\n",
       "      <td>Wind</td>\n",
       "      <td>NaN</td>\n",
       "      <td>NaN</td>\n",
       "      <td>NaN</td>\n",
       "      <td>NaN</td>\n",
       "      <td>NaN</td>\n",
       "      <td>CDM</td>\n",
       "      <td>https://cdm.unfccc.int/Projects/DB/SGS-UKL1225...</td>\n",
       "      <td>NaN</td>\n",
       "      <td>NaN</td>\n",
       "      <td>NaN</td>\n",
       "      <td>NaN</td>\n",
       "      <td>NaN</td>\n",
       "      <td>NaN</td>\n",
       "      <td>NaN</td>\n",
       "      <td>NaN</td>\n",
       "      <td>NaN</td>\n",
       "      <td>NaN</td>\n",
       "    </tr>\n",
       "    <tr>\n",
       "      <th>597</th>\n",
       "      <td>IND</td>\n",
       "      <td>India</td>\n",
       "      <td>PRIYADARSHNI JURALA</td>\n",
       "      <td>IND0000345</td>\n",
       "      <td>234.0</td>\n",
       "      <td>16.3328</td>\n",
       "      <td>77.7036</td>\n",
       "      <td>Hydro</td>\n",
       "      <td>NaN</td>\n",
       "      <td>NaN</td>\n",
       "      <td>NaN</td>\n",
       "      <td>2009.0</td>\n",
       "      <td>NaN</td>\n",
       "      <td>Central Electricity Authority</td>\n",
       "      <td>http://www.cea.nic.in/</td>\n",
       "      <td>WRI</td>\n",
       "      <td>NaN</td>\n",
       "      <td>2018.0</td>\n",
       "      <td>269.43605</td>\n",
       "      <td>223.52675</td>\n",
       "      <td>30.2679</td>\n",
       "      <td>210.93005</td>\n",
       "      <td>216.31300</td>\n",
       "      <td>Central Electricity Authority</td>\n",
       "      <td>NaN</td>\n",
       "    </tr>\n",
       "    <tr>\n",
       "      <th>788</th>\n",
       "      <td>IND</td>\n",
       "      <td>India</td>\n",
       "      <td>TALWANDI SABO</td>\n",
       "      <td>IND0000440</td>\n",
       "      <td>1980.0</td>\n",
       "      <td>29.9240</td>\n",
       "      <td>75.2372</td>\n",
       "      <td>Coal</td>\n",
       "      <td>Oil</td>\n",
       "      <td>NaN</td>\n",
       "      <td>NaN</td>\n",
       "      <td>2015.0</td>\n",
       "      <td>NaN</td>\n",
       "      <td>Central Electricity Authority</td>\n",
       "      <td>http://www.cea.nic.in/</td>\n",
       "      <td>WRI</td>\n",
       "      <td>NaN</td>\n",
       "      <td>2018.0</td>\n",
       "      <td>NaN</td>\n",
       "      <td>1423.72450</td>\n",
       "      <td>2850.9900</td>\n",
       "      <td>6618.71540</td>\n",
       "      <td>7915.70000</td>\n",
       "      <td>Central Electricity Authority</td>\n",
       "      <td>NaN</td>\n",
       "    </tr>\n",
       "    <tr>\n",
       "      <th>446</th>\n",
       "      <td>IND</td>\n",
       "      <td>India</td>\n",
       "      <td>MADHAVAMANTRI</td>\n",
       "      <td>IND0000244</td>\n",
       "      <td>4.5</td>\n",
       "      <td>12.2135</td>\n",
       "      <td>77.0225</td>\n",
       "      <td>Hydro</td>\n",
       "      <td>NaN</td>\n",
       "      <td>NaN</td>\n",
       "      <td>NaN</td>\n",
       "      <td>2003.0</td>\n",
       "      <td>NaN</td>\n",
       "      <td>Central Electricity Authority</td>\n",
       "      <td>http://www.cea.nic.in/</td>\n",
       "      <td>WRI</td>\n",
       "      <td>NaN</td>\n",
       "      <td>2018.0</td>\n",
       "      <td>NaN</td>\n",
       "      <td>NaN</td>\n",
       "      <td>NaN</td>\n",
       "      <td>NaN</td>\n",
       "      <td>NaN</td>\n",
       "      <td>NaN</td>\n",
       "      <td>NaN</td>\n",
       "    </tr>\n",
       "    <tr>\n",
       "      <th>195</th>\n",
       "      <td>IND</td>\n",
       "      <td>India</td>\n",
       "      <td>Devgarh Wind Farm</td>\n",
       "      <td>WRI1026089</td>\n",
       "      <td>37.5</td>\n",
       "      <td>23.9640</td>\n",
       "      <td>74.6215</td>\n",
       "      <td>Wind</td>\n",
       "      <td>NaN</td>\n",
       "      <td>NaN</td>\n",
       "      <td>NaN</td>\n",
       "      <td>NaN</td>\n",
       "      <td>NaN</td>\n",
       "      <td>CDM</td>\n",
       "      <td>https://cdm.unfccc.int/filestorage/Y/I/R/YIR8M...</td>\n",
       "      <td>WRI</td>\n",
       "      <td>NaN</td>\n",
       "      <td>NaN</td>\n",
       "      <td>NaN</td>\n",
       "      <td>NaN</td>\n",
       "      <td>NaN</td>\n",
       "      <td>NaN</td>\n",
       "      <td>NaN</td>\n",
       "      <td>NaN</td>\n",
       "      <td>NaN</td>\n",
       "    </tr>\n",
       "  </tbody>\n",
       "</table>\n",
       "</div>"
      ],
      "text/plain": [
       "    country country_long                 name   gppd_idnr  capacity_mw  \\\n",
       "554     IND        India    Nargund Wind Farm  WRI1026352          7.2   \n",
       "462     IND        India       MANGLAM CEMENT  WRI1019892         25.0   \n",
       "42      IND        India         BAGLIHAR HEP  IND0000020        450.0   \n",
       "53      IND        India         BANSAGAR (I)  IND0000029        315.0   \n",
       "422     IND        India          LIGANAMAKKI  IND0000232         55.0   \n",
       "885     IND        India        VRL Wind Farm  WRI1026103         42.5   \n",
       "597     IND        India  PRIYADARSHNI JURALA  IND0000345        234.0   \n",
       "788     IND        India        TALWANDI SABO  IND0000440       1980.0   \n",
       "446     IND        India        MADHAVAMANTRI  IND0000244          4.5   \n",
       "195     IND        India    Devgarh Wind Farm  WRI1026089         37.5   \n",
       "\n",
       "     latitude  longitude primary_fuel other_fuel1 other_fuel2  other_fuel3  \\\n",
       "554   15.7319    75.3789         Wind         NaN         NaN          NaN   \n",
       "462   24.7176    75.9522         Coal         NaN         NaN          NaN   \n",
       "42    33.1815    75.3155        Hydro         NaN         NaN          NaN   \n",
       "53    24.1917    81.2875        Hydro         NaN         NaN          NaN   \n",
       "422   14.1704    74.8388        Hydro         NaN         NaN          NaN   \n",
       "885       NaN        NaN         Wind         NaN         NaN          NaN   \n",
       "597   16.3328    77.7036        Hydro         NaN         NaN          NaN   \n",
       "788   29.9240    75.2372         Coal         Oil         NaN          NaN   \n",
       "446   12.2135    77.0225        Hydro         NaN         NaN          NaN   \n",
       "195   23.9640    74.6215         Wind         NaN         NaN          NaN   \n",
       "\n",
       "     commissioning_year               owner                         source  \\\n",
       "554                 NaN       Bhoruka Power                            CDM   \n",
       "462                 NaN  Manglam Cement ltd             Manglam Cement ltd   \n",
       "42               2008.0                 NaN  Central Electricity Authority   \n",
       "53               1991.0                 NaN  Central Electricity Authority   \n",
       "422              1979.0                 NaN  Central Electricity Authority   \n",
       "885                 NaN                 NaN                            CDM   \n",
       "597              2009.0                 NaN  Central Electricity Authority   \n",
       "788              2015.0                 NaN  Central Electricity Authority   \n",
       "446              2003.0                 NaN  Central Electricity Authority   \n",
       "195                 NaN                 NaN                            CDM   \n",
       "\n",
       "                                                   url geolocation_source  \\\n",
       "554  https://cdm.unfccc.int/Projects/DB/PJR%20CDM13...                WRI   \n",
       "462                     http://www.mangalamcement.com/                WRI   \n",
       "42                              http://www.cea.nic.in/                WRI   \n",
       "53                              http://www.cea.nic.in/                WRI   \n",
       "422                             http://www.cea.nic.in/                WRI   \n",
       "885  https://cdm.unfccc.int/Projects/DB/SGS-UKL1225...                NaN   \n",
       "597                             http://www.cea.nic.in/                WRI   \n",
       "788                             http://www.cea.nic.in/                WRI   \n",
       "446                             http://www.cea.nic.in/                WRI   \n",
       "195  https://cdm.unfccc.int/filestorage/Y/I/R/YIR8M...                WRI   \n",
       "\n",
       "     wepp_id  year_of_capacity_data  generation_gwh_2013  generation_gwh_2014  \\\n",
       "554      NaN                    NaN                  NaN                  NaN   \n",
       "462      NaN                    NaN                  NaN                  NaN   \n",
       "42       NaN                 2018.0           2785.80100           2925.21045   \n",
       "53       NaN                 2018.0           1650.46620           1075.95320   \n",
       "422      NaN                 2018.0            266.60030            254.98865   \n",
       "885      NaN                    NaN                  NaN                  NaN   \n",
       "597      NaN                 2018.0            269.43605            223.52675   \n",
       "788      NaN                 2018.0                  NaN           1423.72450   \n",
       "446      NaN                 2018.0                  NaN                  NaN   \n",
       "195      NaN                    NaN                  NaN                  NaN   \n",
       "\n",
       "     generation_gwh_2015  generation_gwh_2016  generation_gwh_2017  \\\n",
       "554                  NaN                  NaN                  NaN   \n",
       "462                  NaN                  NaN                  NaN   \n",
       "42             2985.1393           2173.63720           2494.17645   \n",
       "53              571.6076           1232.82490            542.64315   \n",
       "422             118.3453            105.11180            124.92225   \n",
       "885                  NaN                  NaN                  NaN   \n",
       "597              30.2679            210.93005            216.31300   \n",
       "788            2850.9900           6618.71540           7915.70000   \n",
       "446                  NaN                  NaN                  NaN   \n",
       "195                  NaN                  NaN                  NaN   \n",
       "\n",
       "            generation_data_source  estimated_generation_gwh  \n",
       "554                            NaN                       NaN  \n",
       "462                            NaN                       NaN  \n",
       "42   Central Electricity Authority                       NaN  \n",
       "53   Central Electricity Authority                       NaN  \n",
       "422  Central Electricity Authority                       NaN  \n",
       "885                            NaN                       NaN  \n",
       "597  Central Electricity Authority                       NaN  \n",
       "788  Central Electricity Authority                       NaN  \n",
       "446                            NaN                       NaN  \n",
       "195                            NaN                       NaN  "
      ]
     },
     "execution_count": 214,
     "metadata": {},
     "output_type": "execute_result"
    }
   ],
   "source": [
    "data=pd.read_csv('https://raw.githubusercontent.com/wri/global-power-plant-database/master/source_databases_csv/database_IND.csv')\n",
    "pd.set_option('max_columns', 45)\n",
    "data.sample(10)"
   ]
  },
  {
   "cell_type": "markdown",
   "id": "04a28849",
   "metadata": {},
   "source": [
    "### Data Overview"
   ]
  },
  {
   "cell_type": "code",
   "execution_count": 215,
   "id": "5925be98",
   "metadata": {},
   "outputs": [
    {
     "data": {
      "text/plain": [
       "(908, 25)"
      ]
     },
     "execution_count": 215,
     "metadata": {},
     "output_type": "execute_result"
    }
   ],
   "source": [
    "data.shape"
   ]
  },
  {
   "cell_type": "markdown",
   "id": "0467f7f5",
   "metadata": {},
   "source": [
    "Dataset have 908 observations & 25 features."
   ]
  },
  {
   "cell_type": "code",
   "execution_count": 216,
   "id": "1044fd12",
   "metadata": {},
   "outputs": [
    {
     "data": {
      "text/html": [
       "<div>\n",
       "<style scoped>\n",
       "    .dataframe tbody tr th:only-of-type {\n",
       "        vertical-align: middle;\n",
       "    }\n",
       "\n",
       "    .dataframe tbody tr th {\n",
       "        vertical-align: top;\n",
       "    }\n",
       "\n",
       "    .dataframe thead th {\n",
       "        text-align: right;\n",
       "    }\n",
       "</style>\n",
       "<table border=\"1\" class=\"dataframe\">\n",
       "  <thead>\n",
       "    <tr style=\"text-align: right;\">\n",
       "      <th></th>\n",
       "      <th>0</th>\n",
       "    </tr>\n",
       "  </thead>\n",
       "  <tbody>\n",
       "    <tr>\n",
       "      <th>0</th>\n",
       "      <td>country</td>\n",
       "    </tr>\n",
       "    <tr>\n",
       "      <th>1</th>\n",
       "      <td>country_long</td>\n",
       "    </tr>\n",
       "    <tr>\n",
       "      <th>2</th>\n",
       "      <td>name</td>\n",
       "    </tr>\n",
       "    <tr>\n",
       "      <th>3</th>\n",
       "      <td>gppd_idnr</td>\n",
       "    </tr>\n",
       "    <tr>\n",
       "      <th>4</th>\n",
       "      <td>capacity_mw</td>\n",
       "    </tr>\n",
       "    <tr>\n",
       "      <th>5</th>\n",
       "      <td>latitude</td>\n",
       "    </tr>\n",
       "    <tr>\n",
       "      <th>6</th>\n",
       "      <td>longitude</td>\n",
       "    </tr>\n",
       "    <tr>\n",
       "      <th>7</th>\n",
       "      <td>primary_fuel</td>\n",
       "    </tr>\n",
       "    <tr>\n",
       "      <th>8</th>\n",
       "      <td>other_fuel1</td>\n",
       "    </tr>\n",
       "    <tr>\n",
       "      <th>9</th>\n",
       "      <td>other_fuel2</td>\n",
       "    </tr>\n",
       "    <tr>\n",
       "      <th>10</th>\n",
       "      <td>other_fuel3</td>\n",
       "    </tr>\n",
       "    <tr>\n",
       "      <th>11</th>\n",
       "      <td>commissioning_year</td>\n",
       "    </tr>\n",
       "    <tr>\n",
       "      <th>12</th>\n",
       "      <td>owner</td>\n",
       "    </tr>\n",
       "    <tr>\n",
       "      <th>13</th>\n",
       "      <td>source</td>\n",
       "    </tr>\n",
       "    <tr>\n",
       "      <th>14</th>\n",
       "      <td>url</td>\n",
       "    </tr>\n",
       "    <tr>\n",
       "      <th>15</th>\n",
       "      <td>geolocation_source</td>\n",
       "    </tr>\n",
       "    <tr>\n",
       "      <th>16</th>\n",
       "      <td>wepp_id</td>\n",
       "    </tr>\n",
       "    <tr>\n",
       "      <th>17</th>\n",
       "      <td>year_of_capacity_data</td>\n",
       "    </tr>\n",
       "    <tr>\n",
       "      <th>18</th>\n",
       "      <td>generation_gwh_2013</td>\n",
       "    </tr>\n",
       "    <tr>\n",
       "      <th>19</th>\n",
       "      <td>generation_gwh_2014</td>\n",
       "    </tr>\n",
       "    <tr>\n",
       "      <th>20</th>\n",
       "      <td>generation_gwh_2015</td>\n",
       "    </tr>\n",
       "    <tr>\n",
       "      <th>21</th>\n",
       "      <td>generation_gwh_2016</td>\n",
       "    </tr>\n",
       "    <tr>\n",
       "      <th>22</th>\n",
       "      <td>generation_gwh_2017</td>\n",
       "    </tr>\n",
       "    <tr>\n",
       "      <th>23</th>\n",
       "      <td>generation_data_source</td>\n",
       "    </tr>\n",
       "    <tr>\n",
       "      <th>24</th>\n",
       "      <td>estimated_generation_gwh</td>\n",
       "    </tr>\n",
       "  </tbody>\n",
       "</table>\n",
       "</div>"
      ],
      "text/plain": [
       "                           0\n",
       "0                    country\n",
       "1               country_long\n",
       "2                       name\n",
       "3                  gppd_idnr\n",
       "4                capacity_mw\n",
       "5                   latitude\n",
       "6                  longitude\n",
       "7               primary_fuel\n",
       "8                other_fuel1\n",
       "9                other_fuel2\n",
       "10               other_fuel3\n",
       "11        commissioning_year\n",
       "12                     owner\n",
       "13                    source\n",
       "14                       url\n",
       "15        geolocation_source\n",
       "16                   wepp_id\n",
       "17     year_of_capacity_data\n",
       "18       generation_gwh_2013\n",
       "19       generation_gwh_2014\n",
       "20       generation_gwh_2015\n",
       "21       generation_gwh_2016\n",
       "22       generation_gwh_2017\n",
       "23    generation_data_source\n",
       "24  estimated_generation_gwh"
      ]
     },
     "execution_count": 216,
     "metadata": {},
     "output_type": "execute_result"
    }
   ],
   "source": [
    "pd.DataFrame(data.columns)"
   ]
  },
  {
   "cell_type": "markdown",
   "id": "77f32692",
   "metadata": {},
   "source": [
    "### Data Cleaning"
   ]
  },
  {
   "cell_type": "code",
   "execution_count": 217,
   "id": "0a8475b3",
   "metadata": {},
   "outputs": [
    {
     "data": {
      "text/plain": [
       "country                       1\n",
       "country_long                  1\n",
       "name                        908\n",
       "gppd_idnr                   908\n",
       "capacity_mw                 365\n",
       "latitude                    837\n",
       "longitude                   828\n",
       "primary_fuel                  8\n",
       "other_fuel1                   3\n",
       "other_fuel2                   1\n",
       "other_fuel3                   0\n",
       "commissioning_year           73\n",
       "owner                       280\n",
       "source                      191\n",
       "url                         304\n",
       "geolocation_source            3\n",
       "wepp_id                       0\n",
       "year_of_capacity_data         1\n",
       "generation_gwh_2013         364\n",
       "generation_gwh_2014         374\n",
       "generation_gwh_2015         398\n",
       "generation_gwh_2016         405\n",
       "generation_gwh_2017         410\n",
       "generation_data_source        1\n",
       "estimated_generation_gwh      0\n",
       "dtype: int64"
      ]
     },
     "execution_count": 217,
     "metadata": {},
     "output_type": "execute_result"
    }
   ],
   "source": [
    "data.nunique()"
   ]
  },
  {
   "cell_type": "markdown",
   "id": "e2e144f3",
   "metadata": {},
   "source": [
    "In first sight its cleary showing that its 1 country data so we can drop features country,country_long\n",
    "\n",
    "name & gppd_idnr having unique values so we can drop these features as well.\n",
    "\n",
    "will do futher analysis after removing these features for now."
   ]
  },
  {
   "cell_type": "code",
   "execution_count": 218,
   "id": "186313cc",
   "metadata": {},
   "outputs": [],
   "source": [
    "data.drop(columns=['country','country_long','name','gppd_idnr'],inplace=True)"
   ]
  },
  {
   "cell_type": "markdown",
   "id": "20273d7b",
   "metadata": {},
   "source": [
    "### Null Testing"
   ]
  },
  {
   "cell_type": "code",
   "execution_count": 219,
   "id": "2728aefd",
   "metadata": {},
   "outputs": [
    {
     "data": {
      "text/plain": [
       "capacity_mw                   0\n",
       "latitude                     46\n",
       "longitude                    46\n",
       "primary_fuel                  0\n",
       "other_fuel1                 709\n",
       "other_fuel2                 907\n",
       "other_fuel3                 908\n",
       "commissioning_year          380\n",
       "owner                       566\n",
       "source                        0\n",
       "url                           0\n",
       "geolocation_source           19\n",
       "wepp_id                     908\n",
       "year_of_capacity_data       388\n",
       "generation_gwh_2013         524\n",
       "generation_gwh_2014         507\n",
       "generation_gwh_2015         483\n",
       "generation_gwh_2016         471\n",
       "generation_gwh_2017         465\n",
       "generation_data_source      458\n",
       "estimated_generation_gwh    908\n",
       "dtype: int64"
      ]
     },
     "execution_count": 219,
     "metadata": {},
     "output_type": "execute_result"
    }
   ],
   "source": [
    "data.isnull().sum()"
   ]
  },
  {
   "cell_type": "markdown",
   "id": "bbf5269a",
   "metadata": {},
   "source": [
    "Few features are having approximately all values null so removing these features."
   ]
  },
  {
   "cell_type": "code",
   "execution_count": 220,
   "id": "bf029718",
   "metadata": {},
   "outputs": [],
   "source": [
    "data.drop(columns=['other_fuel2','other_fuel3','wepp_id','estimated_generation_gwh'],inplace=True)"
   ]
  },
  {
   "cell_type": "code",
   "execution_count": 221,
   "id": "efdd4b62",
   "metadata": {},
   "outputs": [
    {
     "name": "stdout",
     "output_type": "stream",
     "text": [
      "2018.0    520\n",
      "Name: year_of_capacity_data, dtype: int64\n"
     ]
    }
   ],
   "source": [
    "print(data.year_of_capacity_data.value_counts())\n",
    "#feature year_of_capacity_data have only same value & feature have just site url so use of it so we can remove these features as well.\n"
   ]
  },
  {
   "cell_type": "code",
   "execution_count": 222,
   "id": "e5bdb7ca",
   "metadata": {},
   "outputs": [],
   "source": [
    "data.drop(columns=['year_of_capacity_data','url'],inplace=True)"
   ]
  },
  {
   "cell_type": "code",
   "execution_count": 223,
   "id": "75b3660a",
   "metadata": {},
   "outputs": [
    {
     "data": {
      "text/plain": [
       "capacity_mw               365\n",
       "latitude                  837\n",
       "longitude                 828\n",
       "primary_fuel                8\n",
       "other_fuel1                 3\n",
       "commissioning_year         73\n",
       "owner                     280\n",
       "source                    191\n",
       "geolocation_source          3\n",
       "generation_gwh_2013       364\n",
       "generation_gwh_2014       374\n",
       "generation_gwh_2015       398\n",
       "generation_gwh_2016       405\n",
       "generation_gwh_2017       410\n",
       "generation_data_source      1\n",
       "dtype: int64"
      ]
     },
     "execution_count": 223,
     "metadata": {},
     "output_type": "execute_result"
    }
   ],
   "source": [
    "data.nunique()"
   ]
  },
  {
   "cell_type": "code",
   "execution_count": 224,
   "id": "53c712d6",
   "metadata": {},
   "outputs": [
    {
     "name": "stdout",
     "output_type": "stream",
     "text": [
      "Central Electricity Authority    450\n",
      "Name: generation_data_source, dtype: int64\n"
     ]
    }
   ],
   "source": [
    "print(data.generation_data_source.value_counts())\n",
    "#feature generation_data_source also have single value so removing it as well"
   ]
  },
  {
   "cell_type": "code",
   "execution_count": 228,
   "id": "28e80829",
   "metadata": {},
   "outputs": [],
   "source": [
    "data.drop(columns=['generation_data_source'],inplace=True)"
   ]
  },
  {
   "cell_type": "code",
   "execution_count": 229,
   "id": "e9f78880",
   "metadata": {},
   "outputs": [
    {
     "data": {
      "text/plain": [
       "capacity_mw              0\n",
       "latitude                46\n",
       "longitude               46\n",
       "primary_fuel             0\n",
       "other_fuel1            709\n",
       "commissioning_year     380\n",
       "owner                  566\n",
       "source                   0\n",
       "geolocation_source      19\n",
       "generation_gwh_2013    524\n",
       "generation_gwh_2014    507\n",
       "generation_gwh_2015    483\n",
       "generation_gwh_2016    471\n",
       "generation_gwh_2017    465\n",
       "dtype: int64"
      ]
     },
     "execution_count": 229,
     "metadata": {},
     "output_type": "execute_result"
    }
   ],
   "source": [
    "data.isnull().sum()"
   ]
  },
  {
   "cell_type": "markdown",
   "id": "9b488c5b",
   "metadata": {},
   "source": [
    "feature 'owner' is nominal data and having  62% null & other_fuel1 having 78% null so removing these features as well."
   ]
  },
  {
   "cell_type": "code",
   "execution_count": 230,
   "id": "eaf64f57",
   "metadata": {},
   "outputs": [],
   "source": [
    "data.drop(columns=['owner','other_fuel1'],inplace=True)"
   ]
  },
  {
   "cell_type": "code",
   "execution_count": 231,
   "id": "50996da1",
   "metadata": {},
   "outputs": [],
   "source": [
    "#data.drop([data['latitude'].isnull()],axis=0)\n",
    "data.drop(data[data['latitude'].isnull()].index, inplace = True)"
   ]
  },
  {
   "cell_type": "code",
   "execution_count": 232,
   "id": "c9c429be",
   "metadata": {},
   "outputs": [],
   "source": [
    "#deleting rows where all generation feature have nan value.\n",
    "data.drop(data[data['generation_gwh_2013'].isna() & data['generation_gwh_2014'].isna() & data['generation_gwh_2015'].isna() & data['generation_gwh_2016'].isna() & data['generation_gwh_2017'].isna()].index,inplace=True)"
   ]
  },
  {
   "cell_type": "code",
   "execution_count": 233,
   "id": "f55533db",
   "metadata": {},
   "outputs": [
    {
     "data": {
      "text/plain": [
       "capacity_mw             0\n",
       "latitude                0\n",
       "longitude               0\n",
       "primary_fuel            0\n",
       "commissioning_year      0\n",
       "source                  0\n",
       "geolocation_source      0\n",
       "generation_gwh_2013    60\n",
       "generation_gwh_2014    43\n",
       "generation_gwh_2015    21\n",
       "generation_gwh_2016    11\n",
       "generation_gwh_2017     7\n",
       "dtype: int64"
      ]
     },
     "execution_count": 233,
     "metadata": {},
     "output_type": "execute_result"
    }
   ],
   "source": [
    "data.isna().sum()"
   ]
  },
  {
   "cell_type": "markdown",
   "id": "d8714c7a",
   "metadata": {},
   "source": [
    "Removed entire rows where it was null in all generations columns as we can treat these much null value, it can lead our model in wrong direction."
   ]
  },
  {
   "cell_type": "markdown",
   "id": "fa06e983",
   "metadata": {},
   "source": [
    "### Imputing Data"
   ]
  },
  {
   "cell_type": "code",
   "execution_count": 234,
   "id": "7e57cfe3",
   "metadata": {},
   "outputs": [],
   "source": [
    "from sklearn.impute import SimpleImputer"
   ]
  },
  {
   "cell_type": "code",
   "execution_count": 235,
   "id": "79d17d16",
   "metadata": {},
   "outputs": [],
   "source": [
    "data.reset_index(inplace=True)"
   ]
  },
  {
   "cell_type": "code",
   "execution_count": 236,
   "id": "67b091bf",
   "metadata": {},
   "outputs": [],
   "source": [
    "si=SimpleImputer()"
   ]
  },
  {
   "cell_type": "code",
   "execution_count": 237,
   "id": "7cdb16e7",
   "metadata": {},
   "outputs": [],
   "source": [
    "data.iloc[:,8:13]=si.fit_transform(data.iloc[:,8:13])"
   ]
  },
  {
   "cell_type": "code",
   "execution_count": 238,
   "id": "65c566fc",
   "metadata": {},
   "outputs": [
    {
     "data": {
      "text/plain": [
       "index                  0\n",
       "capacity_mw            0\n",
       "latitude               0\n",
       "longitude              0\n",
       "primary_fuel           0\n",
       "commissioning_year     0\n",
       "source                 0\n",
       "geolocation_source     0\n",
       "generation_gwh_2013    0\n",
       "generation_gwh_2014    0\n",
       "generation_gwh_2015    0\n",
       "generation_gwh_2016    0\n",
       "generation_gwh_2017    0\n",
       "dtype: int64"
      ]
     },
     "execution_count": 238,
     "metadata": {},
     "output_type": "execute_result"
    }
   ],
   "source": [
    "data.isna().sum()"
   ]
  },
  {
   "cell_type": "code",
   "execution_count": 239,
   "id": "a774e10b",
   "metadata": {},
   "outputs": [
    {
     "data": {
      "text/plain": [
       "index                  438\n",
       "capacity_mw            222\n",
       "latitude               417\n",
       "longitude              416\n",
       "primary_fuel             5\n",
       "commissioning_year      67\n",
       "source                   1\n",
       "geolocation_source       1\n",
       "generation_gwh_2013    363\n",
       "generation_gwh_2014    373\n",
       "generation_gwh_2015    395\n",
       "generation_gwh_2016    400\n",
       "generation_gwh_2017    403\n",
       "dtype: int64"
      ]
     },
     "execution_count": 239,
     "metadata": {},
     "output_type": "execute_result"
    }
   ],
   "source": [
    "data.nunique()"
   ]
  },
  {
   "cell_type": "markdown",
   "id": "39a058eb",
   "metadata": {},
   "source": [
    "having 2 features which have single value , so removing these."
   ]
  },
  {
   "cell_type": "code",
   "execution_count": 240,
   "id": "7c237690",
   "metadata": {},
   "outputs": [],
   "source": [
    "data.drop(columns=['source','geolocation_source','index'],inplace=True)"
   ]
  },
  {
   "cell_type": "code",
   "execution_count": 241,
   "id": "004c9aa7",
   "metadata": {},
   "outputs": [
    {
     "name": "stdout",
     "output_type": "stream",
     "text": [
      "<class 'pandas.core.frame.DataFrame'>\n",
      "RangeIndex: 438 entries, 0 to 437\n",
      "Data columns (total 10 columns):\n",
      " #   Column               Non-Null Count  Dtype  \n",
      "---  ------               --------------  -----  \n",
      " 0   capacity_mw          438 non-null    float64\n",
      " 1   latitude             438 non-null    float64\n",
      " 2   longitude            438 non-null    float64\n",
      " 3   primary_fuel         438 non-null    object \n",
      " 4   commissioning_year   438 non-null    float64\n",
      " 5   generation_gwh_2013  438 non-null    float64\n",
      " 6   generation_gwh_2014  438 non-null    float64\n",
      " 7   generation_gwh_2015  438 non-null    float64\n",
      " 8   generation_gwh_2016  438 non-null    float64\n",
      " 9   generation_gwh_2017  438 non-null    float64\n",
      "dtypes: float64(9), object(1)\n",
      "memory usage: 34.3+ KB\n"
     ]
    }
   ],
   "source": [
    "data.info()"
   ]
  },
  {
   "cell_type": "markdown",
   "id": "84dfbbe0",
   "metadata": {},
   "source": [
    "We have a non-numerical feature , so we will encode it."
   ]
  },
  {
   "cell_type": "code",
   "execution_count": 242,
   "id": "b01dc966",
   "metadata": {},
   "outputs": [
    {
     "data": {
      "text/plain": [
       "Coal       185\n",
       "Hydro      179\n",
       "Gas         57\n",
       "Oil          9\n",
       "Nuclear      8\n",
       "Name: primary_fuel, dtype: int64"
      ]
     },
     "execution_count": 242,
     "metadata": {},
     "output_type": "execute_result"
    }
   ],
   "source": [
    "data['primary_fuel'].value_counts()"
   ]
  },
  {
   "cell_type": "markdown",
   "id": "77523e89",
   "metadata": {},
   "source": [
    "### Data Duplicacy Test"
   ]
  },
  {
   "cell_type": "code",
   "execution_count": 244,
   "id": "51acc75e",
   "metadata": {},
   "outputs": [
    {
     "data": {
      "text/plain": [
       "0"
      ]
     },
     "execution_count": 244,
     "metadata": {},
     "output_type": "execute_result"
    }
   ],
   "source": [
    "data.duplicated().sum()"
   ]
  },
  {
   "cell_type": "markdown",
   "id": "0d100cf3",
   "metadata": {},
   "source": [
    "No duplicacy in dataset"
   ]
  },
  {
   "cell_type": "markdown",
   "id": "443eb9eb",
   "metadata": {},
   "source": [
    "### Encoding"
   ]
  },
  {
   "cell_type": "code",
   "execution_count": 245,
   "id": "9855de40",
   "metadata": {},
   "outputs": [],
   "source": [
    "from sklearn.preprocessing import LabelEncoder"
   ]
  },
  {
   "cell_type": "code",
   "execution_count": 246,
   "id": "44c87eec",
   "metadata": {},
   "outputs": [],
   "source": [
    "enc=LabelEncoder()"
   ]
  },
  {
   "cell_type": "code",
   "execution_count": 247,
   "id": "90ef44df",
   "metadata": {},
   "outputs": [],
   "source": [
    "data['primary_fuel']=enc.fit_transform(data['primary_fuel'])"
   ]
  },
  {
   "cell_type": "code",
   "execution_count": 248,
   "id": "ece12956",
   "metadata": {},
   "outputs": [
    {
     "name": "stdout",
     "output_type": "stream",
     "text": [
      "<class 'pandas.core.frame.DataFrame'>\n",
      "RangeIndex: 438 entries, 0 to 437\n",
      "Data columns (total 10 columns):\n",
      " #   Column               Non-Null Count  Dtype  \n",
      "---  ------               --------------  -----  \n",
      " 0   capacity_mw          438 non-null    float64\n",
      " 1   latitude             438 non-null    float64\n",
      " 2   longitude            438 non-null    float64\n",
      " 3   primary_fuel         438 non-null    int32  \n",
      " 4   commissioning_year   438 non-null    float64\n",
      " 5   generation_gwh_2013  438 non-null    float64\n",
      " 6   generation_gwh_2014  438 non-null    float64\n",
      " 7   generation_gwh_2015  438 non-null    float64\n",
      " 8   generation_gwh_2016  438 non-null    float64\n",
      " 9   generation_gwh_2017  438 non-null    float64\n",
      "dtypes: float64(9), int32(1)\n",
      "memory usage: 32.6 KB\n"
     ]
    }
   ],
   "source": [
    "data.info()"
   ]
  },
  {
   "cell_type": "markdown",
   "id": "0ac5d0e7",
   "metadata": {},
   "source": [
    "Dataset cleaned now null null values & all features are numeric only."
   ]
  },
  {
   "cell_type": "markdown",
   "id": "eb0a056d",
   "metadata": {},
   "source": [
    "### Describe Dataset"
   ]
  },
  {
   "cell_type": "code",
   "execution_count": 249,
   "id": "0ac296b2",
   "metadata": {},
   "outputs": [
    {
     "data": {
      "text/html": [
       "<div>\n",
       "<style scoped>\n",
       "    .dataframe tbody tr th:only-of-type {\n",
       "        vertical-align: middle;\n",
       "    }\n",
       "\n",
       "    .dataframe tbody tr th {\n",
       "        vertical-align: top;\n",
       "    }\n",
       "\n",
       "    .dataframe thead th {\n",
       "        text-align: right;\n",
       "    }\n",
       "</style>\n",
       "<table border=\"1\" class=\"dataframe\">\n",
       "  <thead>\n",
       "    <tr style=\"text-align: right;\">\n",
       "      <th></th>\n",
       "      <th>capacity_mw</th>\n",
       "      <th>latitude</th>\n",
       "      <th>longitude</th>\n",
       "      <th>primary_fuel</th>\n",
       "      <th>commissioning_year</th>\n",
       "      <th>generation_gwh_2013</th>\n",
       "      <th>generation_gwh_2014</th>\n",
       "      <th>generation_gwh_2015</th>\n",
       "      <th>generation_gwh_2016</th>\n",
       "      <th>generation_gwh_2017</th>\n",
       "    </tr>\n",
       "  </thead>\n",
       "  <tbody>\n",
       "    <tr>\n",
       "      <th>count</th>\n",
       "      <td>438.000000</td>\n",
       "      <td>438.000000</td>\n",
       "      <td>438.000000</td>\n",
       "      <td>438.000000</td>\n",
       "      <td>438.000000</td>\n",
       "      <td>438.000000</td>\n",
       "      <td>438.000000</td>\n",
       "      <td>438.000000</td>\n",
       "      <td>438.000000</td>\n",
       "      <td>438.000000</td>\n",
       "    </tr>\n",
       "    <tr>\n",
       "      <th>mean</th>\n",
       "      <td>622.645527</td>\n",
       "      <td>21.741221</td>\n",
       "      <td>79.471989</td>\n",
       "      <td>1.084475</td>\n",
       "      <td>1997.794521</td>\n",
       "      <td>2338.682337</td>\n",
       "      <td>2455.203873</td>\n",
       "      <td>2455.829322</td>\n",
       "      <td>2498.160219</td>\n",
       "      <td>2588.766230</td>\n",
       "    </tr>\n",
       "    <tr>\n",
       "      <th>std</th>\n",
       "      <td>713.169755</td>\n",
       "      <td>6.644245</td>\n",
       "      <td>5.129559</td>\n",
       "      <td>1.041336</td>\n",
       "      <td>16.714284</td>\n",
       "      <td>3543.163178</td>\n",
       "      <td>3830.282701</td>\n",
       "      <td>4109.294724</td>\n",
       "      <td>4134.961528</td>\n",
       "      <td>4195.199219</td>\n",
       "    </tr>\n",
       "    <tr>\n",
       "      <th>min</th>\n",
       "      <td>25.000000</td>\n",
       "      <td>8.169100</td>\n",
       "      <td>68.644700</td>\n",
       "      <td>0.000000</td>\n",
       "      <td>1927.000000</td>\n",
       "      <td>0.000000</td>\n",
       "      <td>0.000000</td>\n",
       "      <td>0.000000</td>\n",
       "      <td>0.000000</td>\n",
       "      <td>0.000000</td>\n",
       "    </tr>\n",
       "    <tr>\n",
       "      <th>25%</th>\n",
       "      <td>114.812500</td>\n",
       "      <td>16.787950</td>\n",
       "      <td>76.271100</td>\n",
       "      <td>0.000000</td>\n",
       "      <td>1988.000000</td>\n",
       "      <td>292.260401</td>\n",
       "      <td>269.057950</td>\n",
       "      <td>209.949757</td>\n",
       "      <td>196.703125</td>\n",
       "      <td>189.701725</td>\n",
       "    </tr>\n",
       "    <tr>\n",
       "      <th>50%</th>\n",
       "      <td>392.000000</td>\n",
       "      <td>22.302700</td>\n",
       "      <td>78.236600</td>\n",
       "      <td>1.000000</td>\n",
       "      <td>2002.000000</td>\n",
       "      <td>1308.429975</td>\n",
       "      <td>1153.775115</td>\n",
       "      <td>856.973500</td>\n",
       "      <td>825.519000</td>\n",
       "      <td>862.067375</td>\n",
       "    </tr>\n",
       "    <tr>\n",
       "      <th>75%</th>\n",
       "      <td>997.500000</td>\n",
       "      <td>26.484775</td>\n",
       "      <td>82.456000</td>\n",
       "      <td>2.000000</td>\n",
       "      <td>2012.000000</td>\n",
       "      <td>2352.282584</td>\n",
       "      <td>2713.175000</td>\n",
       "      <td>2953.201925</td>\n",
       "      <td>3262.699250</td>\n",
       "      <td>3289.931425</td>\n",
       "    </tr>\n",
       "    <tr>\n",
       "      <th>max</th>\n",
       "      <td>4760.000000</td>\n",
       "      <td>34.649000</td>\n",
       "      <td>95.408000</td>\n",
       "      <td>4.000000</td>\n",
       "      <td>2018.000000</td>\n",
       "      <td>27586.200000</td>\n",
       "      <td>28127.000000</td>\n",
       "      <td>30539.000000</td>\n",
       "      <td>30015.000000</td>\n",
       "      <td>35116.000000</td>\n",
       "    </tr>\n",
       "  </tbody>\n",
       "</table>\n",
       "</div>"
      ],
      "text/plain": [
       "       capacity_mw    latitude   longitude  primary_fuel  commissioning_year  \\\n",
       "count   438.000000  438.000000  438.000000    438.000000          438.000000   \n",
       "mean    622.645527   21.741221   79.471989      1.084475         1997.794521   \n",
       "std     713.169755    6.644245    5.129559      1.041336           16.714284   \n",
       "min      25.000000    8.169100   68.644700      0.000000         1927.000000   \n",
       "25%     114.812500   16.787950   76.271100      0.000000         1988.000000   \n",
       "50%     392.000000   22.302700   78.236600      1.000000         2002.000000   \n",
       "75%     997.500000   26.484775   82.456000      2.000000         2012.000000   \n",
       "max    4760.000000   34.649000   95.408000      4.000000         2018.000000   \n",
       "\n",
       "       generation_gwh_2013  generation_gwh_2014  generation_gwh_2015  \\\n",
       "count           438.000000           438.000000           438.000000   \n",
       "mean           2338.682337          2455.203873          2455.829322   \n",
       "std            3543.163178          3830.282701          4109.294724   \n",
       "min               0.000000             0.000000             0.000000   \n",
       "25%             292.260401           269.057950           209.949757   \n",
       "50%            1308.429975          1153.775115           856.973500   \n",
       "75%            2352.282584          2713.175000          2953.201925   \n",
       "max           27586.200000         28127.000000         30539.000000   \n",
       "\n",
       "       generation_gwh_2016  generation_gwh_2017  \n",
       "count           438.000000           438.000000  \n",
       "mean           2498.160219          2588.766230  \n",
       "std            4134.961528          4195.199219  \n",
       "min               0.000000             0.000000  \n",
       "25%             196.703125           189.701725  \n",
       "50%             825.519000           862.067375  \n",
       "75%            3262.699250          3289.931425  \n",
       "max           30015.000000         35116.000000  "
      ]
     },
     "execution_count": 249,
     "metadata": {},
     "output_type": "execute_result"
    }
   ],
   "source": [
    "data.describe()"
   ]
  },
  {
   "cell_type": "markdown",
   "id": "7bd5c324",
   "metadata": {},
   "source": [
    "All features have equal count.\n",
    "\n",
    "genaration gwh min value showing 0 which seems to be an outlier.. will check it."
   ]
  },
  {
   "cell_type": "code",
   "execution_count": 250,
   "id": "0b9444df",
   "metadata": {},
   "outputs": [
    {
     "data": {
      "text/html": [
       "<div>\n",
       "<style scoped>\n",
       "    .dataframe tbody tr th:only-of-type {\n",
       "        vertical-align: middle;\n",
       "    }\n",
       "\n",
       "    .dataframe tbody tr th {\n",
       "        vertical-align: top;\n",
       "    }\n",
       "\n",
       "    .dataframe thead th {\n",
       "        text-align: right;\n",
       "    }\n",
       "</style>\n",
       "<table border=\"1\" class=\"dataframe\">\n",
       "  <thead>\n",
       "    <tr style=\"text-align: right;\">\n",
       "      <th></th>\n",
       "      <th>capacity_mw</th>\n",
       "      <th>latitude</th>\n",
       "      <th>longitude</th>\n",
       "      <th>primary_fuel</th>\n",
       "      <th>commissioning_year</th>\n",
       "      <th>generation_gwh_2013</th>\n",
       "      <th>generation_gwh_2014</th>\n",
       "      <th>generation_gwh_2015</th>\n",
       "      <th>generation_gwh_2016</th>\n",
       "      <th>generation_gwh_2017</th>\n",
       "    </tr>\n",
       "  </thead>\n",
       "  <tbody>\n",
       "    <tr>\n",
       "      <th>capacity_mw</th>\n",
       "      <td>1.000000</td>\n",
       "      <td>0.023899</td>\n",
       "      <td>-0.019917</td>\n",
       "      <td>-0.479200</td>\n",
       "      <td>0.294188</td>\n",
       "      <td>0.778204</td>\n",
       "      <td>0.822247</td>\n",
       "      <td>0.841878</td>\n",
       "      <td>0.877058</td>\n",
       "      <td>0.892583</td>\n",
       "    </tr>\n",
       "    <tr>\n",
       "      <th>latitude</th>\n",
       "      <td>0.023899</td>\n",
       "      <td>1.000000</td>\n",
       "      <td>0.124169</td>\n",
       "      <td>-0.013802</td>\n",
       "      <td>0.139653</td>\n",
       "      <td>0.047879</td>\n",
       "      <td>0.057843</td>\n",
       "      <td>0.047160</td>\n",
       "      <td>0.040304</td>\n",
       "      <td>0.039318</td>\n",
       "    </tr>\n",
       "    <tr>\n",
       "      <th>longitude</th>\n",
       "      <td>-0.019917</td>\n",
       "      <td>0.124169</td>\n",
       "      <td>1.000000</td>\n",
       "      <td>-0.157500</td>\n",
       "      <td>0.141749</td>\n",
       "      <td>0.016063</td>\n",
       "      <td>0.012840</td>\n",
       "      <td>0.022219</td>\n",
       "      <td>0.049672</td>\n",
       "      <td>0.049110</td>\n",
       "    </tr>\n",
       "    <tr>\n",
       "      <th>primary_fuel</th>\n",
       "      <td>-0.479200</td>\n",
       "      <td>-0.013802</td>\n",
       "      <td>-0.157500</td>\n",
       "      <td>1.000000</td>\n",
       "      <td>-0.416693</td>\n",
       "      <td>-0.373539</td>\n",
       "      <td>-0.387675</td>\n",
       "      <td>-0.388181</td>\n",
       "      <td>-0.406703</td>\n",
       "      <td>-0.410132</td>\n",
       "    </tr>\n",
       "    <tr>\n",
       "      <th>commissioning_year</th>\n",
       "      <td>0.294188</td>\n",
       "      <td>0.139653</td>\n",
       "      <td>0.141749</td>\n",
       "      <td>-0.416693</td>\n",
       "      <td>1.000000</td>\n",
       "      <td>0.129691</td>\n",
       "      <td>0.155520</td>\n",
       "      <td>0.173847</td>\n",
       "      <td>0.200822</td>\n",
       "      <td>0.204670</td>\n",
       "    </tr>\n",
       "    <tr>\n",
       "      <th>generation_gwh_2013</th>\n",
       "      <td>0.778204</td>\n",
       "      <td>0.047879</td>\n",
       "      <td>0.016063</td>\n",
       "      <td>-0.373539</td>\n",
       "      <td>0.129691</td>\n",
       "      <td>1.000000</td>\n",
       "      <td>0.963088</td>\n",
       "      <td>0.896047</td>\n",
       "      <td>0.873455</td>\n",
       "      <td>0.830679</td>\n",
       "    </tr>\n",
       "    <tr>\n",
       "      <th>generation_gwh_2014</th>\n",
       "      <td>0.822247</td>\n",
       "      <td>0.057843</td>\n",
       "      <td>0.012840</td>\n",
       "      <td>-0.387675</td>\n",
       "      <td>0.155520</td>\n",
       "      <td>0.963088</td>\n",
       "      <td>1.000000</td>\n",
       "      <td>0.953689</td>\n",
       "      <td>0.926106</td>\n",
       "      <td>0.892179</td>\n",
       "    </tr>\n",
       "    <tr>\n",
       "      <th>generation_gwh_2015</th>\n",
       "      <td>0.841878</td>\n",
       "      <td>0.047160</td>\n",
       "      <td>0.022219</td>\n",
       "      <td>-0.388181</td>\n",
       "      <td>0.173847</td>\n",
       "      <td>0.896047</td>\n",
       "      <td>0.953689</td>\n",
       "      <td>1.000000</td>\n",
       "      <td>0.969667</td>\n",
       "      <td>0.929147</td>\n",
       "    </tr>\n",
       "    <tr>\n",
       "      <th>generation_gwh_2016</th>\n",
       "      <td>0.877058</td>\n",
       "      <td>0.040304</td>\n",
       "      <td>0.049672</td>\n",
       "      <td>-0.406703</td>\n",
       "      <td>0.200822</td>\n",
       "      <td>0.873455</td>\n",
       "      <td>0.926106</td>\n",
       "      <td>0.969667</td>\n",
       "      <td>1.000000</td>\n",
       "      <td>0.965147</td>\n",
       "    </tr>\n",
       "    <tr>\n",
       "      <th>generation_gwh_2017</th>\n",
       "      <td>0.892583</td>\n",
       "      <td>0.039318</td>\n",
       "      <td>0.049110</td>\n",
       "      <td>-0.410132</td>\n",
       "      <td>0.204670</td>\n",
       "      <td>0.830679</td>\n",
       "      <td>0.892179</td>\n",
       "      <td>0.929147</td>\n",
       "      <td>0.965147</td>\n",
       "      <td>1.000000</td>\n",
       "    </tr>\n",
       "  </tbody>\n",
       "</table>\n",
       "</div>"
      ],
      "text/plain": [
       "                     capacity_mw  latitude  longitude  primary_fuel  \\\n",
       "capacity_mw             1.000000  0.023899  -0.019917     -0.479200   \n",
       "latitude                0.023899  1.000000   0.124169     -0.013802   \n",
       "longitude              -0.019917  0.124169   1.000000     -0.157500   \n",
       "primary_fuel           -0.479200 -0.013802  -0.157500      1.000000   \n",
       "commissioning_year      0.294188  0.139653   0.141749     -0.416693   \n",
       "generation_gwh_2013     0.778204  0.047879   0.016063     -0.373539   \n",
       "generation_gwh_2014     0.822247  0.057843   0.012840     -0.387675   \n",
       "generation_gwh_2015     0.841878  0.047160   0.022219     -0.388181   \n",
       "generation_gwh_2016     0.877058  0.040304   0.049672     -0.406703   \n",
       "generation_gwh_2017     0.892583  0.039318   0.049110     -0.410132   \n",
       "\n",
       "                     commissioning_year  generation_gwh_2013  \\\n",
       "capacity_mw                    0.294188             0.778204   \n",
       "latitude                       0.139653             0.047879   \n",
       "longitude                      0.141749             0.016063   \n",
       "primary_fuel                  -0.416693            -0.373539   \n",
       "commissioning_year             1.000000             0.129691   \n",
       "generation_gwh_2013            0.129691             1.000000   \n",
       "generation_gwh_2014            0.155520             0.963088   \n",
       "generation_gwh_2015            0.173847             0.896047   \n",
       "generation_gwh_2016            0.200822             0.873455   \n",
       "generation_gwh_2017            0.204670             0.830679   \n",
       "\n",
       "                     generation_gwh_2014  generation_gwh_2015  \\\n",
       "capacity_mw                     0.822247             0.841878   \n",
       "latitude                        0.057843             0.047160   \n",
       "longitude                       0.012840             0.022219   \n",
       "primary_fuel                   -0.387675            -0.388181   \n",
       "commissioning_year              0.155520             0.173847   \n",
       "generation_gwh_2013             0.963088             0.896047   \n",
       "generation_gwh_2014             1.000000             0.953689   \n",
       "generation_gwh_2015             0.953689             1.000000   \n",
       "generation_gwh_2016             0.926106             0.969667   \n",
       "generation_gwh_2017             0.892179             0.929147   \n",
       "\n",
       "                     generation_gwh_2016  generation_gwh_2017  \n",
       "capacity_mw                     0.877058             0.892583  \n",
       "latitude                        0.040304             0.039318  \n",
       "longitude                       0.049672             0.049110  \n",
       "primary_fuel                   -0.406703            -0.410132  \n",
       "commissioning_year              0.200822             0.204670  \n",
       "generation_gwh_2013             0.873455             0.830679  \n",
       "generation_gwh_2014             0.926106             0.892179  \n",
       "generation_gwh_2015             0.969667             0.929147  \n",
       "generation_gwh_2016             1.000000             0.965147  \n",
       "generation_gwh_2017             0.965147             1.000000  "
      ]
     },
     "execution_count": 250,
     "metadata": {},
     "output_type": "execute_result"
    }
   ],
   "source": [
    "data.corr()"
   ]
  },
  {
   "cell_type": "code",
   "execution_count": 251,
   "id": "bbeb80be",
   "metadata": {},
   "outputs": [
    {
     "data": {
      "image/png": "[encoded data removed]",
      "text/plain": [
       "<Figure size 864x720 with 2 Axes>"
      ]
     },
     "metadata": {
      "needs_background": "light"
     },
     "output_type": "display_data"
    }
   ],
   "source": [
    "plt.figure(figsize=(12,10))\n",
    "sns.heatmap(data.corr(),annot=True)\n",
    "\n",
    "plt.show()"
   ]
  },
  {
   "cell_type": "markdown",
   "id": "495f88f5",
   "metadata": {},
   "source": [
    "Target 'capacity_mw' dont have and relation with latitude,langitude which so we can remove these features as well.\n",
    "\n",
    "Rest all feature have postive relation with data target.\n",
    "\n",
    "Mulicollinearity clear shown between generation yearsbut as we have very small dataset, so we kept it as its.\n",
    "\n",
    "2nd predictor primary fuel have negative relation with all features."
   ]
  },
  {
   "cell_type": "markdown",
   "id": "ca492085",
   "metadata": {},
   "source": [
    "# Distribution Plot"
   ]
  },
  {
   "cell_type": "code",
   "execution_count": 252,
   "id": "930d0975",
   "metadata": {},
   "outputs": [
    {
     "data": {
      "image/png": "[encoded data removed]",
      "text/plain": [
       "<Figure size 1440x720 with 10 Axes>"
      ]
     },
     "metadata": {
      "needs_background": "light"
     },
     "output_type": "display_data"
    }
   ],
   "source": [
    "plt.figure(figsize=(20,10))\n",
    "\n",
    "plotnumber=1\n",
    "\n",
    "for col in data:\n",
    "    if plotnumber<=11:\n",
    "        ax=plt.subplot(4,3,plotnumber)\n",
    "        sns.distplot(data[col])\n",
    "        \n",
    "    plotnumber+=1\n",
    "    \n",
    "plt.tight_layout()"
   ]
  },
  {
   "cell_type": "markdown",
   "id": "2f753bdf",
   "metadata": {},
   "source": [
    "with the help of these plots we can see features are normally distributed but because we do have very less records so cant afford to loose and records from here."
   ]
  },
  {
   "cell_type": "markdown",
   "id": "369a56d8",
   "metadata": {},
   "source": [
    "### Boxplot"
   ]
  },
  {
   "cell_type": "code",
   "execution_count": 253,
   "id": "b8e994dc",
   "metadata": {},
   "outputs": [
    {
     "data": {
      "image/png": "[encoded data removed]",
      "text/plain": [
       "<Figure size 1440x720 with 10 Axes>"
      ]
     },
     "metadata": {
      "needs_background": "light"
     },
     "output_type": "display_data"
    }
   ],
   "source": [
    "plt.figure(figsize=(20,10))\n",
    "\n",
    "plotnumber=1\n",
    "\n",
    "for col in data:\n",
    "    if plotnumber<=12:\n",
    "        ax=plt.subplot(4,3,plotnumber)\n",
    "        sns.boxplot(data[col])\n",
    "        \n",
    "    plotnumber+=1\n",
    "    \n",
    "plt.tight_layout()"
   ]
  },
  {
   "cell_type": "markdown",
   "id": "e062dc29",
   "metadata": {},
   "source": [
    "In boxplot also we can see many outliers are there but we are not removing these due to very less data."
   ]
  },
  {
   "cell_type": "markdown",
   "id": "f447f5a2",
   "metadata": {},
   "source": [
    "### Correlation with scatterplot"
   ]
  },
  {
   "cell_type": "code",
   "execution_count": 254,
   "id": "2afc8a0b",
   "metadata": {},
   "outputs": [
    {
     "data": {
      "image/png": "[encoded data removed]",
      "text/plain": [
       "<Figure size 1440x720 with 10 Axes>"
      ]
     },
     "metadata": {
      "needs_background": "light"
     },
     "output_type": "display_data"
    }
   ],
   "source": [
    "plt.figure(figsize=(20,10))\n",
    "\n",
    "plotnumber=1\n",
    "\n",
    "for col in data:\n",
    "    if plotnumber<=12:\n",
    "        ax=plt.subplot(4,3,plotnumber)\n",
    "        sns.scatterplot(x=data[col],y=data['capacity_mw'])\n",
    "        \n",
    "    plotnumber+=1\n",
    "    \n",
    "plt.tight_layout()"
   ]
  },
  {
   "cell_type": "markdown",
   "id": "da07f790",
   "metadata": {},
   "source": [
    "We see latitude, longitude dont have any relation with target, same we observed with heatmap. so here we are removeing these 2 features."
   ]
  },
  {
   "cell_type": "code",
   "execution_count": 255,
   "id": "a6720ce0",
   "metadata": {},
   "outputs": [],
   "source": [
    "data.drop(columns=['latitude','longitude'],inplace=True)"
   ]
  },
  {
   "cell_type": "code",
   "execution_count": 256,
   "id": "6453661b",
   "metadata": {},
   "outputs": [],
   "source": [
    "#dataset split\n",
    "\n",
    "X=data.drop(columns=['capacity_mw'])\n",
    "y=data.capacity_mw"
   ]
  },
  {
   "cell_type": "code",
   "execution_count": 257,
   "id": "bf3fb8e1",
   "metadata": {},
   "outputs": [],
   "source": [
    "scale=StandardScaler()\n",
    "x_scale=scale.fit_transform(X)"
   ]
  },
  {
   "cell_type": "code",
   "execution_count": 258,
   "id": "2f6a6cb6",
   "metadata": {},
   "outputs": [],
   "source": [
    "x_train,x_test,y_train,y_test=train_test_split(x_scale,y,test_size=0.25,random_state=40)"
   ]
  },
  {
   "cell_type": "code",
   "execution_count": 259,
   "id": "77776a76",
   "metadata": {},
   "outputs": [],
   "source": [
    "lr=LinearRegression()\n",
    "rfr=RandomForestRegressor()\n",
    "svr=SVR()\n",
    "knn=KNeighborsRegressor()"
   ]
  },
  {
   "cell_type": "code",
   "execution_count": 260,
   "id": "f81d31af",
   "metadata": {},
   "outputs": [
    {
     "data": {
      "text/plain": [
       "KNeighborsRegressor()"
      ]
     },
     "execution_count": 260,
     "metadata": {},
     "output_type": "execute_result"
    }
   ],
   "source": [
    "lr.fit(x_train,y_train)\n",
    "rfr.fit(x_train,y_train)\n",
    "svr.fit(x_train,y_train)\n",
    "knn.fit(x_train,y_train)"
   ]
  },
  {
   "cell_type": "code",
   "execution_count": 261,
   "id": "d79a3210",
   "metadata": {},
   "outputs": [
    {
     "name": "stdout",
     "output_type": "stream",
     "text": [
      "80.8646837619728\n",
      "97.30041319904494\n",
      "-4.429427604545921\n",
      "86.54243020361909\n"
     ]
    }
   ],
   "source": [
    "print(lr.score(x_train,y_train)*100)\n",
    "print(rfr.score(x_train,y_train)*100)\n",
    "print(svr.score(x_train,y_train)*100)\n",
    "print(knn.score(x_train,y_train)*100)"
   ]
  },
  {
   "cell_type": "code",
   "execution_count": 262,
   "id": "74b26889",
   "metadata": {},
   "outputs": [
    {
     "name": "stdout",
     "output_type": "stream",
     "text": [
      "84.78198102755555\n"
     ]
    }
   ],
   "source": [
    "#lr score\n",
    "\n",
    "y_pred=lr.predict(x_test)\n",
    "print(r2_score(y_test,y_pred)*100)"
   ]
  },
  {
   "cell_type": "code",
   "execution_count": 263,
   "id": "2efba87c",
   "metadata": {},
   "outputs": [
    {
     "name": "stdout",
     "output_type": "stream",
     "text": [
      "87.12357018960759\n"
     ]
    }
   ],
   "source": [
    "#rfr score\n",
    "\n",
    "y_pred=rfr.predict(x_test)\n",
    "print(r2_score(y_test,y_pred)*100)"
   ]
  },
  {
   "cell_type": "code",
   "execution_count": 264,
   "id": "a793849d",
   "metadata": {},
   "outputs": [
    {
     "name": "stdout",
     "output_type": "stream",
     "text": [
      "3.399509634654796\n"
     ]
    }
   ],
   "source": [
    "#svr score\n",
    "\n",
    "y_pred=svr.predict(x_test)\n",
    "print(r2_score(y_test,y_pred)*100)"
   ]
  },
  {
   "cell_type": "code",
   "execution_count": 265,
   "id": "c68da2e1",
   "metadata": {},
   "outputs": [
    {
     "name": "stdout",
     "output_type": "stream",
     "text": [
      "83.84257799933962\n"
     ]
    }
   ],
   "source": [
    "#knn score\n",
    "\n",
    "y_pred=knn.predict(x_test)\n",
    "print(r2_score(y_test,y_pred)*100)"
   ]
  },
  {
   "cell_type": "code",
   "execution_count": 266,
   "id": "d5142420",
   "metadata": {},
   "outputs": [
    {
     "name": "stdout",
     "output_type": "stream",
     "text": [
      "Linear Regression score: 79.57487076827776\n",
      "Random Forest score: 81.26375507285267\n",
      "KNN score: 78.80135826005224\n",
      "svr score: -3.8777935067770315\n"
     ]
    }
   ],
   "source": [
    "from sklearn.model_selection import cross_val_score\n",
    "\n",
    "\n",
    "print('Linear Regression score:',np.mean(cross_val_score(lr,x_scale,y))*100)\n",
    "\n",
    "print('Random Forest score:',np.mean(cross_val_score(rfr,x_scale,y))*100)\n",
    "\n",
    "print('KNN score:',np.mean(cross_val_score(knn,x_scale,y))*100)\n",
    "\n",
    "print('svr score:',np.mean(cross_val_score(svr,x_scale,y))*100)"
   ]
  },
  {
   "cell_type": "markdown",
   "id": "e0edffc0",
   "metadata": {},
   "source": [
    "### Random forest training, testing & cross validation score is highest so we will go with it."
   ]
  },
  {
   "cell_type": "markdown",
   "id": "d656f6e7",
   "metadata": {},
   "source": [
    "### Hyperparameter Tunning"
   ]
  },
  {
   "cell_type": "code",
   "execution_count": 267,
   "id": "4339ea70",
   "metadata": {},
   "outputs": [
    {
     "data": {
      "text/plain": [
       "{'criterion': 'mse',\n",
       " 'min_samples_leaf': 2,\n",
       " 'min_samples_split': 6,\n",
       " 'n_estimators': 5}"
      ]
     },
     "execution_count": 267,
     "metadata": {},
     "output_type": "execute_result"
    }
   ],
   "source": [
    "params={'n_estimators':[5,10,25,40,70,100],\n",
    "        'criterion':['mse','mae'],\n",
    "        'min_samples_split':[1,2,6,12],\n",
    "        'min_samples_leaf':[2,5,10]      \n",
    "        \n",
    "    \n",
    "}\n",
    "\n",
    "grd=GridSearchCV(rfr,param_grid=params)\n",
    "grd.fit(x_train,y_train)\n",
    "grd.best_params_"
   ]
  },
  {
   "cell_type": "code",
   "execution_count": 268,
   "id": "7d0a244e",
   "metadata": {},
   "outputs": [],
   "source": [
    "rfr=RandomForestRegressor(criterion='mae',\n",
    " min_samples_leaf= 2,\n",
    " min_samples_split= 2,\n",
    " n_estimators= 25)"
   ]
  },
  {
   "cell_type": "code",
   "execution_count": 269,
   "id": "b4dc1d79",
   "metadata": {},
   "outputs": [
    {
     "name": "stdout",
     "output_type": "stream",
     "text": [
      "87.88054912352908\n"
     ]
    }
   ],
   "source": [
    "rfr.fit(x_train,y_train)\n",
    "y_pred=rfr.predict(x_test)\n",
    "print(r2_score(y_test,y_pred)*100)"
   ]
  },
  {
   "cell_type": "markdown",
   "id": "e20c809c",
   "metadata": {},
   "source": [
    "We are able to increase score using hyperparameter tunning"
   ]
  },
  {
   "cell_type": "markdown",
   "id": "e135a01d",
   "metadata": {},
   "source": [
    "### Final Score"
   ]
  },
  {
   "cell_type": "code",
   "execution_count": 270,
   "id": "063b1894",
   "metadata": {},
   "outputs": [
    {
     "name": "stdout",
     "output_type": "stream",
     "text": [
      "cv_score for RandomForestRegressor:  78.72134056430492\n",
      "R2 Score:  87.80596609472965\n",
      "Mean Square Error:  56679.26794205943\n",
      "Mean Absolute Error:  167.06454509090906\n"
     ]
    }
   ],
   "source": [
    "rfr.fit(x_train,y_train)\n",
    "y_pred=rfr.predict(x_test)\n",
    "\n",
    "print('cv_score for RandomForestRegressor: ', np.mean(cross_val_score(rfr,x_train,y_train)*100))\n",
    "print('R2 Score: ',r2_score(y_test,y_pred)*100)\n",
    "print('Mean Square Error: ',mean_squared_error(y_test,y_pred))\n",
    "print('Mean Absolute Error: ',mean_absolute_error(y_test,y_pred))"
   ]
  },
  {
   "cell_type": "markdown",
   "id": "070c93ba",
   "metadata": {},
   "source": [
    "### Model2 Training with same data set , Target:primary_fuel(classification)"
   ]
  },
  {
   "cell_type": "markdown",
   "id": "39a3ef53",
   "metadata": {},
   "source": [
    "### Data Imbalancing Test(Classification)"
   ]
  },
  {
   "cell_type": "code",
   "execution_count": 271,
   "id": "88744a10",
   "metadata": {},
   "outputs": [
    {
     "data": {
      "text/html": [
       "<div>\n",
       "<style scoped>\n",
       "    .dataframe tbody tr th:only-of-type {\n",
       "        vertical-align: middle;\n",
       "    }\n",
       "\n",
       "    .dataframe tbody tr th {\n",
       "        vertical-align: top;\n",
       "    }\n",
       "\n",
       "    .dataframe thead th {\n",
       "        text-align: right;\n",
       "    }\n",
       "</style>\n",
       "<table border=\"1\" class=\"dataframe\">\n",
       "  <thead>\n",
       "    <tr style=\"text-align: right;\">\n",
       "      <th></th>\n",
       "      <th>capacity_mw</th>\n",
       "      <th>primary_fuel</th>\n",
       "      <th>commissioning_year</th>\n",
       "      <th>generation_gwh_2013</th>\n",
       "      <th>generation_gwh_2014</th>\n",
       "      <th>generation_gwh_2015</th>\n",
       "      <th>generation_gwh_2016</th>\n",
       "      <th>generation_gwh_2017</th>\n",
       "    </tr>\n",
       "  </thead>\n",
       "  <tbody>\n",
       "    <tr>\n",
       "      <th>0</th>\n",
       "      <td>135.0</td>\n",
       "      <td>1</td>\n",
       "      <td>2004.0</td>\n",
       "      <td>631.777928</td>\n",
       "      <td>617.789264</td>\n",
       "      <td>843.7470</td>\n",
       "      <td>886.004428</td>\n",
       "      <td>663.774500</td>\n",
       "    </tr>\n",
       "    <tr>\n",
       "      <th>1</th>\n",
       "      <td>1800.0</td>\n",
       "      <td>0</td>\n",
       "      <td>2015.0</td>\n",
       "      <td>1668.290000</td>\n",
       "      <td>3035.550000</td>\n",
       "      <td>5916.3700</td>\n",
       "      <td>6243.000000</td>\n",
       "      <td>5385.579736</td>\n",
       "    </tr>\n",
       "    <tr>\n",
       "      <th>2</th>\n",
       "      <td>250.0</td>\n",
       "      <td>0</td>\n",
       "      <td>2005.0</td>\n",
       "      <td>821.798000</td>\n",
       "      <td>1153.421000</td>\n",
       "      <td>1208.8520</td>\n",
       "      <td>1175.765000</td>\n",
       "      <td>1147.913000</td>\n",
       "    </tr>\n",
       "    <tr>\n",
       "      <th>3</th>\n",
       "      <td>60.0</td>\n",
       "      <td>2</td>\n",
       "      <td>1970.0</td>\n",
       "      <td>147.568450</td>\n",
       "      <td>157.558250</td>\n",
       "      <td>152.1952</td>\n",
       "      <td>61.421350</td>\n",
       "      <td>89.629600</td>\n",
       "    </tr>\n",
       "    <tr>\n",
       "      <th>4</th>\n",
       "      <td>192.0</td>\n",
       "      <td>2</td>\n",
       "      <td>2010.0</td>\n",
       "      <td>696.738800</td>\n",
       "      <td>674.391100</td>\n",
       "      <td>721.3352</td>\n",
       "      <td>675.724400</td>\n",
       "      <td>679.594950</td>\n",
       "    </tr>\n",
       "  </tbody>\n",
       "</table>\n",
       "</div>"
      ],
      "text/plain": [
       "   capacity_mw  primary_fuel  commissioning_year  generation_gwh_2013  \\\n",
       "0        135.0             1              2004.0           631.777928   \n",
       "1       1800.0             0              2015.0          1668.290000   \n",
       "2        250.0             0              2005.0           821.798000   \n",
       "3         60.0             2              1970.0           147.568450   \n",
       "4        192.0             2              2010.0           696.738800   \n",
       "\n",
       "   generation_gwh_2014  generation_gwh_2015  generation_gwh_2016  \\\n",
       "0           617.789264             843.7470           886.004428   \n",
       "1          3035.550000            5916.3700          6243.000000   \n",
       "2          1153.421000            1208.8520          1175.765000   \n",
       "3           157.558250             152.1952            61.421350   \n",
       "4           674.391100             721.3352           675.724400   \n",
       "\n",
       "   generation_gwh_2017  \n",
       "0           663.774500  \n",
       "1          5385.579736  \n",
       "2          1147.913000  \n",
       "3            89.629600  \n",
       "4           679.594950  "
      ]
     },
     "execution_count": 271,
     "metadata": {},
     "output_type": "execute_result"
    }
   ],
   "source": [
    "data.head()"
   ]
  },
  {
   "cell_type": "code",
   "execution_count": 272,
   "id": "b15c2b4b",
   "metadata": {},
   "outputs": [
    {
     "data": {
      "text/plain": [
       "<AxesSubplot:xlabel='primary_fuel', ylabel='count'>"
      ]
     },
     "execution_count": 272,
     "metadata": {},
     "output_type": "execute_result"
    },
    {
     "data": {
      "image/png": "[encoded data removed]",
      "text/plain": [
       "<Figure size 432x288 with 1 Axes>"
      ]
     },
     "metadata": {
      "needs_background": "light"
     },
     "output_type": "display_data"
    }
   ],
   "source": [
    "sns.countplot(data['primary_fuel'])"
   ]
  },
  {
   "cell_type": "code",
   "execution_count": 273,
   "id": "a642b0dc",
   "metadata": {},
   "outputs": [
    {
     "data": {
      "text/plain": [
       "0    185\n",
       "2    179\n",
       "1     57\n",
       "4      9\n",
       "3      8\n",
       "Name: primary_fuel, dtype: int64"
      ]
     },
     "execution_count": 273,
     "metadata": {},
     "output_type": "execute_result"
    }
   ],
   "source": [
    "data['primary_fuel'].value_counts()"
   ]
  },
  {
   "cell_type": "markdown",
   "id": "b5af2947",
   "metadata": {},
   "source": [
    "its multiple values classification ,data is imbalance & we have very less observations for (1,4,3) classes, so we need to perform sampling for balancing it. "
   ]
  },
  {
   "cell_type": "markdown",
   "id": "a4b9b87c",
   "metadata": {},
   "source": [
    "### Data Balancing"
   ]
  },
  {
   "cell_type": "code",
   "execution_count": 274,
   "id": "0388fe00",
   "metadata": {},
   "outputs": [],
   "source": [
    "from sklearn.utils import resample"
   ]
  },
  {
   "cell_type": "code",
   "execution_count": 275,
   "id": "48932f4c",
   "metadata": {},
   "outputs": [],
   "source": [
    "class1=data[data.primary_fuel==1]\n",
    "class4=data[data.primary_fuel==4]\n",
    "class3=data[data.primary_fuel==3]\n",
    "\n",
    "bal=data[(data['primary_fuel']==0)|(data['primary_fuel']==2)]"
   ]
  },
  {
   "cell_type": "code",
   "execution_count": 276,
   "id": "bf799b4c",
   "metadata": {},
   "outputs": [],
   "source": [
    "upclass1=resample(class1,n_samples=175,random_state=25,replace=True)\n",
    "upclass4=resample(class4,n_samples=175,random_state=25,replace=True)\n",
    "upclass3=resample(class3,n_samples=175,random_state=25,replace=True)"
   ]
  },
  {
   "cell_type": "code",
   "execution_count": 277,
   "id": "505108d0",
   "metadata": {},
   "outputs": [],
   "source": [
    "data=pd.concat([upclass1,upclass4,upclass3,bal],axis=0)"
   ]
  },
  {
   "cell_type": "code",
   "execution_count": 278,
   "id": "e793c98b",
   "metadata": {},
   "outputs": [
    {
     "data": {
      "text/plain": [
       "<AxesSubplot:xlabel='primary_fuel', ylabel='count'>"
      ]
     },
     "execution_count": 278,
     "metadata": {},
     "output_type": "execute_result"
    },
    {
     "data": {
      "image/png": "[encoded data removed]",
      "text/plain": [
       "<Figure size 432x288 with 1 Axes>"
      ]
     },
     "metadata": {
      "needs_background": "light"
     },
     "output_type": "display_data"
    }
   ],
   "source": [
    "sns.countplot(data['primary_fuel'])"
   ]
  },
  {
   "cell_type": "code",
   "execution_count": 279,
   "id": "90296f7f",
   "metadata": {},
   "outputs": [
    {
     "data": {
      "text/plain": [
       "0    185\n",
       "2    179\n",
       "1    175\n",
       "3    175\n",
       "4    175\n",
       "Name: primary_fuel, dtype: int64"
      ]
     },
     "execution_count": 279,
     "metadata": {},
     "output_type": "execute_result"
    }
   ],
   "source": [
    "data['primary_fuel'].value_counts()"
   ]
  },
  {
   "cell_type": "markdown",
   "id": "189eca8f",
   "metadata": {},
   "source": [
    "Data imbalance problem solved now."
   ]
  },
  {
   "cell_type": "code",
   "execution_count": 281,
   "id": "83a8cdde",
   "metadata": {},
   "outputs": [
    {
     "data": {
      "text/plain": [
       "(889, 8)"
      ]
     },
     "execution_count": 281,
     "metadata": {},
     "output_type": "execute_result"
    }
   ],
   "source": [
    "data.shape"
   ]
  },
  {
   "cell_type": "markdown",
   "id": "4d0e2241",
   "metadata": {},
   "source": [
    "### Split Data"
   ]
  },
  {
   "cell_type": "code",
   "execution_count": 282,
   "id": "4c34070e",
   "metadata": {},
   "outputs": [],
   "source": [
    "#data split\n",
    "X_clf=data.drop(columns=['primary_fuel'])\n",
    "y_clf=data.primary_fuel"
   ]
  },
  {
   "cell_type": "markdown",
   "id": "c32411bc",
   "metadata": {},
   "source": [
    "### Scaling"
   ]
  },
  {
   "cell_type": "code",
   "execution_count": 283,
   "id": "0693e7e0",
   "metadata": {},
   "outputs": [],
   "source": [
    "#scaling\n",
    "scale=StandardScaler()\n",
    "x_scale=scale.fit_transform(X_clf)"
   ]
  },
  {
   "cell_type": "markdown",
   "id": "138bcd21",
   "metadata": {},
   "source": [
    "### Train Test Split"
   ]
  },
  {
   "cell_type": "code",
   "execution_count": 284,
   "id": "fe65ed19",
   "metadata": {},
   "outputs": [],
   "source": [
    "#train test split\n",
    "x_train,x_test,y_train,y_test=train_test_split(x_scale,y_clf,random_state=270,test_size=0.25)"
   ]
  },
  {
   "cell_type": "markdown",
   "id": "e560bed5",
   "metadata": {},
   "source": [
    "### Model Building"
   ]
  },
  {
   "cell_type": "code",
   "execution_count": 285,
   "id": "0a1ad66c",
   "metadata": {},
   "outputs": [],
   "source": [
    "clf=LogisticRegression()\n",
    "dt=DecisionTreeClassifier()\n",
    "rfc=RandomForestClassifier()"
   ]
  },
  {
   "cell_type": "code",
   "execution_count": 286,
   "id": "6c1c0cb6",
   "metadata": {},
   "outputs": [
    {
     "data": {
      "text/plain": [
       "RandomForestClassifier()"
      ]
     },
     "execution_count": 286,
     "metadata": {},
     "output_type": "execute_result"
    }
   ],
   "source": [
    "clf.fit(x_train,y_train)\n",
    "dt.fit(x_train,y_train)\n",
    "rfc.fit(x_train,y_train)"
   ]
  },
  {
   "cell_type": "markdown",
   "id": "85c7f295",
   "metadata": {},
   "source": [
    "### Evaluation"
   ]
  },
  {
   "cell_type": "code",
   "execution_count": 287,
   "id": "dcc24553",
   "metadata": {},
   "outputs": [
    {
     "data": {
      "text/plain": [
       "0.6053811659192825"
      ]
     },
     "execution_count": 287,
     "metadata": {},
     "output_type": "execute_result"
    }
   ],
   "source": [
    "#logistic regression\n",
    "y_pred=clf.predict(x_test)\n",
    "accuracy_score(y_test,y_pred)"
   ]
  },
  {
   "cell_type": "code",
   "execution_count": 288,
   "id": "b86a9be9",
   "metadata": {},
   "outputs": [
    {
     "data": {
      "text/plain": [
       "0.9192825112107623"
      ]
     },
     "execution_count": 288,
     "metadata": {},
     "output_type": "execute_result"
    }
   ],
   "source": [
    "#Decision Tree\n",
    "y_pred=dt.predict(x_test)\n",
    "accuracy_score(y_test,y_pred)"
   ]
  },
  {
   "cell_type": "code",
   "execution_count": 289,
   "id": "29dc001e",
   "metadata": {},
   "outputs": [
    {
     "data": {
      "text/plain": [
       "0.9327354260089686"
      ]
     },
     "execution_count": 289,
     "metadata": {},
     "output_type": "execute_result"
    }
   ],
   "source": [
    "#Random Forest Classifier\n",
    "y_pred=rfc.predict(x_test)\n",
    "accuracy_score(y_test,y_pred)"
   ]
  },
  {
   "cell_type": "markdown",
   "id": "6ef609b7",
   "metadata": {},
   "source": [
    "### Cross Validation"
   ]
  },
  {
   "cell_type": "code",
   "execution_count": 290,
   "id": "8c4dc363",
   "metadata": {},
   "outputs": [
    {
     "name": "stdout",
     "output_type": "stream",
     "text": [
      "cv_score for LogisticRegression:  59.157221411738306\n",
      "\n",
      "cv_score for DecisionTreeClassifier:  84.53372236561553\n",
      "\n",
      "cv_score for RandomForestClassifier:  86.78599483784087\n"
     ]
    }
   ],
   "source": [
    "print('cv_score for LogisticRegression: ', np.mean(cross_val_score(clf,x_train,y_train)*100))\n",
    "print('\\ncv_score for DecisionTreeClassifier: ', np.mean(cross_val_score(dt,x_train,y_train)*100))\n",
    "print('\\ncv_score for RandomForestClassifier: ', np.mean(cross_val_score(rfc,x_train,y_train)*100))"
   ]
  },
  {
   "cell_type": "markdown",
   "id": "885e49a5",
   "metadata": {},
   "source": [
    "### RandomForestClassifier model is performing best amongs all, and getting cv score. around 86%."
   ]
  },
  {
   "cell_type": "markdown",
   "id": "c239836e",
   "metadata": {},
   "source": [
    "### Hyper Parameter Tunning"
   ]
  },
  {
   "cell_type": "code",
   "execution_count": 291,
   "id": "0d74740d",
   "metadata": {},
   "outputs": [],
   "source": [
    "params={'n_estimators':[10,20,50,100],\n",
    "        'criterion':['gini','entropy'],\n",
    "        'min_samples_split':[1,2,5,10],\n",
    "        'min_samples_leaf':[1,3,5]\n",
    "          \n",
    "}"
   ]
  },
  {
   "cell_type": "code",
   "execution_count": 292,
   "id": "e9fd408c",
   "metadata": {},
   "outputs": [
    {
     "data": {
      "text/plain": [
       "{'criterion': 'gini',\n",
       " 'min_samples_leaf': 1,\n",
       " 'min_samples_split': 5,\n",
       " 'n_estimators': 50}"
      ]
     },
     "execution_count": 292,
     "metadata": {},
     "output_type": "execute_result"
    }
   ],
   "source": [
    "grd=GridSearchCV(rfc,param_grid=params)\n",
    "grd.fit(x_train,y_train)\n",
    "grd.best_params_"
   ]
  },
  {
   "cell_type": "code",
   "execution_count": 293,
   "id": "0db9e460",
   "metadata": {},
   "outputs": [],
   "source": [
    "rfc=RandomForestClassifier(criterion= 'gini',\n",
    " min_samples_leaf= 1,\n",
    " min_samples_split= 5,\n",
    " n_estimators= 50)"
   ]
  },
  {
   "cell_type": "code",
   "execution_count": 294,
   "id": "dd081ca6",
   "metadata": {},
   "outputs": [
    {
     "data": {
      "text/plain": [
       "0.9282511210762332"
      ]
     },
     "execution_count": 294,
     "metadata": {},
     "output_type": "execute_result"
    }
   ],
   "source": [
    "rfc.fit(x_train,y_train)\n",
    "y_pred=rfc.predict(x_test)\n",
    "accuracy_score(y_test,y_pred)"
   ]
  },
  {
   "cell_type": "markdown",
   "id": "068a4fa9",
   "metadata": {},
   "source": [
    "### Score improved after tunning parameters in Random Forest 93%"
   ]
  },
  {
   "cell_type": "markdown",
   "id": "4787ad92",
   "metadata": {},
   "source": [
    "### Final Score-Classification model with target primary_fuel"
   ]
  },
  {
   "cell_type": "code",
   "execution_count": 296,
   "id": "41ca89be",
   "metadata": {},
   "outputs": [
    {
     "name": "stdout",
     "output_type": "stream",
     "text": [
      "cv_score for RandomForestRegressor:  85.88822803276848\n",
      "R2 Score:  93.72197309417041\n",
      "Mean Square Error:                precision    recall  f1-score   support\n",
      "\n",
      "           0       0.87      0.87      0.87        39\n",
      "           1       0.90      0.96      0.93        46\n",
      "           2       0.91      0.86      0.89        50\n",
      "           3       1.00      1.00      1.00        47\n",
      "           4       1.00      1.00      1.00        41\n",
      "\n",
      "    accuracy                           0.94       223\n",
      "   macro avg       0.94      0.94      0.94       223\n",
      "weighted avg       0.94      0.94      0.94       223\n",
      "\n"
     ]
    }
   ],
   "source": [
    "print('cv_score for RandomForestRegressor: ', np.mean(cross_val_score(rfc,x_train,y_train)*100))\n",
    "print('R2 Score: ',accuracy_score(y_test,y_pred)*100)\n",
    "print('Mean Square Error: ',classification_report(y_test,y_pred))"
   ]
  },
  {
   "cell_type": "markdown",
   "id": "769e2aec",
   "metadata": {},
   "source": [
    "Since its multiple label classfication so not forming AUC-ROC"
   ]
  },
  {
   "cell_type": "markdown",
   "id": "ad22d784",
   "metadata": {},
   "source": [
    "### Model Save"
   ]
  },
  {
   "cell_type": "code",
   "execution_count": 299,
   "id": "f24f9523",
   "metadata": {},
   "outputs": [],
   "source": [
    "filename='Global_plant_classifier.pickle'\n",
    "\n",
    "pickle.dump(rfc,open(filename,'wb'))"
   ]
  },
  {
   "cell_type": "code",
   "execution_count": 300,
   "id": "d749e9b3",
   "metadata": {},
   "outputs": [],
   "source": [
    "filename='Global_plant_regression.pickle'\n",
    "\n",
    "pickle.dump(rfr,open(filename,'wb'))"
   ]
  }
 ],
 "metadata": {
  "kernelspec": {
   "display_name": "Python 3",
   "language": "python",
   "name": "python3"
  },
  "language_info": {
   "codemirror_mode": {
    "name": "ipython",
    "version": 3
   },
   "file_extension": ".py",
   "mimetype": "text/x-python",
   "name": "python",
   "nbconvert_exporter": "python",
   "pygments_lexer": "ipython3",
   "version": "3.8.8"
  }
 },
 "nbformat": 4,
 "nbformat_minor": 5
}
