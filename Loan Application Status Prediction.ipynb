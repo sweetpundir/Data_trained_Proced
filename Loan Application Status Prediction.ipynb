{
 "cells": [
  {
   "cell_type": "markdown",
   "id": "f7013137",
   "metadata": {},
   "source": [
    "### Loan Application Status Prediction"
   ]
  },
  {
   "cell_type": "markdown",
   "id": "f8e7c309",
   "metadata": {},
   "source": [
    "Loan Application Status Prediction\n",
    "Problem Statement:\n",
    "This dataset includes details of applicants who have applied for loan. The dataset includes details like credit history, loan amount, their income, dependents etc. \n",
    "\n",
    "Independent Variables:\n",
    "\n",
    "- Loan_ID\n",
    "\n",
    "- Gender\n",
    "\n",
    "- Married\n",
    "\n",
    "- Dependents\n",
    "\n",
    "- Education\n",
    "\n",
    "- Self_Employed\n",
    "\n",
    "- ApplicantIncome\n",
    "\n",
    "- CoapplicantIncome\n",
    "\n",
    "- Loan_Amount\n",
    "\n",
    "- Loan_Amount_Term\n",
    "\n",
    "- Credit History\n",
    "\n",
    "- Property_Area\n",
    "\n",
    "Dependent Variable (Target Variable):\n",
    "\n",
    "- Loan_Status\n",
    "\n",
    "You have to build a model that can predict whether the loan of the applicant will be approved or not on the basis of the details provided in the dataset. \n",
    "\n",
    "Note: The link of the dataset is below. \n",
    "\n",
    "Downlaod Files:\n",
    "https://github.com/dsrscientist/DSData/blob/master/loan_prediction.csv"
   ]
  },
  {
   "cell_type": "markdown",
   "id": "3c58bf37",
   "metadata": {},
   "source": [
    "### Importing Library"
   ]
  },
  {
   "cell_type": "code",
   "execution_count": 151,
   "id": "5c6f9ad9",
   "metadata": {},
   "outputs": [],
   "source": [
    "#data lib\n",
    "import pandas as pd\n",
    "import numpy as np\n",
    "\n",
    "#visualization\n",
    "import matplotlib.pyplot as plt\n",
    "import seaborn as sns\n",
    "%matplotlib inline\n",
    "\n",
    "#Preprocessing lib\n",
    "from sklearn.model_selection import train_test_split\n",
    "from sklearn.preprocessing import StandardScaler\n",
    "\n",
    "\n",
    "#models\n",
    "from sklearn.linear_model import LogisticRegression\n",
    "from sklearn.ensemble import RandomForestClassifier\n",
    "from sklearn.ensemble import GradientBoostingClassifier\n",
    "from sklearn.svm import SVC\n",
    "\n",
    "#tunning lib\n",
    "from sklearn.model_selection import GridSearchCV,RandomizedSearchCV\n",
    "\n",
    "#metrics\n",
    "\n",
    "from sklearn.metrics import confusion_matrix,accuracy_score,classification_report\n",
    "\n",
    "#save\n",
    "\n",
    "import pickle\n",
    "\n",
    "import warnings\n",
    "warnings.filterwarnings(\"ignore\")"
   ]
  },
  {
   "cell_type": "markdown",
   "id": "10a55afb",
   "metadata": {},
   "source": [
    "### Data Loading"
   ]
  },
  {
   "cell_type": "code",
   "execution_count": 87,
   "id": "263e87b4",
   "metadata": {},
   "outputs": [
    {
     "data": {
      "text/html": [
       "<div>\n",
       "<style scoped>\n",
       "    .dataframe tbody tr th:only-of-type {\n",
       "        vertical-align: middle;\n",
       "    }\n",
       "\n",
       "    .dataframe tbody tr th {\n",
       "        vertical-align: top;\n",
       "    }\n",
       "\n",
       "    .dataframe thead th {\n",
       "        text-align: right;\n",
       "    }\n",
       "</style>\n",
       "<table border=\"1\" class=\"dataframe\">\n",
       "  <thead>\n",
       "    <tr style=\"text-align: right;\">\n",
       "      <th></th>\n",
       "      <th>Loan_ID</th>\n",
       "      <th>Gender</th>\n",
       "      <th>Married</th>\n",
       "      <th>Dependents</th>\n",
       "      <th>Education</th>\n",
       "      <th>Self_Employed</th>\n",
       "      <th>ApplicantIncome</th>\n",
       "      <th>CoapplicantIncome</th>\n",
       "      <th>LoanAmount</th>\n",
       "      <th>Loan_Amount_Term</th>\n",
       "      <th>Credit_History</th>\n",
       "      <th>Property_Area</th>\n",
       "      <th>Loan_Status</th>\n",
       "    </tr>\n",
       "  </thead>\n",
       "  <tbody>\n",
       "    <tr>\n",
       "      <th>0</th>\n",
       "      <td>LP001002</td>\n",
       "      <td>Male</td>\n",
       "      <td>No</td>\n",
       "      <td>0</td>\n",
       "      <td>Graduate</td>\n",
       "      <td>No</td>\n",
       "      <td>5849</td>\n",
       "      <td>0.0</td>\n",
       "      <td>NaN</td>\n",
       "      <td>360.0</td>\n",
       "      <td>1.0</td>\n",
       "      <td>Urban</td>\n",
       "      <td>Y</td>\n",
       "    </tr>\n",
       "    <tr>\n",
       "      <th>1</th>\n",
       "      <td>LP001003</td>\n",
       "      <td>Male</td>\n",
       "      <td>Yes</td>\n",
       "      <td>1</td>\n",
       "      <td>Graduate</td>\n",
       "      <td>No</td>\n",
       "      <td>4583</td>\n",
       "      <td>1508.0</td>\n",
       "      <td>128.0</td>\n",
       "      <td>360.0</td>\n",
       "      <td>1.0</td>\n",
       "      <td>Rural</td>\n",
       "      <td>N</td>\n",
       "    </tr>\n",
       "    <tr>\n",
       "      <th>2</th>\n",
       "      <td>LP001005</td>\n",
       "      <td>Male</td>\n",
       "      <td>Yes</td>\n",
       "      <td>0</td>\n",
       "      <td>Graduate</td>\n",
       "      <td>Yes</td>\n",
       "      <td>3000</td>\n",
       "      <td>0.0</td>\n",
       "      <td>66.0</td>\n",
       "      <td>360.0</td>\n",
       "      <td>1.0</td>\n",
       "      <td>Urban</td>\n",
       "      <td>Y</td>\n",
       "    </tr>\n",
       "    <tr>\n",
       "      <th>3</th>\n",
       "      <td>LP001006</td>\n",
       "      <td>Male</td>\n",
       "      <td>Yes</td>\n",
       "      <td>0</td>\n",
       "      <td>Not Graduate</td>\n",
       "      <td>No</td>\n",
       "      <td>2583</td>\n",
       "      <td>2358.0</td>\n",
       "      <td>120.0</td>\n",
       "      <td>360.0</td>\n",
       "      <td>1.0</td>\n",
       "      <td>Urban</td>\n",
       "      <td>Y</td>\n",
       "    </tr>\n",
       "    <tr>\n",
       "      <th>4</th>\n",
       "      <td>LP001008</td>\n",
       "      <td>Male</td>\n",
       "      <td>No</td>\n",
       "      <td>0</td>\n",
       "      <td>Graduate</td>\n",
       "      <td>No</td>\n",
       "      <td>6000</td>\n",
       "      <td>0.0</td>\n",
       "      <td>141.0</td>\n",
       "      <td>360.0</td>\n",
       "      <td>1.0</td>\n",
       "      <td>Urban</td>\n",
       "      <td>Y</td>\n",
       "    </tr>\n",
       "  </tbody>\n",
       "</table>\n",
       "</div>"
      ],
      "text/plain": [
       "    Loan_ID Gender Married Dependents     Education Self_Employed  \\\n",
       "0  LP001002   Male      No          0      Graduate            No   \n",
       "1  LP001003   Male     Yes          1      Graduate            No   \n",
       "2  LP001005   Male     Yes          0      Graduate           Yes   \n",
       "3  LP001006   Male     Yes          0  Not Graduate            No   \n",
       "4  LP001008   Male      No          0      Graduate            No   \n",
       "\n",
       "   ApplicantIncome  CoapplicantIncome  LoanAmount  Loan_Amount_Term  \\\n",
       "0             5849                0.0         NaN             360.0   \n",
       "1             4583             1508.0       128.0             360.0   \n",
       "2             3000                0.0        66.0             360.0   \n",
       "3             2583             2358.0       120.0             360.0   \n",
       "4             6000                0.0       141.0             360.0   \n",
       "\n",
       "   Credit_History Property_Area Loan_Status  \n",
       "0             1.0         Urban           Y  \n",
       "1             1.0         Rural           N  \n",
       "2             1.0         Urban           Y  \n",
       "3             1.0         Urban           Y  \n",
       "4             1.0         Urban           Y  "
      ]
     },
     "execution_count": 87,
     "metadata": {},
     "output_type": "execute_result"
    }
   ],
   "source": [
    "data=pd.read_csv(r'https://raw.githubusercontent.com/dsrscientist/DSData/master/loan_prediction.csv')\n",
    "data.head()"
   ]
  },
  {
   "cell_type": "code",
   "execution_count": 196,
   "id": "e22d00a3",
   "metadata": {},
   "outputs": [
    {
     "data": {
      "text/plain": [
       "(685, 14)"
      ]
     },
     "execution_count": 196,
     "metadata": {},
     "output_type": "execute_result"
    }
   ],
   "source": [
    "data.shape"
   ]
  },
  {
   "cell_type": "code",
   "execution_count": 89,
   "id": "a0d6f51f",
   "metadata": {},
   "outputs": [
    {
     "data": {
      "text/plain": [
       "614"
      ]
     },
     "execution_count": 89,
     "metadata": {},
     "output_type": "execute_result"
    }
   ],
   "source": [
    "data['Loan_ID'].nunique()"
   ]
  },
  {
   "cell_type": "markdown",
   "id": "c3ae8cd4",
   "metadata": {},
   "source": [
    "### Data Cleaning"
   ]
  },
  {
   "cell_type": "code",
   "execution_count": 90,
   "id": "85cfb2c3",
   "metadata": {},
   "outputs": [],
   "source": [
    "data.drop(columns=['Loan_ID'],inplace=True)"
   ]
  },
  {
   "cell_type": "code",
   "execution_count": 91,
   "id": "de17f18c",
   "metadata": {},
   "outputs": [
    {
     "data": {
      "text/plain": [
       "(614, 12)"
      ]
     },
     "execution_count": 91,
     "metadata": {},
     "output_type": "execute_result"
    }
   ],
   "source": [
    "data.shape"
   ]
  },
  {
   "cell_type": "markdown",
   "id": "e70fcf4e",
   "metadata": {},
   "source": [
    "### Null Testing"
   ]
  },
  {
   "cell_type": "code",
   "execution_count": 92,
   "id": "82585b29",
   "metadata": {},
   "outputs": [
    {
     "data": {
      "text/plain": [
       "Gender               13\n",
       "Married               3\n",
       "Dependents           15\n",
       "Education             0\n",
       "Self_Employed        32\n",
       "ApplicantIncome       0\n",
       "CoapplicantIncome     0\n",
       "LoanAmount           22\n",
       "Loan_Amount_Term     14\n",
       "Credit_History       50\n",
       "Property_Area         0\n",
       "Loan_Status           0\n",
       "dtype: int64"
      ]
     },
     "execution_count": 92,
     "metadata": {},
     "output_type": "execute_result"
    }
   ],
   "source": [
    "data.isna().sum()"
   ]
  },
  {
   "cell_type": "markdown",
   "id": "d1c12e61",
   "metadata": {},
   "source": [
    "Credit history is most important feature in any loan application, model can predict wrongly in case we replace nan with mean,median. so here we are removing these nan. "
   ]
  },
  {
   "cell_type": "code",
   "execution_count": 93,
   "id": "c8b139b2",
   "metadata": {},
   "outputs": [],
   "source": [
    "data.drop(index=data[data['Credit_History'].isnull()].index,inplace=True)"
   ]
  },
  {
   "cell_type": "code",
   "execution_count": 94,
   "id": "26b91d15",
   "metadata": {},
   "outputs": [
    {
     "data": {
      "text/plain": [
       "Gender               12\n",
       "Married               3\n",
       "Dependents           15\n",
       "Education             0\n",
       "Self_Employed        26\n",
       "ApplicantIncome       0\n",
       "CoapplicantIncome     0\n",
       "LoanAmount           21\n",
       "Loan_Amount_Term     14\n",
       "Credit_History        0\n",
       "Property_Area         0\n",
       "Loan_Status           0\n",
       "dtype: int64"
      ]
     },
     "execution_count": 94,
     "metadata": {},
     "output_type": "execute_result"
    }
   ],
   "source": [
    "data.isna().sum()"
   ]
  },
  {
   "cell_type": "markdown",
   "id": "c25d561e",
   "metadata": {},
   "source": [
    "### Imputing Features"
   ]
  },
  {
   "cell_type": "code",
   "execution_count": 95,
   "id": "b2ce1a38",
   "metadata": {},
   "outputs": [],
   "source": [
    "data['Gender'].fillna(data['Gender'].mode()[0],inplace=True)\n",
    "data['Married'].fillna(data['Married'].mode()[0],inplace=True)\n",
    "data['Dependents'].fillna(data['Dependents'].mode()[0],inplace=True)\n",
    "data['Self_Employed'].fillna(data['Self_Employed'].mode()[0],inplace=True)\n",
    "data['Loan_Amount_Term'].fillna(data['Loan_Amount_Term'].mode()[0],inplace=True)"
   ]
  },
  {
   "cell_type": "code",
   "execution_count": 96,
   "id": "130bc799",
   "metadata": {},
   "outputs": [],
   "source": [
    "from sklearn.impute import SimpleImputer"
   ]
  },
  {
   "cell_type": "code",
   "execution_count": 97,
   "id": "26242e68",
   "metadata": {},
   "outputs": [],
   "source": [
    "si=SimpleImputer()\n",
    "data['LoanAmount']=si.fit_transform(data[['LoanAmount']])"
   ]
  },
  {
   "cell_type": "code",
   "execution_count": 98,
   "id": "efb7f62d",
   "metadata": {
    "scrolled": true
   },
   "outputs": [
    {
     "data": {
      "text/plain": [
       "Gender               0\n",
       "Married              0\n",
       "Dependents           0\n",
       "Education            0\n",
       "Self_Employed        0\n",
       "ApplicantIncome      0\n",
       "CoapplicantIncome    0\n",
       "LoanAmount           0\n",
       "Loan_Amount_Term     0\n",
       "Credit_History       0\n",
       "Property_Area        0\n",
       "Loan_Status          0\n",
       "dtype: int64"
      ]
     },
     "execution_count": 98,
     "metadata": {},
     "output_type": "execute_result"
    }
   ],
   "source": [
    "data.isna().sum()"
   ]
  },
  {
   "cell_type": "code",
   "execution_count": 99,
   "id": "0f09a4c8",
   "metadata": {},
   "outputs": [
    {
     "data": {
      "text/plain": [
       "Gender                 2\n",
       "Married                2\n",
       "Dependents             4\n",
       "Education              2\n",
       "Self_Employed          2\n",
       "ApplicantIncome      472\n",
       "CoapplicantIncome    261\n",
       "LoanAmount           195\n",
       "Loan_Amount_Term       9\n",
       "Credit_History         2\n",
       "Property_Area          3\n",
       "Loan_Status            2\n",
       "dtype: int64"
      ]
     },
     "execution_count": 99,
     "metadata": {},
     "output_type": "execute_result"
    }
   ],
   "source": [
    "data.nunique()"
   ]
  },
  {
   "cell_type": "code",
   "execution_count": 100,
   "id": "c31385f4",
   "metadata": {},
   "outputs": [
    {
     "name": "stdout",
     "output_type": "stream",
     "text": [
      "<class 'pandas.core.frame.DataFrame'>\n",
      "Int64Index: 564 entries, 0 to 613\n",
      "Data columns (total 12 columns):\n",
      " #   Column             Non-Null Count  Dtype  \n",
      "---  ------             --------------  -----  \n",
      " 0   Gender             564 non-null    object \n",
      " 1   Married            564 non-null    object \n",
      " 2   Dependents         564 non-null    object \n",
      " 3   Education          564 non-null    object \n",
      " 4   Self_Employed      564 non-null    object \n",
      " 5   ApplicantIncome    564 non-null    int64  \n",
      " 6   CoapplicantIncome  564 non-null    float64\n",
      " 7   LoanAmount         564 non-null    float64\n",
      " 8   Loan_Amount_Term   564 non-null    float64\n",
      " 9   Credit_History     564 non-null    float64\n",
      " 10  Property_Area      564 non-null    object \n",
      " 11  Loan_Status        564 non-null    object \n",
      "dtypes: float64(4), int64(1), object(7)\n",
      "memory usage: 57.3+ KB\n"
     ]
    }
   ],
   "source": [
    "data.info()"
   ]
  },
  {
   "cell_type": "markdown",
   "id": "34cc0eca",
   "metadata": {},
   "source": [
    "### Encoding Features"
   ]
  },
  {
   "cell_type": "code",
   "execution_count": 101,
   "id": "6b23f890",
   "metadata": {},
   "outputs": [],
   "source": [
    "data['Gender']=data['Gender'].map({'Male':1,'Female':0})\n",
    "data['Married']=data['Married'].map({'Yes':1,'No':0})\n",
    "data['Education']=data['Education'].map({'Graduate':1,'Not Graduate':0})\n",
    "data['Self_Employed']=data['Self_Employed'].map({'Yes':1,'No':0})\n",
    "data['Loan_Status']=data['Loan_Status'].map({'Y':1,'N':0})"
   ]
  },
  {
   "cell_type": "code",
   "execution_count": 102,
   "id": "25888632",
   "metadata": {},
   "outputs": [
    {
     "data": {
      "text/plain": [
       "0     331\n",
       "2      95\n",
       "1      90\n",
       "3+     48\n",
       "Name: Dependents, dtype: int64"
      ]
     },
     "execution_count": 102,
     "metadata": {},
     "output_type": "execute_result"
    }
   ],
   "source": [
    "data['Dependents'].value_counts()"
   ]
  },
  {
   "cell_type": "markdown",
   "id": "8c402997",
   "metadata": {},
   "source": [
    "Due to value 3+ feature showing as object lets convert it in whole number."
   ]
  },
  {
   "cell_type": "code",
   "execution_count": 104,
   "id": "1e9cf309",
   "metadata": {},
   "outputs": [],
   "source": [
    "data['Dependents'].replace('3+',3,inplace=True)"
   ]
  },
  {
   "cell_type": "code",
   "execution_count": 105,
   "id": "1050f5c2",
   "metadata": {},
   "outputs": [],
   "source": [
    "data = pd.get_dummies(data, columns = ['Property_Area'])"
   ]
  },
  {
   "cell_type": "code",
   "execution_count": 106,
   "id": "9636025b",
   "metadata": {},
   "outputs": [
    {
     "data": {
      "text/html": [
       "<div>\n",
       "<style scoped>\n",
       "    .dataframe tbody tr th:only-of-type {\n",
       "        vertical-align: middle;\n",
       "    }\n",
       "\n",
       "    .dataframe tbody tr th {\n",
       "        vertical-align: top;\n",
       "    }\n",
       "\n",
       "    .dataframe thead th {\n",
       "        text-align: right;\n",
       "    }\n",
       "</style>\n",
       "<table border=\"1\" class=\"dataframe\">\n",
       "  <thead>\n",
       "    <tr style=\"text-align: right;\">\n",
       "      <th></th>\n",
       "      <th>Gender</th>\n",
       "      <th>Married</th>\n",
       "      <th>Dependents</th>\n",
       "      <th>Education</th>\n",
       "      <th>Self_Employed</th>\n",
       "      <th>ApplicantIncome</th>\n",
       "      <th>CoapplicantIncome</th>\n",
       "      <th>LoanAmount</th>\n",
       "      <th>Loan_Amount_Term</th>\n",
       "      <th>Credit_History</th>\n",
       "      <th>Loan_Status</th>\n",
       "      <th>Property_Area_Rural</th>\n",
       "      <th>Property_Area_Semiurban</th>\n",
       "      <th>Property_Area_Urban</th>\n",
       "    </tr>\n",
       "  </thead>\n",
       "  <tbody>\n",
       "    <tr>\n",
       "      <th>0</th>\n",
       "      <td>1</td>\n",
       "      <td>0</td>\n",
       "      <td>0</td>\n",
       "      <td>1</td>\n",
       "      <td>0</td>\n",
       "      <td>5849</td>\n",
       "      <td>0.0</td>\n",
       "      <td>145.088398</td>\n",
       "      <td>360.0</td>\n",
       "      <td>1.0</td>\n",
       "      <td>1</td>\n",
       "      <td>0</td>\n",
       "      <td>0</td>\n",
       "      <td>1</td>\n",
       "    </tr>\n",
       "    <tr>\n",
       "      <th>1</th>\n",
       "      <td>1</td>\n",
       "      <td>1</td>\n",
       "      <td>1</td>\n",
       "      <td>1</td>\n",
       "      <td>0</td>\n",
       "      <td>4583</td>\n",
       "      <td>1508.0</td>\n",
       "      <td>128.000000</td>\n",
       "      <td>360.0</td>\n",
       "      <td>1.0</td>\n",
       "      <td>0</td>\n",
       "      <td>1</td>\n",
       "      <td>0</td>\n",
       "      <td>0</td>\n",
       "    </tr>\n",
       "    <tr>\n",
       "      <th>2</th>\n",
       "      <td>1</td>\n",
       "      <td>1</td>\n",
       "      <td>0</td>\n",
       "      <td>1</td>\n",
       "      <td>1</td>\n",
       "      <td>3000</td>\n",
       "      <td>0.0</td>\n",
       "      <td>66.000000</td>\n",
       "      <td>360.0</td>\n",
       "      <td>1.0</td>\n",
       "      <td>1</td>\n",
       "      <td>0</td>\n",
       "      <td>0</td>\n",
       "      <td>1</td>\n",
       "    </tr>\n",
       "    <tr>\n",
       "      <th>3</th>\n",
       "      <td>1</td>\n",
       "      <td>1</td>\n",
       "      <td>0</td>\n",
       "      <td>0</td>\n",
       "      <td>0</td>\n",
       "      <td>2583</td>\n",
       "      <td>2358.0</td>\n",
       "      <td>120.000000</td>\n",
       "      <td>360.0</td>\n",
       "      <td>1.0</td>\n",
       "      <td>1</td>\n",
       "      <td>0</td>\n",
       "      <td>0</td>\n",
       "      <td>1</td>\n",
       "    </tr>\n",
       "    <tr>\n",
       "      <th>4</th>\n",
       "      <td>1</td>\n",
       "      <td>0</td>\n",
       "      <td>0</td>\n",
       "      <td>1</td>\n",
       "      <td>0</td>\n",
       "      <td>6000</td>\n",
       "      <td>0.0</td>\n",
       "      <td>141.000000</td>\n",
       "      <td>360.0</td>\n",
       "      <td>1.0</td>\n",
       "      <td>1</td>\n",
       "      <td>0</td>\n",
       "      <td>0</td>\n",
       "      <td>1</td>\n",
       "    </tr>\n",
       "    <tr>\n",
       "      <th>...</th>\n",
       "      <td>...</td>\n",
       "      <td>...</td>\n",
       "      <td>...</td>\n",
       "      <td>...</td>\n",
       "      <td>...</td>\n",
       "      <td>...</td>\n",
       "      <td>...</td>\n",
       "      <td>...</td>\n",
       "      <td>...</td>\n",
       "      <td>...</td>\n",
       "      <td>...</td>\n",
       "      <td>...</td>\n",
       "      <td>...</td>\n",
       "      <td>...</td>\n",
       "    </tr>\n",
       "    <tr>\n",
       "      <th>609</th>\n",
       "      <td>0</td>\n",
       "      <td>0</td>\n",
       "      <td>0</td>\n",
       "      <td>1</td>\n",
       "      <td>0</td>\n",
       "      <td>2900</td>\n",
       "      <td>0.0</td>\n",
       "      <td>71.000000</td>\n",
       "      <td>360.0</td>\n",
       "      <td>1.0</td>\n",
       "      <td>1</td>\n",
       "      <td>1</td>\n",
       "      <td>0</td>\n",
       "      <td>0</td>\n",
       "    </tr>\n",
       "    <tr>\n",
       "      <th>610</th>\n",
       "      <td>1</td>\n",
       "      <td>1</td>\n",
       "      <td>3</td>\n",
       "      <td>1</td>\n",
       "      <td>0</td>\n",
       "      <td>4106</td>\n",
       "      <td>0.0</td>\n",
       "      <td>40.000000</td>\n",
       "      <td>180.0</td>\n",
       "      <td>1.0</td>\n",
       "      <td>1</td>\n",
       "      <td>1</td>\n",
       "      <td>0</td>\n",
       "      <td>0</td>\n",
       "    </tr>\n",
       "    <tr>\n",
       "      <th>611</th>\n",
       "      <td>1</td>\n",
       "      <td>1</td>\n",
       "      <td>1</td>\n",
       "      <td>1</td>\n",
       "      <td>0</td>\n",
       "      <td>8072</td>\n",
       "      <td>240.0</td>\n",
       "      <td>253.000000</td>\n",
       "      <td>360.0</td>\n",
       "      <td>1.0</td>\n",
       "      <td>1</td>\n",
       "      <td>0</td>\n",
       "      <td>0</td>\n",
       "      <td>1</td>\n",
       "    </tr>\n",
       "    <tr>\n",
       "      <th>612</th>\n",
       "      <td>1</td>\n",
       "      <td>1</td>\n",
       "      <td>2</td>\n",
       "      <td>1</td>\n",
       "      <td>0</td>\n",
       "      <td>7583</td>\n",
       "      <td>0.0</td>\n",
       "      <td>187.000000</td>\n",
       "      <td>360.0</td>\n",
       "      <td>1.0</td>\n",
       "      <td>1</td>\n",
       "      <td>0</td>\n",
       "      <td>0</td>\n",
       "      <td>1</td>\n",
       "    </tr>\n",
       "    <tr>\n",
       "      <th>613</th>\n",
       "      <td>0</td>\n",
       "      <td>0</td>\n",
       "      <td>0</td>\n",
       "      <td>1</td>\n",
       "      <td>1</td>\n",
       "      <td>4583</td>\n",
       "      <td>0.0</td>\n",
       "      <td>133.000000</td>\n",
       "      <td>360.0</td>\n",
       "      <td>0.0</td>\n",
       "      <td>0</td>\n",
       "      <td>0</td>\n",
       "      <td>1</td>\n",
       "      <td>0</td>\n",
       "    </tr>\n",
       "  </tbody>\n",
       "</table>\n",
       "<p>564 rows × 14 columns</p>\n",
       "</div>"
      ],
      "text/plain": [
       "     Gender  Married Dependents  Education  Self_Employed  ApplicantIncome  \\\n",
       "0         1        0          0          1              0             5849   \n",
       "1         1        1          1          1              0             4583   \n",
       "2         1        1          0          1              1             3000   \n",
       "3         1        1          0          0              0             2583   \n",
       "4         1        0          0          1              0             6000   \n",
       "..      ...      ...        ...        ...            ...              ...   \n",
       "609       0        0          0          1              0             2900   \n",
       "610       1        1          3          1              0             4106   \n",
       "611       1        1          1          1              0             8072   \n",
       "612       1        1          2          1              0             7583   \n",
       "613       0        0          0          1              1             4583   \n",
       "\n",
       "     CoapplicantIncome  LoanAmount  Loan_Amount_Term  Credit_History  \\\n",
       "0                  0.0  145.088398             360.0             1.0   \n",
       "1               1508.0  128.000000             360.0             1.0   \n",
       "2                  0.0   66.000000             360.0             1.0   \n",
       "3               2358.0  120.000000             360.0             1.0   \n",
       "4                  0.0  141.000000             360.0             1.0   \n",
       "..                 ...         ...               ...             ...   \n",
       "609                0.0   71.000000             360.0             1.0   \n",
       "610                0.0   40.000000             180.0             1.0   \n",
       "611              240.0  253.000000             360.0             1.0   \n",
       "612                0.0  187.000000             360.0             1.0   \n",
       "613                0.0  133.000000             360.0             0.0   \n",
       "\n",
       "     Loan_Status  Property_Area_Rural  Property_Area_Semiurban  \\\n",
       "0              1                    0                        0   \n",
       "1              0                    1                        0   \n",
       "2              1                    0                        0   \n",
       "3              1                    0                        0   \n",
       "4              1                    0                        0   \n",
       "..           ...                  ...                      ...   \n",
       "609            1                    1                        0   \n",
       "610            1                    1                        0   \n",
       "611            1                    0                        0   \n",
       "612            1                    0                        0   \n",
       "613            0                    0                        1   \n",
       "\n",
       "     Property_Area_Urban  \n",
       "0                      1  \n",
       "1                      0  \n",
       "2                      1  \n",
       "3                      1  \n",
       "4                      1  \n",
       "..                   ...  \n",
       "609                    0  \n",
       "610                    0  \n",
       "611                    1  \n",
       "612                    1  \n",
       "613                    0  \n",
       "\n",
       "[564 rows x 14 columns]"
      ]
     },
     "execution_count": 106,
     "metadata": {},
     "output_type": "execute_result"
    }
   ],
   "source": [
    "data"
   ]
  },
  {
   "cell_type": "code",
   "execution_count": 107,
   "id": "8035ed7d",
   "metadata": {},
   "outputs": [
    {
     "name": "stdout",
     "output_type": "stream",
     "text": [
      "<class 'pandas.core.frame.DataFrame'>\n",
      "Int64Index: 564 entries, 0 to 613\n",
      "Data columns (total 14 columns):\n",
      " #   Column                   Non-Null Count  Dtype  \n",
      "---  ------                   --------------  -----  \n",
      " 0   Gender                   564 non-null    int64  \n",
      " 1   Married                  564 non-null    int64  \n",
      " 2   Dependents               564 non-null    object \n",
      " 3   Education                564 non-null    int64  \n",
      " 4   Self_Employed            564 non-null    int64  \n",
      " 5   ApplicantIncome          564 non-null    int64  \n",
      " 6   CoapplicantIncome        564 non-null    float64\n",
      " 7   LoanAmount               564 non-null    float64\n",
      " 8   Loan_Amount_Term         564 non-null    float64\n",
      " 9   Credit_History           564 non-null    float64\n",
      " 10  Loan_Status              564 non-null    int64  \n",
      " 11  Property_Area_Rural      564 non-null    uint8  \n",
      " 12  Property_Area_Semiurban  564 non-null    uint8  \n",
      " 13  Property_Area_Urban      564 non-null    uint8  \n",
      "dtypes: float64(4), int64(6), object(1), uint8(3)\n",
      "memory usage: 54.5+ KB\n"
     ]
    }
   ],
   "source": [
    "data.info()"
   ]
  },
  {
   "cell_type": "markdown",
   "id": "5ae90947",
   "metadata": {},
   "source": [
    "Dataset cleaned now & have no any non numeric data."
   ]
  },
  {
   "cell_type": "markdown",
   "id": "645e2bbb",
   "metadata": {},
   "source": [
    "### Duplicacy Test"
   ]
  },
  {
   "cell_type": "code",
   "execution_count": 108,
   "id": "b1fbeca6",
   "metadata": {},
   "outputs": [
    {
     "data": {
      "text/plain": [
       "0"
      ]
     },
     "execution_count": 108,
     "metadata": {},
     "output_type": "execute_result"
    }
   ],
   "source": [
    "data.duplicated().sum()"
   ]
  },
  {
   "cell_type": "markdown",
   "id": "1f907767",
   "metadata": {},
   "source": [
    "### Data Imbalancing"
   ]
  },
  {
   "cell_type": "code",
   "execution_count": 109,
   "id": "51cebd2b",
   "metadata": {},
   "outputs": [
    {
     "data": {
      "image/png": "[encoded data removed]",
      "text/plain": [
       "<Figure size 432x288 with 1 Axes>"
      ]
     },
     "metadata": {
      "needs_background": "light"
     },
     "output_type": "display_data"
    }
   ],
   "source": [
    "sns.countplot(data['Loan_Status'])\n",
    "plt.show()"
   ]
  },
  {
   "cell_type": "code",
   "execution_count": 110,
   "id": "ff1f70f9",
   "metadata": {},
   "outputs": [
    {
     "data": {
      "text/plain": [
       "1    385\n",
       "0    179\n",
       "Name: Loan_Status, dtype: int64"
      ]
     },
     "execution_count": 110,
     "metadata": {},
     "output_type": "execute_result"
    }
   ],
   "source": [
    "data['Loan_Status'].value_counts()"
   ]
  },
  {
   "cell_type": "code",
   "execution_count": 111,
   "id": "b6c2ccbc",
   "metadata": {},
   "outputs": [],
   "source": [
    "data0=data[data['Loan_Status']==0]\n",
    "data1=data[data['Loan_Status']==1]"
   ]
  },
  {
   "cell_type": "code",
   "execution_count": 112,
   "id": "5f7f158f",
   "metadata": {},
   "outputs": [],
   "source": [
    "from sklearn.utils import resample"
   ]
  },
  {
   "cell_type": "code",
   "execution_count": 113,
   "id": "fe446b58",
   "metadata": {},
   "outputs": [],
   "source": [
    "data0up=resample(data0,n_samples=300,random_state=91)"
   ]
  },
  {
   "cell_type": "code",
   "execution_count": 114,
   "id": "cc684554",
   "metadata": {},
   "outputs": [],
   "source": [
    "data=pd.concat([data1,data0up],axis=0)"
   ]
  },
  {
   "cell_type": "code",
   "execution_count": 115,
   "id": "ab6ddd7d",
   "metadata": {},
   "outputs": [
    {
     "data": {
      "image/png": "[encoded data removed]",
      "text/plain": [
       "<Figure size 432x288 with 1 Axes>"
      ]
     },
     "metadata": {
      "needs_background": "light"
     },
     "output_type": "display_data"
    }
   ],
   "source": [
    "sns.countplot(data['Loan_Status'])\n",
    "plt.show()"
   ]
  },
  {
   "cell_type": "markdown",
   "id": "763e419a",
   "metadata": {},
   "source": [
    "Data was imbalance we applied resample technique & upsample data, now data is balanced."
   ]
  },
  {
   "cell_type": "code",
   "execution_count": 116,
   "id": "8ef7d2ff",
   "metadata": {},
   "outputs": [
    {
     "data": {
      "text/plain": [
       "(685, 14)"
      ]
     },
     "execution_count": 116,
     "metadata": {},
     "output_type": "execute_result"
    }
   ],
   "source": [
    "data.shape"
   ]
  },
  {
   "cell_type": "markdown",
   "id": "6a8d6f62",
   "metadata": {},
   "source": [
    "### Describe"
   ]
  },
  {
   "cell_type": "code",
   "execution_count": 117,
   "id": "afc7b28d",
   "metadata": {},
   "outputs": [
    {
     "data": {
      "text/html": [
       "<div>\n",
       "<style scoped>\n",
       "    .dataframe tbody tr th:only-of-type {\n",
       "        vertical-align: middle;\n",
       "    }\n",
       "\n",
       "    .dataframe tbody tr th {\n",
       "        vertical-align: top;\n",
       "    }\n",
       "\n",
       "    .dataframe thead th {\n",
       "        text-align: right;\n",
       "    }\n",
       "</style>\n",
       "<table border=\"1\" class=\"dataframe\">\n",
       "  <thead>\n",
       "    <tr style=\"text-align: right;\">\n",
       "      <th></th>\n",
       "      <th>Gender</th>\n",
       "      <th>Married</th>\n",
       "      <th>Education</th>\n",
       "      <th>Self_Employed</th>\n",
       "      <th>ApplicantIncome</th>\n",
       "      <th>CoapplicantIncome</th>\n",
       "      <th>LoanAmount</th>\n",
       "      <th>Loan_Amount_Term</th>\n",
       "      <th>Credit_History</th>\n",
       "      <th>Loan_Status</th>\n",
       "      <th>Property_Area_Rural</th>\n",
       "      <th>Property_Area_Semiurban</th>\n",
       "      <th>Property_Area_Urban</th>\n",
       "    </tr>\n",
       "  </thead>\n",
       "  <tbody>\n",
       "    <tr>\n",
       "      <th>count</th>\n",
       "      <td>685.000000</td>\n",
       "      <td>685.000000</td>\n",
       "      <td>685.000000</td>\n",
       "      <td>685.000000</td>\n",
       "      <td>685.00000</td>\n",
       "      <td>685.000000</td>\n",
       "      <td>685.000000</td>\n",
       "      <td>685.000000</td>\n",
       "      <td>685.000000</td>\n",
       "      <td>685.000000</td>\n",
       "      <td>685.000000</td>\n",
       "      <td>685.000000</td>\n",
       "      <td>685.000000</td>\n",
       "    </tr>\n",
       "    <tr>\n",
       "      <th>mean</th>\n",
       "      <td>0.811679</td>\n",
       "      <td>0.623358</td>\n",
       "      <td>0.792701</td>\n",
       "      <td>0.141606</td>\n",
       "      <td>5938.29927</td>\n",
       "      <td>1555.319591</td>\n",
       "      <td>149.111772</td>\n",
       "      <td>342.937226</td>\n",
       "      <td>0.800000</td>\n",
       "      <td>0.562044</td>\n",
       "      <td>0.313869</td>\n",
       "      <td>0.359124</td>\n",
       "      <td>0.327007</td>\n",
       "    </tr>\n",
       "    <tr>\n",
       "      <th>std</th>\n",
       "      <td>0.391254</td>\n",
       "      <td>0.484898</td>\n",
       "      <td>0.405668</td>\n",
       "      <td>0.348900</td>\n",
       "      <td>7817.01715</td>\n",
       "      <td>2916.337732</td>\n",
       "      <td>85.847403</td>\n",
       "      <td>63.476596</td>\n",
       "      <td>0.400292</td>\n",
       "      <td>0.496498</td>\n",
       "      <td>0.464403</td>\n",
       "      <td>0.480094</td>\n",
       "      <td>0.469463</td>\n",
       "    </tr>\n",
       "    <tr>\n",
       "      <th>min</th>\n",
       "      <td>0.000000</td>\n",
       "      <td>0.000000</td>\n",
       "      <td>0.000000</td>\n",
       "      <td>0.000000</td>\n",
       "      <td>150.00000</td>\n",
       "      <td>0.000000</td>\n",
       "      <td>9.000000</td>\n",
       "      <td>36.000000</td>\n",
       "      <td>0.000000</td>\n",
       "      <td>0.000000</td>\n",
       "      <td>0.000000</td>\n",
       "      <td>0.000000</td>\n",
       "      <td>0.000000</td>\n",
       "    </tr>\n",
       "    <tr>\n",
       "      <th>25%</th>\n",
       "      <td>1.000000</td>\n",
       "      <td>0.000000</td>\n",
       "      <td>1.000000</td>\n",
       "      <td>0.000000</td>\n",
       "      <td>2947.00000</td>\n",
       "      <td>0.000000</td>\n",
       "      <td>103.000000</td>\n",
       "      <td>360.000000</td>\n",
       "      <td>1.000000</td>\n",
       "      <td>0.000000</td>\n",
       "      <td>0.000000</td>\n",
       "      <td>0.000000</td>\n",
       "      <td>0.000000</td>\n",
       "    </tr>\n",
       "    <tr>\n",
       "      <th>50%</th>\n",
       "      <td>1.000000</td>\n",
       "      <td>1.000000</td>\n",
       "      <td>1.000000</td>\n",
       "      <td>0.000000</td>\n",
       "      <td>3941.00000</td>\n",
       "      <td>997.000000</td>\n",
       "      <td>129.000000</td>\n",
       "      <td>360.000000</td>\n",
       "      <td>1.000000</td>\n",
       "      <td>1.000000</td>\n",
       "      <td>0.000000</td>\n",
       "      <td>0.000000</td>\n",
       "      <td>0.000000</td>\n",
       "    </tr>\n",
       "    <tr>\n",
       "      <th>75%</th>\n",
       "      <td>1.000000</td>\n",
       "      <td>1.000000</td>\n",
       "      <td>1.000000</td>\n",
       "      <td>0.000000</td>\n",
       "      <td>5923.00000</td>\n",
       "      <td>2223.000000</td>\n",
       "      <td>164.000000</td>\n",
       "      <td>360.000000</td>\n",
       "      <td>1.000000</td>\n",
       "      <td>1.000000</td>\n",
       "      <td>1.000000</td>\n",
       "      <td>1.000000</td>\n",
       "      <td>1.000000</td>\n",
       "    </tr>\n",
       "    <tr>\n",
       "      <th>max</th>\n",
       "      <td>1.000000</td>\n",
       "      <td>1.000000</td>\n",
       "      <td>1.000000</td>\n",
       "      <td>1.000000</td>\n",
       "      <td>81000.00000</td>\n",
       "      <td>33837.000000</td>\n",
       "      <td>700.000000</td>\n",
       "      <td>480.000000</td>\n",
       "      <td>1.000000</td>\n",
       "      <td>1.000000</td>\n",
       "      <td>1.000000</td>\n",
       "      <td>1.000000</td>\n",
       "      <td>1.000000</td>\n",
       "    </tr>\n",
       "  </tbody>\n",
       "</table>\n",
       "</div>"
      ],
      "text/plain": [
       "           Gender     Married   Education  Self_Employed  ApplicantIncome  \\\n",
       "count  685.000000  685.000000  685.000000     685.000000        685.00000   \n",
       "mean     0.811679    0.623358    0.792701       0.141606       5938.29927   \n",
       "std      0.391254    0.484898    0.405668       0.348900       7817.01715   \n",
       "min      0.000000    0.000000    0.000000       0.000000        150.00000   \n",
       "25%      1.000000    0.000000    1.000000       0.000000       2947.00000   \n",
       "50%      1.000000    1.000000    1.000000       0.000000       3941.00000   \n",
       "75%      1.000000    1.000000    1.000000       0.000000       5923.00000   \n",
       "max      1.000000    1.000000    1.000000       1.000000      81000.00000   \n",
       "\n",
       "       CoapplicantIncome  LoanAmount  Loan_Amount_Term  Credit_History  \\\n",
       "count         685.000000  685.000000        685.000000      685.000000   \n",
       "mean         1555.319591  149.111772        342.937226        0.800000   \n",
       "std          2916.337732   85.847403         63.476596        0.400292   \n",
       "min             0.000000    9.000000         36.000000        0.000000   \n",
       "25%             0.000000  103.000000        360.000000        1.000000   \n",
       "50%           997.000000  129.000000        360.000000        1.000000   \n",
       "75%          2223.000000  164.000000        360.000000        1.000000   \n",
       "max         33837.000000  700.000000        480.000000        1.000000   \n",
       "\n",
       "       Loan_Status  Property_Area_Rural  Property_Area_Semiurban  \\\n",
       "count   685.000000           685.000000               685.000000   \n",
       "mean      0.562044             0.313869                 0.359124   \n",
       "std       0.496498             0.464403                 0.480094   \n",
       "min       0.000000             0.000000                 0.000000   \n",
       "25%       0.000000             0.000000                 0.000000   \n",
       "50%       1.000000             0.000000                 0.000000   \n",
       "75%       1.000000             1.000000                 1.000000   \n",
       "max       1.000000             1.000000                 1.000000   \n",
       "\n",
       "       Property_Area_Urban  \n",
       "count           685.000000  \n",
       "mean              0.327007  \n",
       "std               0.469463  \n",
       "min               0.000000  \n",
       "25%               0.000000  \n",
       "50%               0.000000  \n",
       "75%               1.000000  \n",
       "max               1.000000  "
      ]
     },
     "execution_count": 117,
     "metadata": {},
     "output_type": "execute_result"
    }
   ],
   "source": [
    "data.describe()"
   ]
  },
  {
   "cell_type": "markdown",
   "id": "cea652cd",
   "metadata": {},
   "source": [
    "dataset looks good and have equal count"
   ]
  },
  {
   "cell_type": "markdown",
   "id": "3e93ac7e",
   "metadata": {},
   "source": [
    "### Correlation & multicollinearity"
   ]
  },
  {
   "cell_type": "code",
   "execution_count": 118,
   "id": "d579e38a",
   "metadata": {},
   "outputs": [
    {
     "data": {
      "text/html": [
       "<div>\n",
       "<style scoped>\n",
       "    .dataframe tbody tr th:only-of-type {\n",
       "        vertical-align: middle;\n",
       "    }\n",
       "\n",
       "    .dataframe tbody tr th {\n",
       "        vertical-align: top;\n",
       "    }\n",
       "\n",
       "    .dataframe thead th {\n",
       "        text-align: right;\n",
       "    }\n",
       "</style>\n",
       "<table border=\"1\" class=\"dataframe\">\n",
       "  <thead>\n",
       "    <tr style=\"text-align: right;\">\n",
       "      <th></th>\n",
       "      <th>Gender</th>\n",
       "      <th>Married</th>\n",
       "      <th>Education</th>\n",
       "      <th>Self_Employed</th>\n",
       "      <th>ApplicantIncome</th>\n",
       "      <th>CoapplicantIncome</th>\n",
       "      <th>LoanAmount</th>\n",
       "      <th>Loan_Amount_Term</th>\n",
       "      <th>Credit_History</th>\n",
       "      <th>Loan_Status</th>\n",
       "      <th>Property_Area_Rural</th>\n",
       "      <th>Property_Area_Semiurban</th>\n",
       "      <th>Property_Area_Urban</th>\n",
       "    </tr>\n",
       "  </thead>\n",
       "  <tbody>\n",
       "    <tr>\n",
       "      <th>Gender</th>\n",
       "      <td>1.000000</td>\n",
       "      <td>0.349958</td>\n",
       "      <td>-0.062098</td>\n",
       "      <td>0.013571</td>\n",
       "      <td>0.069214</td>\n",
       "      <td>0.147851</td>\n",
       "      <td>0.137853</td>\n",
       "      <td>-0.096371</td>\n",
       "      <td>-0.007468</td>\n",
       "      <td>0.056473</td>\n",
       "      <td>0.092443</td>\n",
       "      <td>-0.145336</td>\n",
       "      <td>0.057180</td>\n",
       "    </tr>\n",
       "    <tr>\n",
       "      <th>Married</th>\n",
       "      <td>0.349958</td>\n",
       "      <td>1.000000</td>\n",
       "      <td>-0.055617</td>\n",
       "      <td>0.021900</td>\n",
       "      <td>0.057356</td>\n",
       "      <td>0.039792</td>\n",
       "      <td>0.125878</td>\n",
       "      <td>-0.099091</td>\n",
       "      <td>0.055738</td>\n",
       "      <td>0.121497</td>\n",
       "      <td>0.025827</td>\n",
       "      <td>-0.027293</td>\n",
       "      <td>0.002363</td>\n",
       "    </tr>\n",
       "    <tr>\n",
       "      <th>Education</th>\n",
       "      <td>-0.062098</td>\n",
       "      <td>-0.055617</td>\n",
       "      <td>1.000000</td>\n",
       "      <td>0.001116</td>\n",
       "      <td>0.145180</td>\n",
       "      <td>0.050020</td>\n",
       "      <td>0.174890</td>\n",
       "      <td>0.107026</td>\n",
       "      <td>0.041415</td>\n",
       "      <td>0.056692</td>\n",
       "      <td>-0.073185</td>\n",
       "      <td>0.052514</td>\n",
       "      <td>0.018693</td>\n",
       "    </tr>\n",
       "    <tr>\n",
       "      <th>Self_Employed</th>\n",
       "      <td>0.013571</td>\n",
       "      <td>0.021900</td>\n",
       "      <td>0.001116</td>\n",
       "      <td>1.000000</td>\n",
       "      <td>0.091580</td>\n",
       "      <td>-0.010005</td>\n",
       "      <td>0.111118</td>\n",
       "      <td>-0.029370</td>\n",
       "      <td>-0.069089</td>\n",
       "      <td>-0.038132</td>\n",
       "      <td>-0.031086</td>\n",
       "      <td>0.010168</td>\n",
       "      <td>0.020353</td>\n",
       "    </tr>\n",
       "    <tr>\n",
       "      <th>ApplicantIncome</th>\n",
       "      <td>0.069214</td>\n",
       "      <td>0.057356</td>\n",
       "      <td>0.145180</td>\n",
       "      <td>0.091580</td>\n",
       "      <td>1.000000</td>\n",
       "      <td>-0.110152</td>\n",
       "      <td>0.558232</td>\n",
       "      <td>-0.017312</td>\n",
       "      <td>-0.096324</td>\n",
       "      <td>-0.071239</td>\n",
       "      <td>0.088901</td>\n",
       "      <td>-0.058095</td>\n",
       "      <td>-0.028532</td>\n",
       "    </tr>\n",
       "    <tr>\n",
       "      <th>CoapplicantIncome</th>\n",
       "      <td>0.147851</td>\n",
       "      <td>0.039792</td>\n",
       "      <td>0.050020</td>\n",
       "      <td>-0.010005</td>\n",
       "      <td>-0.110152</td>\n",
       "      <td>1.000000</td>\n",
       "      <td>0.093197</td>\n",
       "      <td>0.011351</td>\n",
       "      <td>0.038688</td>\n",
       "      <td>-0.031782</td>\n",
       "      <td>0.019646</td>\n",
       "      <td>-0.046351</td>\n",
       "      <td>0.027967</td>\n",
       "    </tr>\n",
       "    <tr>\n",
       "      <th>LoanAmount</th>\n",
       "      <td>0.137853</td>\n",
       "      <td>0.125878</td>\n",
       "      <td>0.174890</td>\n",
       "      <td>0.111118</td>\n",
       "      <td>0.558232</td>\n",
       "      <td>0.093197</td>\n",
       "      <td>1.000000</td>\n",
       "      <td>0.049031</td>\n",
       "      <td>-0.023196</td>\n",
       "      <td>-0.076012</td>\n",
       "      <td>0.147112</td>\n",
       "      <td>-0.064381</td>\n",
       "      <td>-0.079687</td>\n",
       "    </tr>\n",
       "    <tr>\n",
       "      <th>Loan_Amount_Term</th>\n",
       "      <td>-0.096371</td>\n",
       "      <td>-0.099091</td>\n",
       "      <td>0.107026</td>\n",
       "      <td>-0.029370</td>\n",
       "      <td>-0.017312</td>\n",
       "      <td>0.011351</td>\n",
       "      <td>0.049031</td>\n",
       "      <td>1.000000</td>\n",
       "      <td>-0.034385</td>\n",
       "      <td>-0.021470</td>\n",
       "      <td>0.089692</td>\n",
       "      <td>-0.009334</td>\n",
       "      <td>-0.079180</td>\n",
       "    </tr>\n",
       "    <tr>\n",
       "      <th>Credit_History</th>\n",
       "      <td>-0.007468</td>\n",
       "      <td>0.055738</td>\n",
       "      <td>0.041415</td>\n",
       "      <td>-0.069089</td>\n",
       "      <td>-0.096324</td>\n",
       "      <td>0.038688</td>\n",
       "      <td>-0.023196</td>\n",
       "      <td>-0.034385</td>\n",
       "      <td>1.000000</td>\n",
       "      <td>0.514929</td>\n",
       "      <td>-0.039323</td>\n",
       "      <td>0.047166</td>\n",
       "      <td>-0.009336</td>\n",
       "    </tr>\n",
       "    <tr>\n",
       "      <th>Loan_Status</th>\n",
       "      <td>0.056473</td>\n",
       "      <td>0.121497</td>\n",
       "      <td>0.056692</td>\n",
       "      <td>-0.038132</td>\n",
       "      <td>-0.071239</td>\n",
       "      <td>-0.031782</td>\n",
       "      <td>-0.076012</td>\n",
       "      <td>-0.021470</td>\n",
       "      <td>0.514929</td>\n",
       "      <td>1.000000</td>\n",
       "      <td>-0.132135</td>\n",
       "      <td>0.182390</td>\n",
       "      <td>-0.055810</td>\n",
       "    </tr>\n",
       "    <tr>\n",
       "      <th>Property_Area_Rural</th>\n",
       "      <td>0.092443</td>\n",
       "      <td>0.025827</td>\n",
       "      <td>-0.073185</td>\n",
       "      <td>-0.031086</td>\n",
       "      <td>0.088901</td>\n",
       "      <td>0.019646</td>\n",
       "      <td>0.147112</td>\n",
       "      <td>0.089692</td>\n",
       "      <td>-0.039323</td>\n",
       "      <td>-0.132135</td>\n",
       "      <td>1.000000</td>\n",
       "      <td>-0.506297</td>\n",
       "      <td>-0.471459</td>\n",
       "    </tr>\n",
       "    <tr>\n",
       "      <th>Property_Area_Semiurban</th>\n",
       "      <td>-0.145336</td>\n",
       "      <td>-0.027293</td>\n",
       "      <td>0.052514</td>\n",
       "      <td>0.010168</td>\n",
       "      <td>-0.058095</td>\n",
       "      <td>-0.046351</td>\n",
       "      <td>-0.064381</td>\n",
       "      <td>-0.009334</td>\n",
       "      <td>0.047166</td>\n",
       "      <td>0.182390</td>\n",
       "      <td>-0.506297</td>\n",
       "      <td>1.000000</td>\n",
       "      <td>-0.521806</td>\n",
       "    </tr>\n",
       "    <tr>\n",
       "      <th>Property_Area_Urban</th>\n",
       "      <td>0.057180</td>\n",
       "      <td>0.002363</td>\n",
       "      <td>0.018693</td>\n",
       "      <td>0.020353</td>\n",
       "      <td>-0.028532</td>\n",
       "      <td>0.027967</td>\n",
       "      <td>-0.079687</td>\n",
       "      <td>-0.079180</td>\n",
       "      <td>-0.009336</td>\n",
       "      <td>-0.055810</td>\n",
       "      <td>-0.471459</td>\n",
       "      <td>-0.521806</td>\n",
       "      <td>1.000000</td>\n",
       "    </tr>\n",
       "  </tbody>\n",
       "</table>\n",
       "</div>"
      ],
      "text/plain": [
       "                           Gender   Married  Education  Self_Employed  \\\n",
       "Gender                   1.000000  0.349958  -0.062098       0.013571   \n",
       "Married                  0.349958  1.000000  -0.055617       0.021900   \n",
       "Education               -0.062098 -0.055617   1.000000       0.001116   \n",
       "Self_Employed            0.013571  0.021900   0.001116       1.000000   \n",
       "ApplicantIncome          0.069214  0.057356   0.145180       0.091580   \n",
       "CoapplicantIncome        0.147851  0.039792   0.050020      -0.010005   \n",
       "LoanAmount               0.137853  0.125878   0.174890       0.111118   \n",
       "Loan_Amount_Term        -0.096371 -0.099091   0.107026      -0.029370   \n",
       "Credit_History          -0.007468  0.055738   0.041415      -0.069089   \n",
       "Loan_Status              0.056473  0.121497   0.056692      -0.038132   \n",
       "Property_Area_Rural      0.092443  0.025827  -0.073185      -0.031086   \n",
       "Property_Area_Semiurban -0.145336 -0.027293   0.052514       0.010168   \n",
       "Property_Area_Urban      0.057180  0.002363   0.018693       0.020353   \n",
       "\n",
       "                         ApplicantIncome  CoapplicantIncome  LoanAmount  \\\n",
       "Gender                          0.069214           0.147851    0.137853   \n",
       "Married                         0.057356           0.039792    0.125878   \n",
       "Education                       0.145180           0.050020    0.174890   \n",
       "Self_Employed                   0.091580          -0.010005    0.111118   \n",
       "ApplicantIncome                 1.000000          -0.110152    0.558232   \n",
       "CoapplicantIncome              -0.110152           1.000000    0.093197   \n",
       "LoanAmount                      0.558232           0.093197    1.000000   \n",
       "Loan_Amount_Term               -0.017312           0.011351    0.049031   \n",
       "Credit_History                 -0.096324           0.038688   -0.023196   \n",
       "Loan_Status                    -0.071239          -0.031782   -0.076012   \n",
       "Property_Area_Rural             0.088901           0.019646    0.147112   \n",
       "Property_Area_Semiurban        -0.058095          -0.046351   -0.064381   \n",
       "Property_Area_Urban            -0.028532           0.027967   -0.079687   \n",
       "\n",
       "                         Loan_Amount_Term  Credit_History  Loan_Status  \\\n",
       "Gender                          -0.096371       -0.007468     0.056473   \n",
       "Married                         -0.099091        0.055738     0.121497   \n",
       "Education                        0.107026        0.041415     0.056692   \n",
       "Self_Employed                   -0.029370       -0.069089    -0.038132   \n",
       "ApplicantIncome                 -0.017312       -0.096324    -0.071239   \n",
       "CoapplicantIncome                0.011351        0.038688    -0.031782   \n",
       "LoanAmount                       0.049031       -0.023196    -0.076012   \n",
       "Loan_Amount_Term                 1.000000       -0.034385    -0.021470   \n",
       "Credit_History                  -0.034385        1.000000     0.514929   \n",
       "Loan_Status                     -0.021470        0.514929     1.000000   \n",
       "Property_Area_Rural              0.089692       -0.039323    -0.132135   \n",
       "Property_Area_Semiurban         -0.009334        0.047166     0.182390   \n",
       "Property_Area_Urban             -0.079180       -0.009336    -0.055810   \n",
       "\n",
       "                         Property_Area_Rural  Property_Area_Semiurban  \\\n",
       "Gender                              0.092443                -0.145336   \n",
       "Married                             0.025827                -0.027293   \n",
       "Education                          -0.073185                 0.052514   \n",
       "Self_Employed                      -0.031086                 0.010168   \n",
       "ApplicantIncome                     0.088901                -0.058095   \n",
       "CoapplicantIncome                   0.019646                -0.046351   \n",
       "LoanAmount                          0.147112                -0.064381   \n",
       "Loan_Amount_Term                    0.089692                -0.009334   \n",
       "Credit_History                     -0.039323                 0.047166   \n",
       "Loan_Status                        -0.132135                 0.182390   \n",
       "Property_Area_Rural                 1.000000                -0.506297   \n",
       "Property_Area_Semiurban            -0.506297                 1.000000   \n",
       "Property_Area_Urban                -0.471459                -0.521806   \n",
       "\n",
       "                         Property_Area_Urban  \n",
       "Gender                              0.057180  \n",
       "Married                             0.002363  \n",
       "Education                           0.018693  \n",
       "Self_Employed                       0.020353  \n",
       "ApplicantIncome                    -0.028532  \n",
       "CoapplicantIncome                   0.027967  \n",
       "LoanAmount                         -0.079687  \n",
       "Loan_Amount_Term                   -0.079180  \n",
       "Credit_History                     -0.009336  \n",
       "Loan_Status                        -0.055810  \n",
       "Property_Area_Rural                -0.471459  \n",
       "Property_Area_Semiurban            -0.521806  \n",
       "Property_Area_Urban                 1.000000  "
      ]
     },
     "execution_count": 118,
     "metadata": {},
     "output_type": "execute_result"
    }
   ],
   "source": [
    "data.corr()"
   ]
  },
  {
   "cell_type": "code",
   "execution_count": 123,
   "id": "c2c23425",
   "metadata": {},
   "outputs": [
    {
     "data": {
      "image/png": "[encoded data removed]",
      "text/plain": [
       "<Figure size 1440x1080 with 2 Axes>"
      ]
     },
     "metadata": {
      "needs_background": "light"
     },
     "output_type": "display_data"
    }
   ],
   "source": [
    "plt.figure(figsize=(20,15))\n",
    "sns.heatmap(data.corr(),annot=True)\n",
    "plt.show()"
   ]
  },
  {
   "cell_type": "markdown",
   "id": "9bdadd40",
   "metadata": {},
   "source": [
    "No multicollinearity found in dataset.\n",
    "Credit history is most impactful feature.\n",
    "rest all features have very less impact."
   ]
  },
  {
   "cell_type": "code",
   "execution_count": 125,
   "id": "b0479d2a",
   "metadata": {},
   "outputs": [
    {
     "data": {
      "text/plain": [
       "Gender                     0.056473\n",
       "Married                    0.121497\n",
       "Education                  0.056692\n",
       "Self_Employed             -0.038132\n",
       "ApplicantIncome           -0.071239\n",
       "CoapplicantIncome         -0.031782\n",
       "LoanAmount                -0.076012\n",
       "Loan_Amount_Term          -0.021470\n",
       "Credit_History             0.514929\n",
       "Loan_Status                1.000000\n",
       "Property_Area_Rural       -0.132135\n",
       "Property_Area_Semiurban    0.182390\n",
       "Property_Area_Urban       -0.055810\n",
       "dtype: float64"
      ]
     },
     "execution_count": 125,
     "metadata": {},
     "output_type": "execute_result"
    }
   ],
   "source": [
    "data.corrwith(data['Loan_Status'])"
   ]
  },
  {
   "cell_type": "markdown",
   "id": "26d3e4df",
   "metadata": {},
   "source": [
    "Feature selection-not applying feature selection because we have very less dataset."
   ]
  },
  {
   "cell_type": "markdown",
   "id": "78d1c3b5",
   "metadata": {},
   "source": [
    "### Distplot"
   ]
  },
  {
   "cell_type": "code",
   "execution_count": 126,
   "id": "1c83aece",
   "metadata": {},
   "outputs": [
    {
     "data": {
      "image/png": "[encoded data removed]",
      "text/plain": [
       "<Figure size 1440x720 with 14 Axes>"
      ]
     },
     "metadata": {
      "needs_background": "light"
     },
     "output_type": "display_data"
    }
   ],
   "source": [
    "plt.figure(figsize=(20,10))\n",
    "\n",
    "plotnumber=1\n",
    "\n",
    "for col in data :\n",
    "    if plotnumber<=14:\n",
    "        ax=plt.subplot(5,3,plotnumber)\n",
    "        sns.distplot(data[col])\n",
    "        \n",
    "    plotnumber+=1\n",
    "    \n",
    "plt.tight_layout()"
   ]
  },
  {
   "cell_type": "markdown",
   "id": "2cfc5b3b",
   "metadata": {},
   "source": [
    "most of the features are categorical so we cant expect any normal distribution here."
   ]
  },
  {
   "cell_type": "markdown",
   "id": "ea21cce6",
   "metadata": {},
   "source": [
    "### Skewness"
   ]
  },
  {
   "cell_type": "code",
   "execution_count": 134,
   "id": "eee70758",
   "metadata": {},
   "outputs": [
    {
     "data": {
      "text/plain": [
       "Gender                    -1.597895\n",
       "Married                   -0.510288\n",
       "Dependents                 1.013480\n",
       "Education                 -1.447281\n",
       "Self_Employed              2.060438\n",
       "ApplicantIncome            6.627019\n",
       "CoapplicantIncome          6.965796\n",
       "LoanAmount                 2.414755\n",
       "Loan_Amount_Term          -2.364715\n",
       "Credit_History            -1.503294\n",
       "Loan_Status               -0.250657\n",
       "Property_Area_Rural        0.803942\n",
       "Property_Area_Semiurban    0.588586\n",
       "Property_Area_Urban        0.739140\n",
       "dtype: float64"
      ]
     },
     "execution_count": 134,
     "metadata": {},
     "output_type": "execute_result"
    }
   ],
   "source": [
    "data.skew()"
   ]
  },
  {
   "cell_type": "markdown",
   "id": "d9cdc209",
   "metadata": {},
   "source": [
    "few features are skewed but no need to remove skewness because data set is small and looks good to go."
   ]
  },
  {
   "cell_type": "markdown",
   "id": "9cbeee85",
   "metadata": {},
   "source": [
    "### Split Dataset"
   ]
  },
  {
   "cell_type": "code",
   "execution_count": 136,
   "id": "2ebf7122",
   "metadata": {},
   "outputs": [],
   "source": [
    "#dataset split\n",
    "\n",
    "X=data.drop(columns=['Loan_Status'])\n",
    "y=data.Loan_Status"
   ]
  },
  {
   "cell_type": "markdown",
   "id": "7fe59005",
   "metadata": {},
   "source": [
    "### Standard Scaling"
   ]
  },
  {
   "cell_type": "code",
   "execution_count": 137,
   "id": "0e509d4f",
   "metadata": {},
   "outputs": [],
   "source": [
    "scale=StandardScaler()\n",
    "x_scale=scale.fit_transform(X)"
   ]
  },
  {
   "cell_type": "markdown",
   "id": "07424872",
   "metadata": {},
   "source": [
    "### Train Test Split"
   ]
  },
  {
   "cell_type": "code",
   "execution_count": 143,
   "id": "cda69613",
   "metadata": {},
   "outputs": [
    {
     "name": "stdout",
     "output_type": "stream",
     "text": [
      "74.85380116959064 10\n",
      "77.38791423001949 13\n",
      "76.80311890838206 16\n",
      "75.24366471734892 19\n",
      "76.41325536062378 22\n",
      "74.26900584795322 25\n",
      "75.43859649122807 28\n",
      "76.41325536062378 31\n",
      "76.41325536062378 34\n",
      "74.46393762183236 37\n",
      "74.6588693957115 40\n",
      "74.46393762183236 43\n",
      "76.41325536062378 46\n",
      "74.46393762183236 49\n",
      "74.46393762183236 52\n",
      "74.26900584795322 55\n",
      "74.26900584795322 58\n",
      "76.60818713450293 61\n",
      "75.6335282651072 64\n",
      "73.87914230019493 67\n",
      "77.97270955165692 70\n",
      "76.41325536062378 73\n",
      "74.46393762183236 76\n",
      "75.82846003898635 79\n",
      "74.6588693957115 82\n",
      "75.04873294346979 85\n",
      "75.6335282651072 88\n",
      "77.58284600389864 91\n",
      "74.6588693957115 94\n",
      "74.6588693957115 97\n"
     ]
    }
   ],
   "source": [
    "# testing best random state\n",
    "for i in range(10,100,3):\n",
    "    x_train,x_test,y_train,y_test=train_test_split(x_scale,y,test_size=0.25,random_state=i)\n",
    "    lr=LogisticRegression()\n",
    "    lr.fit(x_train,y_train)\n",
    "\n",
    "    y_pred=lr.predict(x_test)\n",
    "\n",
    "    print(lr.score(x_train,y_train)*100,i)"
   ]
  },
  {
   "cell_type": "code",
   "execution_count": 144,
   "id": "2717fb6b",
   "metadata": {},
   "outputs": [],
   "source": [
    "x_train,x_test,y_train,y_test=train_test_split(x_scale,y,test_size=0.25,random_state=91)"
   ]
  },
  {
   "cell_type": "markdown",
   "id": "2dfcd3d5",
   "metadata": {},
   "source": [
    "### Model Building"
   ]
  },
  {
   "cell_type": "code",
   "execution_count": 152,
   "id": "f4d518d5",
   "metadata": {},
   "outputs": [],
   "source": [
    "lr=LogisticRegression()\n",
    "rfc=RandomForestClassifier()\n",
    "gbc=GradientBoostingClassifier()\n",
    "svm=SVC()"
   ]
  },
  {
   "cell_type": "code",
   "execution_count": 156,
   "id": "ee1b5564",
   "metadata": {},
   "outputs": [
    {
     "data": {
      "text/plain": [
       "SVC()"
      ]
     },
     "execution_count": 156,
     "metadata": {},
     "output_type": "execute_result"
    }
   ],
   "source": [
    "lr.fit(x_train,y_train)\n",
    "rfc.fit(x_train,y_train)\n",
    "gbc.fit(x_train,y_train)\n",
    "svm.fit(x_train,y_train)"
   ]
  },
  {
   "cell_type": "code",
   "execution_count": 157,
   "id": "115bc671",
   "metadata": {},
   "outputs": [
    {
     "name": "stdout",
     "output_type": "stream",
     "text": [
      "72.09302325581395\n"
     ]
    }
   ],
   "source": [
    "#lr score\n",
    "\n",
    "y_pred=lr.predict(x_test)\n",
    "print(accuracy_score(y_test,y_pred)*100)"
   ]
  },
  {
   "cell_type": "code",
   "execution_count": 158,
   "id": "d8a0fdb6",
   "metadata": {},
   "outputs": [
    {
     "name": "stdout",
     "output_type": "stream",
     "text": [
      "88.95348837209302\n"
     ]
    }
   ],
   "source": [
    "#rfc score\n",
    "\n",
    "y_pred=rfc.predict(x_test)\n",
    "print(accuracy_score(y_test,y_pred)*100)"
   ]
  },
  {
   "cell_type": "code",
   "execution_count": 159,
   "id": "aed21a1c",
   "metadata": {},
   "outputs": [
    {
     "name": "stdout",
     "output_type": "stream",
     "text": [
      "77.32558139534885\n"
     ]
    }
   ],
   "source": [
    "#gbc score\n",
    "\n",
    "y_pred=gbc.predict(x_test)\n",
    "print(accuracy_score(y_test,y_pred)*100)"
   ]
  },
  {
   "cell_type": "code",
   "execution_count": 160,
   "id": "9a231eb6",
   "metadata": {},
   "outputs": [
    {
     "name": "stdout",
     "output_type": "stream",
     "text": [
      "74.4186046511628\n"
     ]
    }
   ],
   "source": [
    "#svm score\n",
    "\n",
    "y_pred=svm.predict(x_test)\n",
    "print(accuracy_score(y_test,y_pred)*100)"
   ]
  },
  {
   "cell_type": "markdown",
   "id": "ecd86aa5",
   "metadata": {},
   "source": [
    "### Cross Validation"
   ]
  },
  {
   "cell_type": "code",
   "execution_count": 161,
   "id": "c8ef7ba9",
   "metadata": {},
   "outputs": [],
   "source": [
    "from sklearn.model_selection import cross_val_score"
   ]
  },
  {
   "cell_type": "code",
   "execution_count": 162,
   "id": "5bae5c3b",
   "metadata": {},
   "outputs": [
    {
     "name": "stdout",
     "output_type": "stream",
     "text": [
      "Logistic Regression score: 73.43065693430657\n",
      "Random Forest score: 89.19708029197079\n",
      "GradientBoostClassifier score: 78.83211678832117\n",
      "SVM score: 77.81021897810218\n"
     ]
    }
   ],
   "source": [
    "print('Logistic Regression score:',np.mean(cross_val_score(lr,x_scale,y))*100)\n",
    "\n",
    "print('Random Forest score:',np.mean(cross_val_score(rfc,x_scale,y))*100)\n",
    "\n",
    "print('GradientBoostClassifier score:',np.mean(cross_val_score(gbc,x_scale,y))*100)\n",
    "\n",
    "print('SVM score:',np.mean(cross_val_score(svm,x_scale,y))*100)"
   ]
  },
  {
   "cell_type": "markdown",
   "id": "2935e19e",
   "metadata": {},
   "source": [
    "### Cross validation score 89.19% of Random Forest is maximum and close to test so would be our final model."
   ]
  },
  {
   "cell_type": "code",
   "execution_count": 163,
   "id": "f5153e51",
   "metadata": {},
   "outputs": [
    {
     "name": "stdout",
     "output_type": "stream",
     "text": [
      "              precision    recall  f1-score   support\n",
      "\n",
      "           0       0.90      0.87      0.88        82\n",
      "           1       0.88      0.91      0.90        90\n",
      "\n",
      "    accuracy                           0.89       172\n",
      "   macro avg       0.89      0.89      0.89       172\n",
      "weighted avg       0.89      0.89      0.89       172\n",
      "\n"
     ]
    }
   ],
   "source": [
    "y_pred=rfc.predict(x_test)\n",
    "print(classification_report(y_test,y_pred))"
   ]
  },
  {
   "cell_type": "markdown",
   "id": "e37fb8a9",
   "metadata": {},
   "source": [
    "### HyperparameterTunning"
   ]
  },
  {
   "cell_type": "code",
   "execution_count": 165,
   "id": "322370a8",
   "metadata": {},
   "outputs": [
    {
     "data": {
      "text/plain": [
       "{'criterion': 'entropy',\n",
       " 'max_depth': 20,\n",
       " 'min_samples_leaf': 2,\n",
       " 'min_samples_split': 4,\n",
       " 'n_estimators': 100}"
      ]
     },
     "execution_count": 165,
     "metadata": {},
     "output_type": "execute_result"
    }
   ],
   "source": [
    "params={'n_estimators':[5,25,70,100],\n",
    "        'criterion':['gini','entropy'],\n",
    "        'min_samples_split':[1,2,4,12],\n",
    "        'min_samples_leaf':[2,5,10],\n",
    "        'max_depth':[5,10,20]        \n",
    "        \n",
    "    \n",
    "}\n",
    "\n",
    "grd=GridSearchCV(rfc,param_grid=params)\n",
    "grd.fit(x_train,y_train)\n",
    "grd.best_params_"
   ]
  },
  {
   "cell_type": "code",
   "execution_count": 188,
   "id": "c1560e84",
   "metadata": {},
   "outputs": [
    {
     "name": "stdout",
     "output_type": "stream",
     "text": [
      "90.11627906976744\n"
     ]
    }
   ],
   "source": [
    "rfr=RandomForestClassifier(criterion= 'gini',\n",
    " max_depth= 13,\n",
    " min_samples_leaf= 1,\n",
    " min_samples_split= 2,\n",
    " n_estimators= 90)\n",
    "\n",
    "rfr.fit(x_train,y_train)\n",
    "y_pred=rfr.predict(x_test)\n",
    "print(accuracy_score(y_test,y_pred)*100)"
   ]
  },
  {
   "cell_type": "markdown",
   "id": "4bed910a",
   "metadata": {},
   "source": [
    "### Improved score after tunning its 90%"
   ]
  },
  {
   "cell_type": "markdown",
   "id": "d73ebc65",
   "metadata": {},
   "source": [
    "### Final Evaluation"
   ]
  },
  {
   "cell_type": "code",
   "execution_count": 189,
   "id": "1a0d3a27",
   "metadata": {},
   "outputs": [
    {
     "data": {
      "text/plain": [
       "array([[72, 10],\n",
       "       [ 7, 83]], dtype=int64)"
      ]
     },
     "execution_count": 189,
     "metadata": {},
     "output_type": "execute_result"
    }
   ],
   "source": [
    "confusion_matrix(y_test,y_pred)"
   ]
  },
  {
   "cell_type": "code",
   "execution_count": 190,
   "id": "03534415",
   "metadata": {},
   "outputs": [
    {
     "name": "stdout",
     "output_type": "stream",
     "text": [
      "              precision    recall  f1-score   support\n",
      "\n",
      "           0       0.91      0.88      0.89        82\n",
      "           1       0.89      0.92      0.91        90\n",
      "\n",
      "    accuracy                           0.90       172\n",
      "   macro avg       0.90      0.90      0.90       172\n",
      "weighted avg       0.90      0.90      0.90       172\n",
      "\n"
     ]
    }
   ],
   "source": [
    "print(classification_report(y_test,y_pred))"
   ]
  },
  {
   "cell_type": "markdown",
   "id": "64a088b2",
   "metadata": {},
   "source": [
    "Model is performing well and its generalised model."
   ]
  },
  {
   "cell_type": "code",
   "execution_count": 192,
   "id": "463f7c71",
   "metadata": {},
   "outputs": [],
   "source": [
    "from sklearn.metrics import plot_roc_curve"
   ]
  },
  {
   "cell_type": "code",
   "execution_count": 194,
   "id": "d7be015a",
   "metadata": {},
   "outputs": [
    {
     "data": {
      "image/png": "[encoded data removed]",
      "text/plain": [
       "<Figure size 432x288 with 1 Axes>"
      ]
     },
     "metadata": {
      "needs_background": "light"
     },
     "output_type": "display_data"
    }
   ],
   "source": [
    "disp=plot_roc_curve(lr,x_test,y_test)\n",
    "plot_roc_curve(rfc,x_test,y_test,ax=disp.ax_)\n",
    "plot_roc_curve(gbc,x_test,y_test,ax=disp.ax_)\n",
    "plot_roc_curve(svm,x_test,y_test,ax=disp.ax_)\n",
    "\n",
    "plt.show()"
   ]
  },
  {
   "cell_type": "markdown",
   "id": "11c397f7",
   "metadata": {},
   "source": [
    "### AUC_ROC score for random forest classifier is 92%"
   ]
  },
  {
   "cell_type": "markdown",
   "id": "b88d87be",
   "metadata": {},
   "source": [
    "### Model Save"
   ]
  },
  {
   "cell_type": "code",
   "execution_count": 195,
   "id": "bda141a3",
   "metadata": {},
   "outputs": [],
   "source": [
    "filename='Loan_status.pickle'\n",
    "pickle.dump(rfc,open(filename,'wb'))"
   ]
  }
 ],
 "metadata": {
  "kernelspec": {
   "display_name": "Python 3",
   "language": "python",
   "name": "python3"
  },
  "language_info": {
   "codemirror_mode": {
    "name": "ipython",
    "version": 3
   },
   "file_extension": ".py",
   "mimetype": "text/x-python",
   "name": "python",
   "nbconvert_exporter": "python",
   "pygments_lexer": "ipython3",
   "version": "3.8.8"
  }
 },
 "nbformat": 4,
 "nbformat_minor": 5
}
