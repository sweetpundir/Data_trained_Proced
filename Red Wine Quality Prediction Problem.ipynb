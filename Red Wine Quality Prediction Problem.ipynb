{
 "cells": [
  {
   "cell_type": "markdown",
   "id": "dd2c1ce2",
   "metadata": {},
   "source": [
    "## Red Wine Quality Prediction Problem"
   ]
  },
  {
   "cell_type": "markdown",
   "id": "287e9990",
   "metadata": {},
   "source": [
    "Red Wine Quality Prediction Problem Statement: The dataset is related to red and white variants of the Portuguese \"Vinho Verde\" wine. Due to privacy and logistic issues, only physicochemical (inputs) and sensory (the output) variables are available (e.g. there is no data about grape types, wine brand, wine selling price, etc.).\n",
    "\n",
    "This dataset can be viewed as classification task. The classes are ordered and not balanced (e.g. there are many more normal wines than excellent or poor ones). Also, we are not sure if all input variables are relevant. So it could be interesting to test feature selection methods.\n",
    "\n",
    "Attribute Information\n",
    "\n",
    "Input variables (based on physicochemical tests): 1 - fixed acidity 2 - volatile acidity 3 - citric acid 4 - residual sugar 5 - chlorides 6 - free sulfur dioxide 7 - total sulfur dioxide 8 - density 9 - pH 10 - sulphates 11 - alcohol Output variable (based on sensory data): 12 - quality (score between 0 and 10)\n",
    "\n",
    "What might be an interesting thing to do, is to set an arbitrary cutoff for your dependent variable (wine quality) at e.g. 7 or higher getting classified as 'good/1' and the remainder as 'not good/0'. This allows you to practice with hyper parameter tuning on e.g. decision tree algorithms looking at the ROC curve and the AUC value.\n",
    "\n",
    "You need to build a classification model.\n",
    "\n",
    "Inspiration\n",
    "\n",
    "Use machine learning to determine which physiochemical properties make a wine 'good'!\n",
    "\n",
    "Submission Details\n",
    "\n",
    "Share the link of the repository as your submission.\n",
    "Downlaod Files: https://github.com/dsrscientist/DSData/blob/master/winequality-red.csv"
   ]
  },
  {
   "cell_type": "markdown",
   "id": "2d7676f8",
   "metadata": {},
   "source": [
    "### Importing Liberary"
   ]
  },
  {
   "cell_type": "code",
   "execution_count": 55,
   "id": "954148de",
   "metadata": {},
   "outputs": [],
   "source": [
    "#Data Lib\n",
    "import numpy as np\n",
    "import pandas as pd\n",
    "\n",
    "#Visualization lib\n",
    "import seaborn as sns\n",
    "import matplotlib.pyplot as plt\n",
    "%matplotlib inline\n",
    "\n",
    "#Preprocessing lib\n",
    "from sklearn.model_selection import train_test_split\n",
    "from sklearn.preprocessing import StandardScaler\n",
    "#models\n",
    "from sklearn.linear_model import LogisticRegression\n",
    "from sklearn.ensemble import RandomForestClassifier\n",
    "from sklearn.neighbors import KNeighborsClassifier\n",
    "from sklearn.svm import SVC\n",
    "#tunning lib\n",
    "from sklearn.model_selection import GridSearchCV\n",
    "#metrics\n",
    "\n",
    "from sklearn.metrics import confusion_matrix,accuracy_score,classification_report\n",
    "\n",
    "#save\n",
    "\n",
    "import pickle\n",
    "\n",
    "import warnings\n",
    "warnings.filterwarnings(\"ignore\")\n"
   ]
  },
  {
   "cell_type": "markdown",
   "id": "f3019aa7",
   "metadata": {},
   "source": [
    "### Data Loading"
   ]
  },
  {
   "cell_type": "code",
   "execution_count": 2,
   "id": "806d4135",
   "metadata": {},
   "outputs": [
    {
     "data": {
      "text/html": [
       "<div>\n",
       "<style scoped>\n",
       "    .dataframe tbody tr th:only-of-type {\n",
       "        vertical-align: middle;\n",
       "    }\n",
       "\n",
       "    .dataframe tbody tr th {\n",
       "        vertical-align: top;\n",
       "    }\n",
       "\n",
       "    .dataframe thead th {\n",
       "        text-align: right;\n",
       "    }\n",
       "</style>\n",
       "<table border=\"1\" class=\"dataframe\">\n",
       "  <thead>\n",
       "    <tr style=\"text-align: right;\">\n",
       "      <th></th>\n",
       "      <th>fixed acidity</th>\n",
       "      <th>volatile acidity</th>\n",
       "      <th>citric acid</th>\n",
       "      <th>residual sugar</th>\n",
       "      <th>chlorides</th>\n",
       "      <th>free sulfur dioxide</th>\n",
       "      <th>total sulfur dioxide</th>\n",
       "      <th>density</th>\n",
       "      <th>pH</th>\n",
       "      <th>sulphates</th>\n",
       "      <th>alcohol</th>\n",
       "      <th>quality</th>\n",
       "    </tr>\n",
       "  </thead>\n",
       "  <tbody>\n",
       "    <tr>\n",
       "      <th>0</th>\n",
       "      <td>7.4</td>\n",
       "      <td>0.70</td>\n",
       "      <td>0.00</td>\n",
       "      <td>1.9</td>\n",
       "      <td>0.076</td>\n",
       "      <td>11.0</td>\n",
       "      <td>34.0</td>\n",
       "      <td>0.9978</td>\n",
       "      <td>3.51</td>\n",
       "      <td>0.56</td>\n",
       "      <td>9.4</td>\n",
       "      <td>5</td>\n",
       "    </tr>\n",
       "    <tr>\n",
       "      <th>1</th>\n",
       "      <td>7.8</td>\n",
       "      <td>0.88</td>\n",
       "      <td>0.00</td>\n",
       "      <td>2.6</td>\n",
       "      <td>0.098</td>\n",
       "      <td>25.0</td>\n",
       "      <td>67.0</td>\n",
       "      <td>0.9968</td>\n",
       "      <td>3.20</td>\n",
       "      <td>0.68</td>\n",
       "      <td>9.8</td>\n",
       "      <td>5</td>\n",
       "    </tr>\n",
       "    <tr>\n",
       "      <th>2</th>\n",
       "      <td>7.8</td>\n",
       "      <td>0.76</td>\n",
       "      <td>0.04</td>\n",
       "      <td>2.3</td>\n",
       "      <td>0.092</td>\n",
       "      <td>15.0</td>\n",
       "      <td>54.0</td>\n",
       "      <td>0.9970</td>\n",
       "      <td>3.26</td>\n",
       "      <td>0.65</td>\n",
       "      <td>9.8</td>\n",
       "      <td>5</td>\n",
       "    </tr>\n",
       "    <tr>\n",
       "      <th>3</th>\n",
       "      <td>11.2</td>\n",
       "      <td>0.28</td>\n",
       "      <td>0.56</td>\n",
       "      <td>1.9</td>\n",
       "      <td>0.075</td>\n",
       "      <td>17.0</td>\n",
       "      <td>60.0</td>\n",
       "      <td>0.9980</td>\n",
       "      <td>3.16</td>\n",
       "      <td>0.58</td>\n",
       "      <td>9.8</td>\n",
       "      <td>6</td>\n",
       "    </tr>\n",
       "    <tr>\n",
       "      <th>4</th>\n",
       "      <td>7.4</td>\n",
       "      <td>0.70</td>\n",
       "      <td>0.00</td>\n",
       "      <td>1.9</td>\n",
       "      <td>0.076</td>\n",
       "      <td>11.0</td>\n",
       "      <td>34.0</td>\n",
       "      <td>0.9978</td>\n",
       "      <td>3.51</td>\n",
       "      <td>0.56</td>\n",
       "      <td>9.4</td>\n",
       "      <td>5</td>\n",
       "    </tr>\n",
       "  </tbody>\n",
       "</table>\n",
       "</div>"
      ],
      "text/plain": [
       "   fixed acidity  volatile acidity  citric acid  residual sugar  chlorides  \\\n",
       "0            7.4              0.70         0.00             1.9      0.076   \n",
       "1            7.8              0.88         0.00             2.6      0.098   \n",
       "2            7.8              0.76         0.04             2.3      0.092   \n",
       "3           11.2              0.28         0.56             1.9      0.075   \n",
       "4            7.4              0.70         0.00             1.9      0.076   \n",
       "\n",
       "   free sulfur dioxide  total sulfur dioxide  density    pH  sulphates  \\\n",
       "0                 11.0                  34.0   0.9978  3.51       0.56   \n",
       "1                 25.0                  67.0   0.9968  3.20       0.68   \n",
       "2                 15.0                  54.0   0.9970  3.26       0.65   \n",
       "3                 17.0                  60.0   0.9980  3.16       0.58   \n",
       "4                 11.0                  34.0   0.9978  3.51       0.56   \n",
       "\n",
       "   alcohol  quality  \n",
       "0      9.4        5  \n",
       "1      9.8        5  \n",
       "2      9.8        5  \n",
       "3      9.8        6  \n",
       "4      9.4        5  "
      ]
     },
     "execution_count": 2,
     "metadata": {},
     "output_type": "execute_result"
    }
   ],
   "source": [
    "data=pd.read_csv(r'https://raw.githubusercontent.com/dsrscientist/DSData/master/winequality-red.csv')\n",
    "data.head()"
   ]
  },
  {
   "cell_type": "code",
   "execution_count": 3,
   "id": "59ec5d98",
   "metadata": {},
   "outputs": [
    {
     "data": {
      "text/plain": [
       "(1599, 12)"
      ]
     },
     "execution_count": 3,
     "metadata": {},
     "output_type": "execute_result"
    }
   ],
   "source": [
    "data.shape"
   ]
  },
  {
   "cell_type": "code",
   "execution_count": 4,
   "id": "441c0a75",
   "metadata": {},
   "outputs": [
    {
     "data": {
      "text/plain": [
       "<AxesSubplot:xlabel='quality', ylabel='count'>"
      ]
     },
     "execution_count": 4,
     "metadata": {},
     "output_type": "execute_result"
    },
    {
     "data": {
      "image/png": "[encoded data removed]",
      "text/plain": [
       "<Figure size 432x288 with 1 Axes>"
      ]
     },
     "metadata": {
      "needs_background": "light"
     },
     "output_type": "display_data"
    }
   ],
   "source": [
    "sns.countplot(data['quality'])"
   ]
  },
  {
   "cell_type": "code",
   "execution_count": 5,
   "id": "1de3bbe5",
   "metadata": {},
   "outputs": [
    {
     "data": {
      "text/html": [
       "<div>\n",
       "<style scoped>\n",
       "    .dataframe tbody tr th:only-of-type {\n",
       "        vertical-align: middle;\n",
       "    }\n",
       "\n",
       "    .dataframe tbody tr th {\n",
       "        vertical-align: top;\n",
       "    }\n",
       "\n",
       "    .dataframe thead th {\n",
       "        text-align: right;\n",
       "    }\n",
       "</style>\n",
       "<table border=\"1\" class=\"dataframe\">\n",
       "  <thead>\n",
       "    <tr style=\"text-align: right;\">\n",
       "      <th></th>\n",
       "      <th>fixed acidity</th>\n",
       "      <th>volatile acidity</th>\n",
       "      <th>citric acid</th>\n",
       "      <th>residual sugar</th>\n",
       "      <th>chlorides</th>\n",
       "      <th>free sulfur dioxide</th>\n",
       "      <th>total sulfur dioxide</th>\n",
       "      <th>density</th>\n",
       "      <th>pH</th>\n",
       "      <th>sulphates</th>\n",
       "      <th>alcohol</th>\n",
       "    </tr>\n",
       "    <tr>\n",
       "      <th>quality</th>\n",
       "      <th></th>\n",
       "      <th></th>\n",
       "      <th></th>\n",
       "      <th></th>\n",
       "      <th></th>\n",
       "      <th></th>\n",
       "      <th></th>\n",
       "      <th></th>\n",
       "      <th></th>\n",
       "      <th></th>\n",
       "      <th></th>\n",
       "    </tr>\n",
       "  </thead>\n",
       "  <tbody>\n",
       "    <tr>\n",
       "      <th>3</th>\n",
       "      <td>10</td>\n",
       "      <td>10</td>\n",
       "      <td>10</td>\n",
       "      <td>10</td>\n",
       "      <td>10</td>\n",
       "      <td>10</td>\n",
       "      <td>10</td>\n",
       "      <td>10</td>\n",
       "      <td>10</td>\n",
       "      <td>10</td>\n",
       "      <td>10</td>\n",
       "    </tr>\n",
       "    <tr>\n",
       "      <th>4</th>\n",
       "      <td>53</td>\n",
       "      <td>53</td>\n",
       "      <td>53</td>\n",
       "      <td>53</td>\n",
       "      <td>53</td>\n",
       "      <td>53</td>\n",
       "      <td>53</td>\n",
       "      <td>53</td>\n",
       "      <td>53</td>\n",
       "      <td>53</td>\n",
       "      <td>53</td>\n",
       "    </tr>\n",
       "    <tr>\n",
       "      <th>5</th>\n",
       "      <td>681</td>\n",
       "      <td>681</td>\n",
       "      <td>681</td>\n",
       "      <td>681</td>\n",
       "      <td>681</td>\n",
       "      <td>681</td>\n",
       "      <td>681</td>\n",
       "      <td>681</td>\n",
       "      <td>681</td>\n",
       "      <td>681</td>\n",
       "      <td>681</td>\n",
       "    </tr>\n",
       "    <tr>\n",
       "      <th>6</th>\n",
       "      <td>638</td>\n",
       "      <td>638</td>\n",
       "      <td>638</td>\n",
       "      <td>638</td>\n",
       "      <td>638</td>\n",
       "      <td>638</td>\n",
       "      <td>638</td>\n",
       "      <td>638</td>\n",
       "      <td>638</td>\n",
       "      <td>638</td>\n",
       "      <td>638</td>\n",
       "    </tr>\n",
       "    <tr>\n",
       "      <th>7</th>\n",
       "      <td>199</td>\n",
       "      <td>199</td>\n",
       "      <td>199</td>\n",
       "      <td>199</td>\n",
       "      <td>199</td>\n",
       "      <td>199</td>\n",
       "      <td>199</td>\n",
       "      <td>199</td>\n",
       "      <td>199</td>\n",
       "      <td>199</td>\n",
       "      <td>199</td>\n",
       "    </tr>\n",
       "    <tr>\n",
       "      <th>8</th>\n",
       "      <td>18</td>\n",
       "      <td>18</td>\n",
       "      <td>18</td>\n",
       "      <td>18</td>\n",
       "      <td>18</td>\n",
       "      <td>18</td>\n",
       "      <td>18</td>\n",
       "      <td>18</td>\n",
       "      <td>18</td>\n",
       "      <td>18</td>\n",
       "      <td>18</td>\n",
       "    </tr>\n",
       "  </tbody>\n",
       "</table>\n",
       "</div>"
      ],
      "text/plain": [
       "         fixed acidity  volatile acidity  citric acid  residual sugar  \\\n",
       "quality                                                                 \n",
       "3                   10                10           10              10   \n",
       "4                   53                53           53              53   \n",
       "5                  681               681          681             681   \n",
       "6                  638               638          638             638   \n",
       "7                  199               199          199             199   \n",
       "8                   18                18           18              18   \n",
       "\n",
       "         chlorides  free sulfur dioxide  total sulfur dioxide  density   pH  \\\n",
       "quality                                                                       \n",
       "3               10                   10                    10       10   10   \n",
       "4               53                   53                    53       53   53   \n",
       "5              681                  681                   681      681  681   \n",
       "6              638                  638                   638      638  638   \n",
       "7              199                  199                   199      199  199   \n",
       "8               18                   18                    18       18   18   \n",
       "\n",
       "         sulphates  alcohol  \n",
       "quality                      \n",
       "3               10       10  \n",
       "4               53       53  \n",
       "5              681      681  \n",
       "6              638      638  \n",
       "7              199      199  \n",
       "8               18       18  "
      ]
     },
     "execution_count": 5,
     "metadata": {},
     "output_type": "execute_result"
    }
   ],
   "source": [
    "data.groupby('quality').count()"
   ]
  },
  {
   "cell_type": "markdown",
   "id": "c38b369d",
   "metadata": {},
   "source": [
    "As per problem statement lets convert target value 'quality' in binary classification 0-6 as 0(not good) and 6+ as 1(good)."
   ]
  },
  {
   "cell_type": "code",
   "execution_count": 6,
   "id": "412e5fe0",
   "metadata": {},
   "outputs": [],
   "source": [
    "data['quality']=data['quality'].apply(lambda x: 1 if x > 6 else 0)"
   ]
  },
  {
   "cell_type": "code",
   "execution_count": 7,
   "id": "54bcc825",
   "metadata": {},
   "outputs": [
    {
     "data": {
      "image/png": "[encoded data removed]",
      "text/plain": [
       "<Figure size 432x288 with 1 Axes>"
      ]
     },
     "metadata": {
      "needs_background": "light"
     },
     "output_type": "display_data"
    }
   ],
   "source": [
    "sns.countplot(data['quality'])\n",
    "plt.show()              "
   ]
  },
  {
   "cell_type": "code",
   "execution_count": 8,
   "id": "5e3a59ba",
   "metadata": {},
   "outputs": [
    {
     "name": "stdout",
     "output_type": "stream",
     "text": [
      "0 category %: 14\n",
      "1 category %: 86\n"
     ]
    }
   ],
   "source": [
    "data['quality'].value_counts()\n",
    "\n",
    "print('0 category %:',round(217/(1382+217)*100))\n",
    "print('1 category %:',round(1382/(1382+217)*100))"
   ]
  },
  {
   "cell_type": "markdown",
   "id": "a31c2b1b",
   "metadata": {},
   "source": [
    "Its clearly reflecting data imbalancing, we have only 14% data in 0 category and 86% data on 1 category, we have to handle this issue otherwise model can be biased. i will perform sampling after cleaning dataset."
   ]
  },
  {
   "cell_type": "markdown",
   "id": "daa6b851",
   "metadata": {},
   "source": [
    "### Duplicacy Test"
   ]
  },
  {
   "cell_type": "code",
   "execution_count": 9,
   "id": "a281026a",
   "metadata": {},
   "outputs": [
    {
     "data": {
      "text/plain": [
       "240"
      ]
     },
     "execution_count": 9,
     "metadata": {},
     "output_type": "execute_result"
    }
   ],
   "source": [
    "data.duplicated(keep='last').sum()"
   ]
  },
  {
   "cell_type": "markdown",
   "id": "23919f4f",
   "metadata": {},
   "source": [
    "Its shwing 240 duplicates in dataset so we have to remove duplicacy."
   ]
  },
  {
   "cell_type": "code",
   "execution_count": 10,
   "id": "fccc742d",
   "metadata": {},
   "outputs": [],
   "source": [
    "data.drop_duplicates(inplace=True)"
   ]
  },
  {
   "cell_type": "code",
   "execution_count": 11,
   "id": "696a267e",
   "metadata": {},
   "outputs": [
    {
     "data": {
      "text/plain": [
       "0"
      ]
     },
     "execution_count": 11,
     "metadata": {},
     "output_type": "execute_result"
    }
   ],
   "source": [
    "data.duplicated(keep='last').sum()"
   ]
  },
  {
   "cell_type": "code",
   "execution_count": 12,
   "id": "f2d67efe",
   "metadata": {},
   "outputs": [
    {
     "data": {
      "text/plain": [
       "(1359, 12)"
      ]
     },
     "execution_count": 12,
     "metadata": {},
     "output_type": "execute_result"
    }
   ],
   "source": [
    "data.shape"
   ]
  },
  {
   "cell_type": "markdown",
   "id": "f129ca54",
   "metadata": {},
   "source": [
    "All duplicacy removed from dataset now.\n",
    "\n",
    "We have now 1359 observations & 12 features including target variable."
   ]
  },
  {
   "cell_type": "markdown",
   "id": "a0bd80e2",
   "metadata": {},
   "source": [
    "### Categorical & Null Testing"
   ]
  },
  {
   "cell_type": "code",
   "execution_count": 13,
   "id": "ba2e46d1",
   "metadata": {},
   "outputs": [
    {
     "name": "stdout",
     "output_type": "stream",
     "text": [
      "<class 'pandas.core.frame.DataFrame'>\n",
      "Int64Index: 1359 entries, 0 to 1598\n",
      "Data columns (total 12 columns):\n",
      " #   Column                Non-Null Count  Dtype  \n",
      "---  ------                --------------  -----  \n",
      " 0   fixed acidity         1359 non-null   float64\n",
      " 1   volatile acidity      1359 non-null   float64\n",
      " 2   citric acid           1359 non-null   float64\n",
      " 3   residual sugar        1359 non-null   float64\n",
      " 4   chlorides             1359 non-null   float64\n",
      " 5   free sulfur dioxide   1359 non-null   float64\n",
      " 6   total sulfur dioxide  1359 non-null   float64\n",
      " 7   density               1359 non-null   float64\n",
      " 8   pH                    1359 non-null   float64\n",
      " 9   sulphates             1359 non-null   float64\n",
      " 10  alcohol               1359 non-null   float64\n",
      " 11  quality               1359 non-null   int64  \n",
      "dtypes: float64(11), int64(1)\n",
      "memory usage: 138.0 KB\n"
     ]
    }
   ],
   "source": [
    "data.info()"
   ]
  },
  {
   "cell_type": "code",
   "execution_count": 14,
   "id": "7cd9a814",
   "metadata": {},
   "outputs": [
    {
     "data": {
      "text/plain": [
       "fixed acidity           0\n",
       "volatile acidity        0\n",
       "citric acid             0\n",
       "residual sugar          0\n",
       "chlorides               0\n",
       "free sulfur dioxide     0\n",
       "total sulfur dioxide    0\n",
       "density                 0\n",
       "pH                      0\n",
       "sulphates               0\n",
       "alcohol                 0\n",
       "quality                 0\n",
       "dtype: int64"
      ]
     },
     "execution_count": 14,
     "metadata": {},
     "output_type": "execute_result"
    }
   ],
   "source": [
    "data.isna().sum()"
   ]
  },
  {
   "cell_type": "markdown",
   "id": "e516c009",
   "metadata": {},
   "source": [
    "As we can see there is no null value in dataset all features are numeric."
   ]
  },
  {
   "cell_type": "markdown",
   "id": "3e7c3627",
   "metadata": {},
   "source": [
    "### Describe Data"
   ]
  },
  {
   "cell_type": "code",
   "execution_count": 15,
   "id": "63b8fefb",
   "metadata": {},
   "outputs": [
    {
     "data": {
      "text/html": [
       "<div>\n",
       "<style scoped>\n",
       "    .dataframe tbody tr th:only-of-type {\n",
       "        vertical-align: middle;\n",
       "    }\n",
       "\n",
       "    .dataframe tbody tr th {\n",
       "        vertical-align: top;\n",
       "    }\n",
       "\n",
       "    .dataframe thead th {\n",
       "        text-align: right;\n",
       "    }\n",
       "</style>\n",
       "<table border=\"1\" class=\"dataframe\">\n",
       "  <thead>\n",
       "    <tr style=\"text-align: right;\">\n",
       "      <th></th>\n",
       "      <th>fixed acidity</th>\n",
       "      <th>volatile acidity</th>\n",
       "      <th>citric acid</th>\n",
       "      <th>residual sugar</th>\n",
       "      <th>chlorides</th>\n",
       "      <th>free sulfur dioxide</th>\n",
       "      <th>total sulfur dioxide</th>\n",
       "      <th>density</th>\n",
       "      <th>pH</th>\n",
       "      <th>sulphates</th>\n",
       "      <th>alcohol</th>\n",
       "      <th>quality</th>\n",
       "    </tr>\n",
       "  </thead>\n",
       "  <tbody>\n",
       "    <tr>\n",
       "      <th>count</th>\n",
       "      <td>1359.000000</td>\n",
       "      <td>1359.000000</td>\n",
       "      <td>1359.000000</td>\n",
       "      <td>1359.000000</td>\n",
       "      <td>1359.000000</td>\n",
       "      <td>1359.000000</td>\n",
       "      <td>1359.000000</td>\n",
       "      <td>1359.000000</td>\n",
       "      <td>1359.000000</td>\n",
       "      <td>1359.000000</td>\n",
       "      <td>1359.000000</td>\n",
       "      <td>1359.000000</td>\n",
       "    </tr>\n",
       "    <tr>\n",
       "      <th>mean</th>\n",
       "      <td>8.310596</td>\n",
       "      <td>0.529478</td>\n",
       "      <td>0.272333</td>\n",
       "      <td>2.523400</td>\n",
       "      <td>0.088124</td>\n",
       "      <td>15.893304</td>\n",
       "      <td>46.825975</td>\n",
       "      <td>0.996709</td>\n",
       "      <td>3.309787</td>\n",
       "      <td>0.658705</td>\n",
       "      <td>10.432315</td>\n",
       "      <td>0.135394</td>\n",
       "    </tr>\n",
       "    <tr>\n",
       "      <th>std</th>\n",
       "      <td>1.736990</td>\n",
       "      <td>0.183031</td>\n",
       "      <td>0.195537</td>\n",
       "      <td>1.352314</td>\n",
       "      <td>0.049377</td>\n",
       "      <td>10.447270</td>\n",
       "      <td>33.408946</td>\n",
       "      <td>0.001869</td>\n",
       "      <td>0.155036</td>\n",
       "      <td>0.170667</td>\n",
       "      <td>1.082065</td>\n",
       "      <td>0.342270</td>\n",
       "    </tr>\n",
       "    <tr>\n",
       "      <th>min</th>\n",
       "      <td>4.600000</td>\n",
       "      <td>0.120000</td>\n",
       "      <td>0.000000</td>\n",
       "      <td>0.900000</td>\n",
       "      <td>0.012000</td>\n",
       "      <td>1.000000</td>\n",
       "      <td>6.000000</td>\n",
       "      <td>0.990070</td>\n",
       "      <td>2.740000</td>\n",
       "      <td>0.330000</td>\n",
       "      <td>8.400000</td>\n",
       "      <td>0.000000</td>\n",
       "    </tr>\n",
       "    <tr>\n",
       "      <th>25%</th>\n",
       "      <td>7.100000</td>\n",
       "      <td>0.390000</td>\n",
       "      <td>0.090000</td>\n",
       "      <td>1.900000</td>\n",
       "      <td>0.070000</td>\n",
       "      <td>7.000000</td>\n",
       "      <td>22.000000</td>\n",
       "      <td>0.995600</td>\n",
       "      <td>3.210000</td>\n",
       "      <td>0.550000</td>\n",
       "      <td>9.500000</td>\n",
       "      <td>0.000000</td>\n",
       "    </tr>\n",
       "    <tr>\n",
       "      <th>50%</th>\n",
       "      <td>7.900000</td>\n",
       "      <td>0.520000</td>\n",
       "      <td>0.260000</td>\n",
       "      <td>2.200000</td>\n",
       "      <td>0.079000</td>\n",
       "      <td>14.000000</td>\n",
       "      <td>38.000000</td>\n",
       "      <td>0.996700</td>\n",
       "      <td>3.310000</td>\n",
       "      <td>0.620000</td>\n",
       "      <td>10.200000</td>\n",
       "      <td>0.000000</td>\n",
       "    </tr>\n",
       "    <tr>\n",
       "      <th>75%</th>\n",
       "      <td>9.200000</td>\n",
       "      <td>0.640000</td>\n",
       "      <td>0.430000</td>\n",
       "      <td>2.600000</td>\n",
       "      <td>0.091000</td>\n",
       "      <td>21.000000</td>\n",
       "      <td>63.000000</td>\n",
       "      <td>0.997820</td>\n",
       "      <td>3.400000</td>\n",
       "      <td>0.730000</td>\n",
       "      <td>11.100000</td>\n",
       "      <td>0.000000</td>\n",
       "    </tr>\n",
       "    <tr>\n",
       "      <th>max</th>\n",
       "      <td>15.900000</td>\n",
       "      <td>1.580000</td>\n",
       "      <td>1.000000</td>\n",
       "      <td>15.500000</td>\n",
       "      <td>0.611000</td>\n",
       "      <td>72.000000</td>\n",
       "      <td>289.000000</td>\n",
       "      <td>1.003690</td>\n",
       "      <td>4.010000</td>\n",
       "      <td>2.000000</td>\n",
       "      <td>14.900000</td>\n",
       "      <td>1.000000</td>\n",
       "    </tr>\n",
       "  </tbody>\n",
       "</table>\n",
       "</div>"
      ],
      "text/plain": [
       "       fixed acidity  volatile acidity  citric acid  residual sugar  \\\n",
       "count    1359.000000       1359.000000  1359.000000     1359.000000   \n",
       "mean        8.310596          0.529478     0.272333        2.523400   \n",
       "std         1.736990          0.183031     0.195537        1.352314   \n",
       "min         4.600000          0.120000     0.000000        0.900000   \n",
       "25%         7.100000          0.390000     0.090000        1.900000   \n",
       "50%         7.900000          0.520000     0.260000        2.200000   \n",
       "75%         9.200000          0.640000     0.430000        2.600000   \n",
       "max        15.900000          1.580000     1.000000       15.500000   \n",
       "\n",
       "         chlorides  free sulfur dioxide  total sulfur dioxide      density  \\\n",
       "count  1359.000000          1359.000000           1359.000000  1359.000000   \n",
       "mean      0.088124            15.893304             46.825975     0.996709   \n",
       "std       0.049377            10.447270             33.408946     0.001869   \n",
       "min       0.012000             1.000000              6.000000     0.990070   \n",
       "25%       0.070000             7.000000             22.000000     0.995600   \n",
       "50%       0.079000            14.000000             38.000000     0.996700   \n",
       "75%       0.091000            21.000000             63.000000     0.997820   \n",
       "max       0.611000            72.000000            289.000000     1.003690   \n",
       "\n",
       "                pH    sulphates      alcohol      quality  \n",
       "count  1359.000000  1359.000000  1359.000000  1359.000000  \n",
       "mean      3.309787     0.658705    10.432315     0.135394  \n",
       "std       0.155036     0.170667     1.082065     0.342270  \n",
       "min       2.740000     0.330000     8.400000     0.000000  \n",
       "25%       3.210000     0.550000     9.500000     0.000000  \n",
       "50%       3.310000     0.620000    10.200000     0.000000  \n",
       "75%       3.400000     0.730000    11.100000     0.000000  \n",
       "max       4.010000     2.000000    14.900000     1.000000  "
      ]
     },
     "execution_count": 15,
     "metadata": {},
     "output_type": "execute_result"
    }
   ],
   "source": [
    "data.describe()"
   ]
  },
  {
   "cell_type": "code",
   "execution_count": 16,
   "id": "28e1be2b",
   "metadata": {},
   "outputs": [
    {
     "data": {
      "image/png": "[encoded data removed]",
      "text/plain": [
       "<Figure size 864x720 with 2 Axes>"
      ]
     },
     "metadata": {
      "needs_background": "light"
     },
     "output_type": "display_data"
    }
   ],
   "source": [
    "plt.figure(figsize=(12,10))\n",
    "sns.heatmap(data.describe())\n",
    "plt.show()"
   ]
  },
  {
   "cell_type": "markdown",
   "id": "0d117ee1",
   "metadata": {},
   "source": [
    "As again we can see all features are having equal observations i.e. 1359.\n",
    "in residual sugar, free sulfur dioxide, total sulfur dioxide max value is seems higher. it can be an outlier we check it later on."
   ]
  },
  {
   "cell_type": "markdown",
   "id": "2af605ab",
   "metadata": {},
   "source": [
    "### Correlation & multicollinearty Test"
   ]
  },
  {
   "cell_type": "code",
   "execution_count": 17,
   "id": "25b4c665",
   "metadata": {},
   "outputs": [
    {
     "data": {
      "text/html": [
       "<div>\n",
       "<style scoped>\n",
       "    .dataframe tbody tr th:only-of-type {\n",
       "        vertical-align: middle;\n",
       "    }\n",
       "\n",
       "    .dataframe tbody tr th {\n",
       "        vertical-align: top;\n",
       "    }\n",
       "\n",
       "    .dataframe thead th {\n",
       "        text-align: right;\n",
       "    }\n",
       "</style>\n",
       "<table border=\"1\" class=\"dataframe\">\n",
       "  <thead>\n",
       "    <tr style=\"text-align: right;\">\n",
       "      <th></th>\n",
       "      <th>fixed acidity</th>\n",
       "      <th>volatile acidity</th>\n",
       "      <th>citric acid</th>\n",
       "      <th>residual sugar</th>\n",
       "      <th>chlorides</th>\n",
       "      <th>free sulfur dioxide</th>\n",
       "      <th>total sulfur dioxide</th>\n",
       "      <th>density</th>\n",
       "      <th>pH</th>\n",
       "      <th>sulphates</th>\n",
       "      <th>alcohol</th>\n",
       "      <th>quality</th>\n",
       "    </tr>\n",
       "  </thead>\n",
       "  <tbody>\n",
       "    <tr>\n",
       "      <th>fixed acidity</th>\n",
       "      <td>1.000000</td>\n",
       "      <td>-0.255124</td>\n",
       "      <td>0.667437</td>\n",
       "      <td>0.111025</td>\n",
       "      <td>0.085886</td>\n",
       "      <td>-0.140580</td>\n",
       "      <td>-0.103777</td>\n",
       "      <td>0.670195</td>\n",
       "      <td>-0.686685</td>\n",
       "      <td>0.190269</td>\n",
       "      <td>-0.061596</td>\n",
       "      <td>0.116120</td>\n",
       "    </tr>\n",
       "    <tr>\n",
       "      <th>volatile acidity</th>\n",
       "      <td>-0.255124</td>\n",
       "      <td>1.000000</td>\n",
       "      <td>-0.551248</td>\n",
       "      <td>-0.002449</td>\n",
       "      <td>0.055154</td>\n",
       "      <td>-0.020945</td>\n",
       "      <td>0.071701</td>\n",
       "      <td>0.023943</td>\n",
       "      <td>0.247111</td>\n",
       "      <td>-0.256948</td>\n",
       "      <td>-0.197812</td>\n",
       "      <td>-0.267344</td>\n",
       "    </tr>\n",
       "    <tr>\n",
       "      <th>citric acid</th>\n",
       "      <td>0.667437</td>\n",
       "      <td>-0.551248</td>\n",
       "      <td>1.000000</td>\n",
       "      <td>0.143892</td>\n",
       "      <td>0.210195</td>\n",
       "      <td>-0.048004</td>\n",
       "      <td>0.047358</td>\n",
       "      <td>0.357962</td>\n",
       "      <td>-0.550310</td>\n",
       "      <td>0.326062</td>\n",
       "      <td>0.105108</td>\n",
       "      <td>0.203561</td>\n",
       "    </tr>\n",
       "    <tr>\n",
       "      <th>residual sugar</th>\n",
       "      <td>0.111025</td>\n",
       "      <td>-0.002449</td>\n",
       "      <td>0.143892</td>\n",
       "      <td>1.000000</td>\n",
       "      <td>0.026656</td>\n",
       "      <td>0.160527</td>\n",
       "      <td>0.201038</td>\n",
       "      <td>0.324522</td>\n",
       "      <td>-0.083143</td>\n",
       "      <td>-0.011837</td>\n",
       "      <td>0.063281</td>\n",
       "      <td>0.052811</td>\n",
       "    </tr>\n",
       "    <tr>\n",
       "      <th>chlorides</th>\n",
       "      <td>0.085886</td>\n",
       "      <td>0.055154</td>\n",
       "      <td>0.210195</td>\n",
       "      <td>0.026656</td>\n",
       "      <td>1.000000</td>\n",
       "      <td>0.000749</td>\n",
       "      <td>0.045773</td>\n",
       "      <td>0.193592</td>\n",
       "      <td>-0.270893</td>\n",
       "      <td>0.394557</td>\n",
       "      <td>-0.223824</td>\n",
       "      <td>-0.096806</td>\n",
       "    </tr>\n",
       "    <tr>\n",
       "      <th>free sulfur dioxide</th>\n",
       "      <td>-0.140580</td>\n",
       "      <td>-0.020945</td>\n",
       "      <td>-0.048004</td>\n",
       "      <td>0.160527</td>\n",
       "      <td>0.000749</td>\n",
       "      <td>1.000000</td>\n",
       "      <td>0.667246</td>\n",
       "      <td>-0.018071</td>\n",
       "      <td>0.056631</td>\n",
       "      <td>0.054126</td>\n",
       "      <td>-0.080125</td>\n",
       "      <td>-0.072771</td>\n",
       "    </tr>\n",
       "    <tr>\n",
       "      <th>total sulfur dioxide</th>\n",
       "      <td>-0.103777</td>\n",
       "      <td>0.071701</td>\n",
       "      <td>0.047358</td>\n",
       "      <td>0.201038</td>\n",
       "      <td>0.045773</td>\n",
       "      <td>0.667246</td>\n",
       "      <td>1.000000</td>\n",
       "      <td>0.078141</td>\n",
       "      <td>-0.079257</td>\n",
       "      <td>0.035291</td>\n",
       "      <td>-0.217829</td>\n",
       "      <td>-0.135877</td>\n",
       "    </tr>\n",
       "    <tr>\n",
       "      <th>density</th>\n",
       "      <td>0.670195</td>\n",
       "      <td>0.023943</td>\n",
       "      <td>0.357962</td>\n",
       "      <td>0.324522</td>\n",
       "      <td>0.193592</td>\n",
       "      <td>-0.018071</td>\n",
       "      <td>0.078141</td>\n",
       "      <td>1.000000</td>\n",
       "      <td>-0.355617</td>\n",
       "      <td>0.146036</td>\n",
       "      <td>-0.504995</td>\n",
       "      <td>-0.158052</td>\n",
       "    </tr>\n",
       "    <tr>\n",
       "      <th>pH</th>\n",
       "      <td>-0.686685</td>\n",
       "      <td>0.247111</td>\n",
       "      <td>-0.550310</td>\n",
       "      <td>-0.083143</td>\n",
       "      <td>-0.270893</td>\n",
       "      <td>0.056631</td>\n",
       "      <td>-0.079257</td>\n",
       "      <td>-0.355617</td>\n",
       "      <td>1.000000</td>\n",
       "      <td>-0.214134</td>\n",
       "      <td>0.213418</td>\n",
       "      <td>-0.054131</td>\n",
       "    </tr>\n",
       "    <tr>\n",
       "      <th>sulphates</th>\n",
       "      <td>0.190269</td>\n",
       "      <td>-0.256948</td>\n",
       "      <td>0.326062</td>\n",
       "      <td>-0.011837</td>\n",
       "      <td>0.394557</td>\n",
       "      <td>0.054126</td>\n",
       "      <td>0.035291</td>\n",
       "      <td>0.146036</td>\n",
       "      <td>-0.214134</td>\n",
       "      <td>1.000000</td>\n",
       "      <td>0.091621</td>\n",
       "      <td>0.201551</td>\n",
       "    </tr>\n",
       "    <tr>\n",
       "      <th>alcohol</th>\n",
       "      <td>-0.061596</td>\n",
       "      <td>-0.197812</td>\n",
       "      <td>0.105108</td>\n",
       "      <td>0.063281</td>\n",
       "      <td>-0.223824</td>\n",
       "      <td>-0.080125</td>\n",
       "      <td>-0.217829</td>\n",
       "      <td>-0.504995</td>\n",
       "      <td>0.213418</td>\n",
       "      <td>0.091621</td>\n",
       "      <td>1.000000</td>\n",
       "      <td>0.409926</td>\n",
       "    </tr>\n",
       "    <tr>\n",
       "      <th>quality</th>\n",
       "      <td>0.116120</td>\n",
       "      <td>-0.267344</td>\n",
       "      <td>0.203561</td>\n",
       "      <td>0.052811</td>\n",
       "      <td>-0.096806</td>\n",
       "      <td>-0.072771</td>\n",
       "      <td>-0.135877</td>\n",
       "      <td>-0.158052</td>\n",
       "      <td>-0.054131</td>\n",
       "      <td>0.201551</td>\n",
       "      <td>0.409926</td>\n",
       "      <td>1.000000</td>\n",
       "    </tr>\n",
       "  </tbody>\n",
       "</table>\n",
       "</div>"
      ],
      "text/plain": [
       "                      fixed acidity  volatile acidity  citric acid  \\\n",
       "fixed acidity              1.000000         -0.255124     0.667437   \n",
       "volatile acidity          -0.255124          1.000000    -0.551248   \n",
       "citric acid                0.667437         -0.551248     1.000000   \n",
       "residual sugar             0.111025         -0.002449     0.143892   \n",
       "chlorides                  0.085886          0.055154     0.210195   \n",
       "free sulfur dioxide       -0.140580         -0.020945    -0.048004   \n",
       "total sulfur dioxide      -0.103777          0.071701     0.047358   \n",
       "density                    0.670195          0.023943     0.357962   \n",
       "pH                        -0.686685          0.247111    -0.550310   \n",
       "sulphates                  0.190269         -0.256948     0.326062   \n",
       "alcohol                   -0.061596         -0.197812     0.105108   \n",
       "quality                    0.116120         -0.267344     0.203561   \n",
       "\n",
       "                      residual sugar  chlorides  free sulfur dioxide  \\\n",
       "fixed acidity               0.111025   0.085886            -0.140580   \n",
       "volatile acidity           -0.002449   0.055154            -0.020945   \n",
       "citric acid                 0.143892   0.210195            -0.048004   \n",
       "residual sugar              1.000000   0.026656             0.160527   \n",
       "chlorides                   0.026656   1.000000             0.000749   \n",
       "free sulfur dioxide         0.160527   0.000749             1.000000   \n",
       "total sulfur dioxide        0.201038   0.045773             0.667246   \n",
       "density                     0.324522   0.193592            -0.018071   \n",
       "pH                         -0.083143  -0.270893             0.056631   \n",
       "sulphates                  -0.011837   0.394557             0.054126   \n",
       "alcohol                     0.063281  -0.223824            -0.080125   \n",
       "quality                     0.052811  -0.096806            -0.072771   \n",
       "\n",
       "                      total sulfur dioxide   density        pH  sulphates  \\\n",
       "fixed acidity                    -0.103777  0.670195 -0.686685   0.190269   \n",
       "volatile acidity                  0.071701  0.023943  0.247111  -0.256948   \n",
       "citric acid                       0.047358  0.357962 -0.550310   0.326062   \n",
       "residual sugar                    0.201038  0.324522 -0.083143  -0.011837   \n",
       "chlorides                         0.045773  0.193592 -0.270893   0.394557   \n",
       "free sulfur dioxide               0.667246 -0.018071  0.056631   0.054126   \n",
       "total sulfur dioxide              1.000000  0.078141 -0.079257   0.035291   \n",
       "density                           0.078141  1.000000 -0.355617   0.146036   \n",
       "pH                               -0.079257 -0.355617  1.000000  -0.214134   \n",
       "sulphates                         0.035291  0.146036 -0.214134   1.000000   \n",
       "alcohol                          -0.217829 -0.504995  0.213418   0.091621   \n",
       "quality                          -0.135877 -0.158052 -0.054131   0.201551   \n",
       "\n",
       "                       alcohol   quality  \n",
       "fixed acidity        -0.061596  0.116120  \n",
       "volatile acidity     -0.197812 -0.267344  \n",
       "citric acid           0.105108  0.203561  \n",
       "residual sugar        0.063281  0.052811  \n",
       "chlorides            -0.223824 -0.096806  \n",
       "free sulfur dioxide  -0.080125 -0.072771  \n",
       "total sulfur dioxide -0.217829 -0.135877  \n",
       "density              -0.504995 -0.158052  \n",
       "pH                    0.213418 -0.054131  \n",
       "sulphates             0.091621  0.201551  \n",
       "alcohol               1.000000  0.409926  \n",
       "quality               0.409926  1.000000  "
      ]
     },
     "execution_count": 17,
     "metadata": {},
     "output_type": "execute_result"
    }
   ],
   "source": [
    "data.corr()"
   ]
  },
  {
   "cell_type": "code",
   "execution_count": 18,
   "id": "27afbc01",
   "metadata": {},
   "outputs": [
    {
     "data": {
      "image/png": "[encoded data removed]",
      "text/plain": [
       "<Figure size 1008x720 with 2 Axes>"
      ]
     },
     "metadata": {
      "needs_background": "light"
     },
     "output_type": "display_data"
    }
   ],
   "source": [
    "plt.figure(figsize=(14,10))\n",
    "sns.heatmap(data.corr(),annot=True)\n",
    "plt.show()"
   ]
  },
  {
   "cell_type": "markdown",
   "id": "0ac7f3dc",
   "metadata": {},
   "source": [
    "no multicollinearity found amongs all features.\n",
    "target quality have postive & negative correlation with all features.\n",
    "will apply feature selection to pick best features. "
   ]
  },
  {
   "cell_type": "markdown",
   "id": "4416b23d",
   "metadata": {},
   "source": [
    "### Select best Features using K-best"
   ]
  },
  {
   "cell_type": "code",
   "execution_count": 19,
   "id": "eb9b45d7",
   "metadata": {},
   "outputs": [],
   "source": [
    "from sklearn.feature_selection import SelectKBest,f_classif"
   ]
  },
  {
   "cell_type": "code",
   "execution_count": 20,
   "id": "7323fee0",
   "metadata": {},
   "outputs": [],
   "source": [
    "X=data.drop('quality',axis=1)\n",
    "y=data.quality"
   ]
  },
  {
   "cell_type": "code",
   "execution_count": 21,
   "id": "2948123a",
   "metadata": {},
   "outputs": [
    {
     "data": {
      "text/html": [
       "<div>\n",
       "<style scoped>\n",
       "    .dataframe tbody tr th:only-of-type {\n",
       "        vertical-align: middle;\n",
       "    }\n",
       "\n",
       "    .dataframe tbody tr th {\n",
       "        vertical-align: top;\n",
       "    }\n",
       "\n",
       "    .dataframe thead th {\n",
       "        text-align: right;\n",
       "    }\n",
       "</style>\n",
       "<table border=\"1\" class=\"dataframe\">\n",
       "  <thead>\n",
       "    <tr style=\"text-align: right;\">\n",
       "      <th></th>\n",
       "      <th>score</th>\n",
       "      <th>column_name</th>\n",
       "    </tr>\n",
       "  </thead>\n",
       "  <tbody>\n",
       "    <tr>\n",
       "      <th>10</th>\n",
       "      <td>274.086403</td>\n",
       "      <td>alcohol</td>\n",
       "    </tr>\n",
       "    <tr>\n",
       "      <th>1</th>\n",
       "      <td>104.454520</td>\n",
       "      <td>volatile acidity</td>\n",
       "    </tr>\n",
       "    <tr>\n",
       "      <th>2</th>\n",
       "      <td>58.660865</td>\n",
       "      <td>citric acid</td>\n",
       "    </tr>\n",
       "    <tr>\n",
       "      <th>9</th>\n",
       "      <td>57.459267</td>\n",
       "      <td>sulphates</td>\n",
       "    </tr>\n",
       "    <tr>\n",
       "      <th>7</th>\n",
       "      <td>34.767118</td>\n",
       "      <td>density</td>\n",
       "    </tr>\n",
       "    <tr>\n",
       "      <th>6</th>\n",
       "      <td>25.525127</td>\n",
       "      <td>total sulfur dioxide</td>\n",
       "    </tr>\n",
       "    <tr>\n",
       "      <th>0</th>\n",
       "      <td>18.547729</td>\n",
       "      <td>fixed acidity</td>\n",
       "    </tr>\n",
       "    <tr>\n",
       "      <th>4</th>\n",
       "      <td>12.837335</td>\n",
       "      <td>chlorides</td>\n",
       "    </tr>\n",
       "    <tr>\n",
       "      <th>5</th>\n",
       "      <td>7.224343</td>\n",
       "      <td>free sulfur dioxide</td>\n",
       "    </tr>\n",
       "    <tr>\n",
       "      <th>8</th>\n",
       "      <td>3.987902</td>\n",
       "      <td>pH</td>\n",
       "    </tr>\n",
       "    <tr>\n",
       "      <th>3</th>\n",
       "      <td>3.795191</td>\n",
       "      <td>residual sugar</td>\n",
       "    </tr>\n",
       "  </tbody>\n",
       "</table>\n",
       "</div>"
      ],
      "text/plain": [
       "         score           column_name\n",
       "10  274.086403               alcohol\n",
       "1   104.454520      volatile acidity\n",
       "2    58.660865           citric acid\n",
       "9    57.459267             sulphates\n",
       "7    34.767118               density\n",
       "6    25.525127  total sulfur dioxide\n",
       "0    18.547729         fixed acidity\n",
       "4    12.837335             chlorides\n",
       "5     7.224343   free sulfur dioxide\n",
       "8     3.987902                    pH\n",
       "3     3.795191        residual sugar"
      ]
     },
     "execution_count": 21,
     "metadata": {},
     "output_type": "execute_result"
    }
   ],
   "source": [
    "best_features=SelectKBest(score_func=f_classif,k=8)\n",
    "\n",
    "fit=best_features.fit(X,y)\n",
    "\n",
    "scores=pd.DataFrame(fit.scores_)\n",
    "scores['feature_name']=X.columns\n",
    "scores.columns=['score','column_name']\n",
    "scores.sort_values(by=['score'],ascending=False)"
   ]
  },
  {
   "cell_type": "code",
   "execution_count": 22,
   "id": "533b42d5",
   "metadata": {},
   "outputs": [
    {
     "data": {
      "text/plain": [
       "10                 alcohol\n",
       "1         volatile acidity\n",
       "2              citric acid\n",
       "9                sulphates\n",
       "7                  density\n",
       "6     total sulfur dioxide\n",
       "0            fixed acidity\n",
       "Name: column_name, dtype: object"
      ]
     },
     "execution_count": 22,
     "metadata": {},
     "output_type": "execute_result"
    }
   ],
   "source": [
    "scores.nlargest(7,'score').column_name"
   ]
  },
  {
   "cell_type": "code",
   "execution_count": 23,
   "id": "eea99781",
   "metadata": {},
   "outputs": [],
   "source": [
    "New_X=data[scores.nlargest(7,'score').column_name]"
   ]
  },
  {
   "cell_type": "code",
   "execution_count": 24,
   "id": "8da3bbfa",
   "metadata": {},
   "outputs": [
    {
     "data": {
      "text/html": [
       "<div>\n",
       "<style scoped>\n",
       "    .dataframe tbody tr th:only-of-type {\n",
       "        vertical-align: middle;\n",
       "    }\n",
       "\n",
       "    .dataframe tbody tr th {\n",
       "        vertical-align: top;\n",
       "    }\n",
       "\n",
       "    .dataframe thead th {\n",
       "        text-align: right;\n",
       "    }\n",
       "</style>\n",
       "<table border=\"1\" class=\"dataframe\">\n",
       "  <thead>\n",
       "    <tr style=\"text-align: right;\">\n",
       "      <th></th>\n",
       "      <th>index</th>\n",
       "      <th>alcohol</th>\n",
       "      <th>volatile acidity</th>\n",
       "      <th>citric acid</th>\n",
       "      <th>sulphates</th>\n",
       "      <th>density</th>\n",
       "      <th>total sulfur dioxide</th>\n",
       "      <th>fixed acidity</th>\n",
       "    </tr>\n",
       "  </thead>\n",
       "  <tbody>\n",
       "    <tr>\n",
       "      <th>0</th>\n",
       "      <td>0</td>\n",
       "      <td>9.4</td>\n",
       "      <td>0.700</td>\n",
       "      <td>0.00</td>\n",
       "      <td>0.56</td>\n",
       "      <td>0.99780</td>\n",
       "      <td>34.0</td>\n",
       "      <td>7.4</td>\n",
       "    </tr>\n",
       "    <tr>\n",
       "      <th>1</th>\n",
       "      <td>1</td>\n",
       "      <td>9.8</td>\n",
       "      <td>0.880</td>\n",
       "      <td>0.00</td>\n",
       "      <td>0.68</td>\n",
       "      <td>0.99680</td>\n",
       "      <td>67.0</td>\n",
       "      <td>7.8</td>\n",
       "    </tr>\n",
       "    <tr>\n",
       "      <th>2</th>\n",
       "      <td>2</td>\n",
       "      <td>9.8</td>\n",
       "      <td>0.760</td>\n",
       "      <td>0.04</td>\n",
       "      <td>0.65</td>\n",
       "      <td>0.99700</td>\n",
       "      <td>54.0</td>\n",
       "      <td>7.8</td>\n",
       "    </tr>\n",
       "    <tr>\n",
       "      <th>3</th>\n",
       "      <td>3</td>\n",
       "      <td>9.8</td>\n",
       "      <td>0.280</td>\n",
       "      <td>0.56</td>\n",
       "      <td>0.58</td>\n",
       "      <td>0.99800</td>\n",
       "      <td>60.0</td>\n",
       "      <td>11.2</td>\n",
       "    </tr>\n",
       "    <tr>\n",
       "      <th>4</th>\n",
       "      <td>5</td>\n",
       "      <td>9.4</td>\n",
       "      <td>0.660</td>\n",
       "      <td>0.00</td>\n",
       "      <td>0.56</td>\n",
       "      <td>0.99780</td>\n",
       "      <td>40.0</td>\n",
       "      <td>7.4</td>\n",
       "    </tr>\n",
       "    <tr>\n",
       "      <th>...</th>\n",
       "      <td>...</td>\n",
       "      <td>...</td>\n",
       "      <td>...</td>\n",
       "      <td>...</td>\n",
       "      <td>...</td>\n",
       "      <td>...</td>\n",
       "      <td>...</td>\n",
       "      <td>...</td>\n",
       "    </tr>\n",
       "    <tr>\n",
       "      <th>1354</th>\n",
       "      <td>1593</td>\n",
       "      <td>9.5</td>\n",
       "      <td>0.620</td>\n",
       "      <td>0.08</td>\n",
       "      <td>0.82</td>\n",
       "      <td>0.99651</td>\n",
       "      <td>38.0</td>\n",
       "      <td>6.8</td>\n",
       "    </tr>\n",
       "    <tr>\n",
       "      <th>1355</th>\n",
       "      <td>1594</td>\n",
       "      <td>10.5</td>\n",
       "      <td>0.600</td>\n",
       "      <td>0.08</td>\n",
       "      <td>0.58</td>\n",
       "      <td>0.99490</td>\n",
       "      <td>44.0</td>\n",
       "      <td>6.2</td>\n",
       "    </tr>\n",
       "    <tr>\n",
       "      <th>1356</th>\n",
       "      <td>1595</td>\n",
       "      <td>11.2</td>\n",
       "      <td>0.550</td>\n",
       "      <td>0.10</td>\n",
       "      <td>0.76</td>\n",
       "      <td>0.99512</td>\n",
       "      <td>51.0</td>\n",
       "      <td>5.9</td>\n",
       "    </tr>\n",
       "    <tr>\n",
       "      <th>1357</th>\n",
       "      <td>1597</td>\n",
       "      <td>10.2</td>\n",
       "      <td>0.645</td>\n",
       "      <td>0.12</td>\n",
       "      <td>0.71</td>\n",
       "      <td>0.99547</td>\n",
       "      <td>44.0</td>\n",
       "      <td>5.9</td>\n",
       "    </tr>\n",
       "    <tr>\n",
       "      <th>1358</th>\n",
       "      <td>1598</td>\n",
       "      <td>11.0</td>\n",
       "      <td>0.310</td>\n",
       "      <td>0.47</td>\n",
       "      <td>0.66</td>\n",
       "      <td>0.99549</td>\n",
       "      <td>42.0</td>\n",
       "      <td>6.0</td>\n",
       "    </tr>\n",
       "  </tbody>\n",
       "</table>\n",
       "<p>1359 rows × 8 columns</p>\n",
       "</div>"
      ],
      "text/plain": [
       "      index  alcohol  volatile acidity  citric acid  sulphates  density  \\\n",
       "0         0      9.4             0.700         0.00       0.56  0.99780   \n",
       "1         1      9.8             0.880         0.00       0.68  0.99680   \n",
       "2         2      9.8             0.760         0.04       0.65  0.99700   \n",
       "3         3      9.8             0.280         0.56       0.58  0.99800   \n",
       "4         5      9.4             0.660         0.00       0.56  0.99780   \n",
       "...     ...      ...               ...          ...        ...      ...   \n",
       "1354   1593      9.5             0.620         0.08       0.82  0.99651   \n",
       "1355   1594     10.5             0.600         0.08       0.58  0.99490   \n",
       "1356   1595     11.2             0.550         0.10       0.76  0.99512   \n",
       "1357   1597     10.2             0.645         0.12       0.71  0.99547   \n",
       "1358   1598     11.0             0.310         0.47       0.66  0.99549   \n",
       "\n",
       "      total sulfur dioxide  fixed acidity  \n",
       "0                     34.0            7.4  \n",
       "1                     67.0            7.8  \n",
       "2                     54.0            7.8  \n",
       "3                     60.0           11.2  \n",
       "4                     40.0            7.4  \n",
       "...                    ...            ...  \n",
       "1354                  38.0            6.8  \n",
       "1355                  44.0            6.2  \n",
       "1356                  51.0            5.9  \n",
       "1357                  44.0            5.9  \n",
       "1358                  42.0            6.0  \n",
       "\n",
       "[1359 rows x 8 columns]"
      ]
     },
     "execution_count": 24,
     "metadata": {},
     "output_type": "execute_result"
    }
   ],
   "source": [
    "New_X.reset_index()"
   ]
  },
  {
   "cell_type": "markdown",
   "id": "c131af5d",
   "metadata": {},
   "source": [
    "We have applied K best features selection technique & removed 4 features which contributing least."
   ]
  },
  {
   "cell_type": "markdown",
   "id": "00bfdd2d",
   "metadata": {},
   "source": [
    "### Distribution Plot"
   ]
  },
  {
   "cell_type": "code",
   "execution_count": 25,
   "id": "aae3aa6f",
   "metadata": {},
   "outputs": [
    {
     "data": {
      "image/png": "[encoded data removed]",
      "text/plain": [
       "<Figure size 1440x720 with 7 Axes>"
      ]
     },
     "metadata": {
      "needs_background": "light"
     },
     "output_type": "display_data"
    }
   ],
   "source": [
    "plt.figure(figsize=(20,10))\n",
    "\n",
    "plotnumber=1\n",
    "\n",
    "for col in New_X :\n",
    "    if plotnumber<=8:\n",
    "        ax=plt.subplot(3,3,plotnumber)\n",
    "        sns.distplot(New_X[col])\n",
    "        \n",
    "    plotnumber+=1\n",
    "    \n",
    "plt.tight_layout()"
   ]
  },
  {
   "cell_type": "markdown",
   "id": "d5639aa3",
   "metadata": {},
   "source": [
    "As we observerd during data describe outliers with features same observation reflecting in distplot."
   ]
  },
  {
   "cell_type": "code",
   "execution_count": 26,
   "id": "e0091f94",
   "metadata": {},
   "outputs": [
    {
     "data": {
      "text/plain": [
       "alcohol                 0.859841\n",
       "volatile acidity        0.729279\n",
       "citric acid             0.312726\n",
       "sulphates               2.406505\n",
       "density                 0.044778\n",
       "total sulfur dioxide    1.540368\n",
       "fixed acidity           0.941041\n",
       "dtype: float64"
      ]
     },
     "execution_count": 26,
     "metadata": {},
     "output_type": "execute_result"
    }
   ],
   "source": [
    "New_X.skew()"
   ]
  },
  {
   "cell_type": "markdown",
   "id": "db4e4ceb",
   "metadata": {},
   "source": [
    "its clearly reflecting skewness with several features, so we need to remove outliers"
   ]
  },
  {
   "cell_type": "markdown",
   "id": "a568f40a",
   "metadata": {},
   "source": [
    "### Removing skewness/outliers"
   ]
  },
  {
   "cell_type": "code",
   "execution_count": 27,
   "id": "1d5b49dc",
   "metadata": {},
   "outputs": [
    {
     "data": {
      "image/png": "[encoded data removed]",
      "text/plain": [
       "<Figure size 1440x720 with 7 Axes>"
      ]
     },
     "metadata": {
      "needs_background": "light"
     },
     "output_type": "display_data"
    }
   ],
   "source": [
    "plt.figure(figsize=(20,10))\n",
    "\n",
    "plotnumber=1\n",
    "\n",
    "for col in New_X:\n",
    "    if plotnumber<=13:\n",
    "        ax=plt.subplot(4,3,plotnumber)\n",
    "        sns.boxplot(New_X[col])\n",
    "        \n",
    "    plotnumber+=1\n",
    "    \n",
    "plt.tight_layout()"
   ]
  },
  {
   "cell_type": "code",
   "execution_count": 28,
   "id": "960572ab",
   "metadata": {},
   "outputs": [],
   "source": [
    "data=pd.concat([New_X,y],axis=1)\n",
    "from scipy.stats import zscore\n",
    "z=zscore(data)"
   ]
  },
  {
   "cell_type": "code",
   "execution_count": 29,
   "id": "dec67150",
   "metadata": {},
   "outputs": [
    {
     "name": "stdout",
     "output_type": "stream",
     "text": [
      "(1359, 8)\n",
      "(1298, 8)\n"
     ]
    }
   ],
   "source": [
    "data_new=data[(z<=3).all(axis=1)]\n",
    "print(data.shape)\n",
    "print(data_new.shape)"
   ]
  },
  {
   "cell_type": "code",
   "execution_count": 30,
   "id": "f5b1fcd3",
   "metadata": {},
   "outputs": [
    {
     "name": "stdout",
     "output_type": "stream",
     "text": [
      "we remove outliers & loose data in % is:  4.0\n"
     ]
    }
   ],
   "source": [
    "print('we remove outliers & loose data in % is: ',np.round((1359-1298)/1359*100))"
   ]
  },
  {
   "cell_type": "code",
   "execution_count": 31,
   "id": "3a985eb6",
   "metadata": {},
   "outputs": [
    {
     "data": {
      "text/plain": [
       "alcohol                 0.771633\n",
       "volatile acidity        0.408993\n",
       "citric acid             0.282739\n",
       "sulphates               1.061416\n",
       "density                -0.081590\n",
       "total sulfur dioxide    1.110441\n",
       "fixed acidity           0.772732\n",
       "quality                 2.131281\n",
       "dtype: float64"
      ]
     },
     "execution_count": 31,
     "metadata": {},
     "output_type": "execute_result"
    }
   ],
   "source": [
    "data_new.skew()"
   ]
  },
  {
   "cell_type": "markdown",
   "id": "5d6b0d49",
   "metadata": {},
   "source": [
    "### Sampling for data Imbalancing"
   ]
  },
  {
   "cell_type": "code",
   "execution_count": 58,
   "id": "fe695dcc",
   "metadata": {},
   "outputs": [],
   "source": [
    "from sklearn.utils import resample"
   ]
  },
  {
   "cell_type": "code",
   "execution_count": 69,
   "id": "1a442756",
   "metadata": {},
   "outputs": [
    {
     "name": "stdout",
     "output_type": "stream",
     "text": [
      "176\n",
      "1122\n"
     ]
    }
   ],
   "source": [
    "#Split data with least target variable i.e. 1 for upsampling \n",
    "resam_data1=data_new[data_new.quality==1]\n",
    "resam_data0=data_new[data_new.quality==0]\n",
    "print(resam_data1['quality'].count())\n",
    "print(resam_data0['quality'].count())"
   ]
  },
  {
   "cell_type": "code",
   "execution_count": 70,
   "id": "a12340ae",
   "metadata": {},
   "outputs": [],
   "source": [
    "#Since we have 1122 observation with 0, so will upsample 1 to same. \n",
    "upsample=resample(resam_data,replace=True,n_samples=1122,random_state=22)"
   ]
  },
  {
   "cell_type": "code",
   "execution_count": 73,
   "id": "450ccc67",
   "metadata": {},
   "outputs": [
    {
     "data": {
      "text/plain": [
       "(1122, 8)"
      ]
     },
     "execution_count": 73,
     "metadata": {},
     "output_type": "execute_result"
    }
   ],
   "source": [
    "upsample.shape"
   ]
  },
  {
   "cell_type": "code",
   "execution_count": 75,
   "id": "7e7d609a",
   "metadata": {},
   "outputs": [],
   "source": [
    "#combining again both dataset\n",
    "data_new=pd.concat([resam_data0,upsample],axis=0)"
   ]
  },
  {
   "cell_type": "code",
   "execution_count": 76,
   "id": "ab084148",
   "metadata": {},
   "outputs": [
    {
     "data": {
      "text/plain": [
       "(2244, 8)"
      ]
     },
     "execution_count": 76,
     "metadata": {},
     "output_type": "execute_result"
    }
   ],
   "source": [
    "data_new.shape"
   ]
  },
  {
   "cell_type": "markdown",
   "id": "1aff6dcd",
   "metadata": {},
   "source": [
    "Resampling done & now we have 2244 observation & inbalancing"
   ]
  },
  {
   "cell_type": "markdown",
   "id": "58f52279",
   "metadata": {},
   "source": [
    "### Split Dataset"
   ]
  },
  {
   "cell_type": "code",
   "execution_count": 77,
   "id": "da132eb0",
   "metadata": {},
   "outputs": [],
   "source": [
    "#dataset split\n",
    "\n",
    "X=data_new.drop(columns=['quality'])\n",
    "y=data_new.quality"
   ]
  },
  {
   "cell_type": "markdown",
   "id": "9af0b967",
   "metadata": {},
   "source": [
    "### Scaling"
   ]
  },
  {
   "cell_type": "code",
   "execution_count": 78,
   "id": "bd7570ad",
   "metadata": {},
   "outputs": [],
   "source": [
    "scale=StandardScaler()\n",
    "x_scale=scale.fit_transform(X)"
   ]
  },
  {
   "cell_type": "markdown",
   "id": "f1219bd2",
   "metadata": {},
   "source": [
    "### Train Test Split"
   ]
  },
  {
   "cell_type": "code",
   "execution_count": 79,
   "id": "aba1aca3",
   "metadata": {},
   "outputs": [
    {
     "name": "stdout",
     "output_type": "stream",
     "text": [
      "80.3921568627451 10\n",
      "80.3921568627451 13\n",
      "81.10516934046346 16\n",
      "80.92691622103388 19\n",
      "80.21390374331551 22\n",
      "78.43137254901961 25\n",
      "85.02673796791443 28\n",
      "79.85739750445633 31\n",
      "80.57040998217468 34\n",
      "79.50089126559715 37\n",
      "80.03565062388593 40\n",
      "81.81818181818183 43\n",
      "79.32263814616756 46\n",
      "78.78787878787878 49\n",
      "80.74866310160428 52\n",
      "81.10516934046346 55\n",
      "81.99643493761141 58\n",
      "80.74866310160428 61\n",
      "81.10516934046346 64\n",
      "81.46167557932263 67\n",
      "81.28342245989305 70\n",
      "79.14438502673798 73\n",
      "80.74866310160428 76\n",
      "80.74866310160428 79\n",
      "79.67914438502673 82\n",
      "81.10516934046346 85\n",
      "79.50089126559715 88\n",
      "82.53119429590018 91\n",
      "81.28342245989305 94\n",
      "79.32263814616756 97\n"
     ]
    }
   ],
   "source": [
    "# testing best random state\n",
    "for i in range(10,100,3):\n",
    "    x_train,x_test,y_train,y_test=train_test_split(x_scale,y,test_size=0.25,random_state=i)\n",
    "    lr=LogisticRegression()\n",
    "    lr.fit(x_train,y_train)\n",
    "\n",
    "    y_pred=lr.predict(x_test)\n",
    "\n",
    "    print(accuracy_score(y_test,y_pred)*100,i)"
   ]
  },
  {
   "cell_type": "markdown",
   "id": "5972f327",
   "metadata": {},
   "source": [
    "16 is best random state"
   ]
  },
  {
   "cell_type": "code",
   "execution_count": 80,
   "id": "e6025f64",
   "metadata": {},
   "outputs": [],
   "source": [
    "x_train,x_test,y_train,y_test=train_test_split(x_scale,y,test_size=0.20,random_state=91)"
   ]
  },
  {
   "cell_type": "markdown",
   "id": "a6a69c97",
   "metadata": {},
   "source": [
    "### Model building- will try 4 algorithms"
   ]
  },
  {
   "cell_type": "code",
   "execution_count": 81,
   "id": "e8af5cea",
   "metadata": {},
   "outputs": [],
   "source": [
    "lr=LogisticRegression()\n",
    "rfr=RandomForestClassifier()\n",
    "knn=KNeighborsClassifier()\n",
    "svm=SVC()"
   ]
  },
  {
   "cell_type": "code",
   "execution_count": 82,
   "id": "1dde0fb6",
   "metadata": {},
   "outputs": [
    {
     "data": {
      "text/plain": [
       "SVC()"
      ]
     },
     "execution_count": 82,
     "metadata": {},
     "output_type": "execute_result"
    }
   ],
   "source": [
    "lr.fit(x_train,y_train)\n",
    "rfr.fit(x_train,y_train)\n",
    "knn.fit(x_train,y_train)\n",
    "svm.fit(x_train,y_train)"
   ]
  },
  {
   "cell_type": "code",
   "execution_count": 83,
   "id": "ca172479",
   "metadata": {},
   "outputs": [
    {
     "name": "stdout",
     "output_type": "stream",
     "text": [
      "82.85077951002228\n"
     ]
    }
   ],
   "source": [
    "#lr score\n",
    "\n",
    "y_pred=lr.predict(x_test)\n",
    "print(accuracy_score(y_test,y_pred)*100)"
   ]
  },
  {
   "cell_type": "code",
   "execution_count": 84,
   "id": "ade3c2e4",
   "metadata": {},
   "outputs": [
    {
     "name": "stdout",
     "output_type": "stream",
     "text": [
      "97.55011135857461\n"
     ]
    }
   ],
   "source": [
    "#rfr score\n",
    "\n",
    "y_pred=rfr.predict(x_test)\n",
    "print(accuracy_score(y_test,y_pred)*100)"
   ]
  },
  {
   "cell_type": "code",
   "execution_count": 85,
   "id": "c3a627f2",
   "metadata": {},
   "outputs": [
    {
     "name": "stdout",
     "output_type": "stream",
     "text": [
      "85.96881959910914\n"
     ]
    }
   ],
   "source": [
    "#knn score\n",
    "\n",
    "y_pred=knn.predict(x_test)\n",
    "print(accuracy_score(y_test,y_pred)*100)"
   ]
  },
  {
   "cell_type": "code",
   "execution_count": 86,
   "id": "6ef2ed3b",
   "metadata": {},
   "outputs": [
    {
     "name": "stdout",
     "output_type": "stream",
     "text": [
      "86.41425389755011\n"
     ]
    }
   ],
   "source": [
    "#svm score\n",
    "\n",
    "y_pred=svm.predict(x_test)\n",
    "print(accuracy_score(y_test,y_pred)*100)"
   ]
  },
  {
   "cell_type": "markdown",
   "id": "d9ec7e06",
   "metadata": {},
   "source": [
    "### Cross_validatation"
   ]
  },
  {
   "cell_type": "code",
   "execution_count": 44,
   "id": "dfe34adb",
   "metadata": {},
   "outputs": [],
   "source": [
    "from sklearn.model_selection import cross_val_score"
   ]
  },
  {
   "cell_type": "code",
   "execution_count": 87,
   "id": "51d0d1a2",
   "metadata": {},
   "outputs": [
    {
     "name": "stdout",
     "output_type": "stream",
     "text": [
      "Logistic Regression score: 79.23242125357939\n",
      "Random Forest score: 94.78583359847279\n",
      "KNN score: 84.179327076042\n",
      "SVM score: 82.21921730830417\n"
     ]
    }
   ],
   "source": [
    "print('Logistic Regression score:',np.mean(cross_val_score(lr,x_scale,y))*100)\n",
    "\n",
    "print('Random Forest score:',np.mean(cross_val_score(rfr,x_scale,y))*100)\n",
    "\n",
    "print('KNN score:',np.mean(cross_val_score(knn,x_scale,y))*100)\n",
    "\n",
    "print('SVM score:',np.mean(cross_val_score(svm,x_scale,y))*100)"
   ]
  },
  {
   "cell_type": "code",
   "execution_count": 88,
   "id": "87d0e772",
   "metadata": {},
   "outputs": [
    {
     "name": "stdout",
     "output_type": "stream",
     "text": [
      "              precision    recall  f1-score   support\n",
      "\n",
      "           0       1.00      0.94      0.97       196\n",
      "           1       0.96      1.00      0.98       253\n",
      "\n",
      "    accuracy                           0.98       449\n",
      "   macro avg       0.98      0.97      0.97       449\n",
      "weighted avg       0.98      0.98      0.98       449\n",
      "\n"
     ]
    }
   ],
   "source": [
    "y_pred=rfr.predict(x_test)\n",
    "print(classification_report(y_test,y_pred))"
   ]
  },
  {
   "cell_type": "markdown",
   "id": "55805d13",
   "metadata": {},
   "source": [
    "### Random forest CV score is highest 94.78% & model score 97.55% so will continue with it."
   ]
  },
  {
   "cell_type": "markdown",
   "id": "0f4b5140",
   "metadata": {},
   "source": [
    "### HyperparameterTunning"
   ]
  },
  {
   "cell_type": "code",
   "execution_count": 90,
   "id": "6e2e1e5c",
   "metadata": {},
   "outputs": [
    {
     "data": {
      "text/plain": [
       "{'criterion': 'gini',\n",
       " 'max_depth': 20,\n",
       " 'min_samples_leaf': 2,\n",
       " 'min_samples_split': 2,\n",
       " 'n_estimators': 70}"
      ]
     },
     "execution_count": 90,
     "metadata": {},
     "output_type": "execute_result"
    }
   ],
   "source": [
    "params={'n_estimators':[5,10,15,25,40,70,100],\n",
    "        'criterion':['gini','entropy'],\n",
    "        'min_samples_split':[1,2,4,6,8,12],\n",
    "        'min_samples_leaf':[2,5,7,10],\n",
    "        'max_depth':[5,10,20]        \n",
    "        \n",
    "    \n",
    "}\n",
    "\n",
    "grd=GridSearchCV(rfr,param_grid=params)\n",
    "grd.fit(x_train,y_train)\n",
    "grd.best_params_"
   ]
  },
  {
   "cell_type": "code",
   "execution_count": 120,
   "id": "88ffdb0b",
   "metadata": {},
   "outputs": [
    {
     "name": "stdout",
     "output_type": "stream",
     "text": [
      "97.55011135857461\n"
     ]
    }
   ],
   "source": [
    "rfr=RandomForestClassifier(criterion= 'gini',\n",
    " max_depth= 22,\n",
    " min_samples_leaf= 1,\n",
    " min_samples_split= 3,\n",
    " n_estimators= 99)\n",
    "\n",
    "rfr.fit(wer)\n",
    "y_pred=rfr.predict(x_test)\n",
    "print(accuracy_score(y_test,y_pred)*100)"
   ]
  },
  {
   "cell_type": "markdown",
   "id": "98538dbf",
   "metadata": {},
   "source": [
    "Have tried tunning but best score is getting same as with default params i.e. 97.55%"
   ]
  },
  {
   "cell_type": "markdown",
   "id": "cd2af333",
   "metadata": {},
   "source": [
    "### Final Scoring"
   ]
  },
  {
   "cell_type": "code",
   "execution_count": 121,
   "id": "913d57d0",
   "metadata": {},
   "outputs": [
    {
     "data": {
      "text/plain": [
       "array([[185,  11],\n",
       "       [  0, 253]], dtype=int64)"
      ]
     },
     "execution_count": 121,
     "metadata": {},
     "output_type": "execute_result"
    }
   ],
   "source": [
    "confusion_matrix(y_test,y_pred)"
   ]
  },
  {
   "cell_type": "code",
   "execution_count": 122,
   "id": "0a9e04e8",
   "metadata": {},
   "outputs": [
    {
     "name": "stdout",
     "output_type": "stream",
     "text": [
      "              precision    recall  f1-score   support\n",
      "\n",
      "           0       1.00      0.94      0.97       196\n",
      "           1       0.96      1.00      0.98       253\n",
      "\n",
      "    accuracy                           0.98       449\n",
      "   macro avg       0.98      0.97      0.97       449\n",
      "weighted avg       0.98      0.98      0.98       449\n",
      "\n"
     ]
    }
   ],
   "source": [
    "print(classification_report(y_test,y_pred))"
   ]
  },
  {
   "cell_type": "markdown",
   "id": "11109363",
   "metadata": {},
   "source": [
    "### Model performing very well with around 98% accuracy"
   ]
  },
  {
   "cell_type": "markdown",
   "id": "a8e63919",
   "metadata": {},
   "source": [
    "### AUC_ROC"
   ]
  },
  {
   "cell_type": "code",
   "execution_count": 123,
   "id": "14743ea2",
   "metadata": {},
   "outputs": [],
   "source": [
    "from sklearn.metrics import roc_curve,roc_auc_score,plot_roc_curve"
   ]
  },
  {
   "cell_type": "code",
   "execution_count": 126,
   "id": "2b29efb2",
   "metadata": {},
   "outputs": [
    {
     "data": {
      "text/plain": [
       "<sklearn.metrics._plot.roc_curve.RocCurveDisplay at 0x1c81e8b9670>"
      ]
     },
     "execution_count": 126,
     "metadata": {},
     "output_type": "execute_result"
    },
    {
     "data": {
      "image/png": "[encoded data removed]",
      "text/plain": [
       "<Figure size 432x288 with 1 Axes>"
      ]
     },
     "metadata": {
      "needs_background": "light"
     },
     "output_type": "display_data"
    }
   ],
   "source": [
    "disp=plot_roc_curve(lr,x_test,y_test)\n",
    "plot_roc_curve(rfr,x_test,y_test,ax=disp.ax_)\n",
    "plot_roc_curve(knn,x_test,y_test,ax=disp.ax_)\n",
    "plot_roc_curve(svm,x_test,y_test,ax=disp.ax_)"
   ]
  },
  {
   "cell_type": "markdown",
   "id": "b02cad90",
   "metadata": {},
   "source": [
    "### AUC_ROC score for random forest classifier is 100%"
   ]
  },
  {
   "cell_type": "markdown",
   "id": "1fcdadaf",
   "metadata": {},
   "source": [
    "### Model Save"
   ]
  },
  {
   "cell_type": "code",
   "execution_count": 129,
   "id": "0f4126ca",
   "metadata": {},
   "outputs": [],
   "source": [
    "filename='red_wine.pickle'\n",
    "pickle.dump(rfr,open(filename,'wb'))"
   ]
  }
 ],
 "metadata": {
  "kernelspec": {
   "display_name": "Python 3",
   "language": "python",
   "name": "python3"
  },
  "language_info": {
   "codemirror_mode": {
    "name": "ipython",
    "version": 3
   },
   "file_extension": ".py",
   "mimetype": "text/x-python",
   "name": "python",
   "nbconvert_exporter": "python",
   "pygments_lexer": "ipython3",
   "version": "3.8.8"
  }
 },
 "nbformat": 4,
 "nbformat_minor": 5
}
