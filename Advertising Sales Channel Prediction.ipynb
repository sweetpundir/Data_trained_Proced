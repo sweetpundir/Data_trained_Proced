{
 "cells": [
  {
   "cell_type": "markdown",
   "id": "fac1eb3c",
   "metadata": {},
   "source": [
    "# Advertising Sales Channel Prediction"
   ]
  },
  {
   "cell_type": "markdown",
   "id": "be8310d0",
   "metadata": {},
   "source": [
    "Problem Statement:\n",
    "Sales Channel Prediction Case Study  \n",
    "\n",
    "When a company enters a market, the distribution strategy and channel it uses are keys to its success in the market, as well as market know-how and customer knowledge and understanding. Because an effective distribution strategy under efficient supply-chain management opens doors for attaining competitive advantage and strong brand equity in the market, it is a component of the marketing mix that cannot be ignored . \n",
    "\n",
    "The distribution strategy and the channel design have to be right the first time. The case study of Sales channel includes the detailed study of TV, radio and newspaper channel. The predict the total sales generated from all the sales channel.  \n",
    "\n",
    "The below link provided is for downloading the dataset. \n",
    "\n",
    "Downlaod Files:\n",
    "https://github.com/dsrscientist/DSData/blob/master/Advertising.csv"
   ]
  },
  {
   "cell_type": "markdown",
   "id": "3d4ecf29",
   "metadata": {},
   "source": [
    "### Importing Library"
   ]
  },
  {
   "cell_type": "code",
   "execution_count": 18,
   "id": "5c957c13",
   "metadata": {},
   "outputs": [],
   "source": [
    "#database\n",
    "import pandas as pd\n",
    "import numpy as np\n",
    "\n",
    "#visualization\n",
    "import seaborn as sns\n",
    "import matplotlib.pyplot as plt\n",
    "\n",
    "#preprocessing\n",
    "\n",
    "from sklearn.model_selection import train_test_split,GridSearchCV\n",
    "from sklearn.preprocessing import StandardScaler\n",
    "\n",
    "#models\n",
    "\n",
    "from sklearn.linear_model import LinearRegression\n",
    "from sklearn.ensemble import RandomForestRegressor\n",
    "from sklearn.svm import SVR\n",
    "from sklearn.ensemble import AdaBoostRegressor\n",
    "\n",
    "#metrics\n",
    "from sklearn.metrics import mean_absolute_error,mean_squared_error,r2_score\n",
    "\n",
    "#save\n",
    "\n",
    "import pickle\n",
    "import warnings\n",
    "warnings.filterwarnings('ignore')"
   ]
  },
  {
   "cell_type": "markdown",
   "id": "6b889234",
   "metadata": {},
   "source": [
    "### Importing Dataset"
   ]
  },
  {
   "cell_type": "code",
   "execution_count": 2,
   "id": "fc7eda6c",
   "metadata": {},
   "outputs": [
    {
     "data": {
      "text/html": [
       "<div>\n",
       "<style scoped>\n",
       "    .dataframe tbody tr th:only-of-type {\n",
       "        vertical-align: middle;\n",
       "    }\n",
       "\n",
       "    .dataframe tbody tr th {\n",
       "        vertical-align: top;\n",
       "    }\n",
       "\n",
       "    .dataframe thead th {\n",
       "        text-align: right;\n",
       "    }\n",
       "</style>\n",
       "<table border=\"1\" class=\"dataframe\">\n",
       "  <thead>\n",
       "    <tr style=\"text-align: right;\">\n",
       "      <th></th>\n",
       "      <th>Unnamed: 0</th>\n",
       "      <th>TV</th>\n",
       "      <th>radio</th>\n",
       "      <th>newspaper</th>\n",
       "      <th>sales</th>\n",
       "    </tr>\n",
       "  </thead>\n",
       "  <tbody>\n",
       "    <tr>\n",
       "      <th>0</th>\n",
       "      <td>1</td>\n",
       "      <td>230.1</td>\n",
       "      <td>37.8</td>\n",
       "      <td>69.2</td>\n",
       "      <td>22.1</td>\n",
       "    </tr>\n",
       "    <tr>\n",
       "      <th>1</th>\n",
       "      <td>2</td>\n",
       "      <td>44.5</td>\n",
       "      <td>39.3</td>\n",
       "      <td>45.1</td>\n",
       "      <td>10.4</td>\n",
       "    </tr>\n",
       "    <tr>\n",
       "      <th>2</th>\n",
       "      <td>3</td>\n",
       "      <td>17.2</td>\n",
       "      <td>45.9</td>\n",
       "      <td>69.3</td>\n",
       "      <td>9.3</td>\n",
       "    </tr>\n",
       "    <tr>\n",
       "      <th>3</th>\n",
       "      <td>4</td>\n",
       "      <td>151.5</td>\n",
       "      <td>41.3</td>\n",
       "      <td>58.5</td>\n",
       "      <td>18.5</td>\n",
       "    </tr>\n",
       "    <tr>\n",
       "      <th>4</th>\n",
       "      <td>5</td>\n",
       "      <td>180.8</td>\n",
       "      <td>10.8</td>\n",
       "      <td>58.4</td>\n",
       "      <td>12.9</td>\n",
       "    </tr>\n",
       "    <tr>\n",
       "      <th>5</th>\n",
       "      <td>6</td>\n",
       "      <td>8.7</td>\n",
       "      <td>48.9</td>\n",
       "      <td>75.0</td>\n",
       "      <td>7.2</td>\n",
       "    </tr>\n",
       "    <tr>\n",
       "      <th>6</th>\n",
       "      <td>7</td>\n",
       "      <td>57.5</td>\n",
       "      <td>32.8</td>\n",
       "      <td>23.5</td>\n",
       "      <td>11.8</td>\n",
       "    </tr>\n",
       "    <tr>\n",
       "      <th>7</th>\n",
       "      <td>8</td>\n",
       "      <td>120.2</td>\n",
       "      <td>19.6</td>\n",
       "      <td>11.6</td>\n",
       "      <td>13.2</td>\n",
       "    </tr>\n",
       "    <tr>\n",
       "      <th>8</th>\n",
       "      <td>9</td>\n",
       "      <td>8.6</td>\n",
       "      <td>2.1</td>\n",
       "      <td>1.0</td>\n",
       "      <td>4.8</td>\n",
       "    </tr>\n",
       "    <tr>\n",
       "      <th>9</th>\n",
       "      <td>10</td>\n",
       "      <td>199.8</td>\n",
       "      <td>2.6</td>\n",
       "      <td>21.2</td>\n",
       "      <td>10.6</td>\n",
       "    </tr>\n",
       "  </tbody>\n",
       "</table>\n",
       "</div>"
      ],
      "text/plain": [
       "   Unnamed: 0     TV  radio  newspaper  sales\n",
       "0           1  230.1   37.8       69.2   22.1\n",
       "1           2   44.5   39.3       45.1   10.4\n",
       "2           3   17.2   45.9       69.3    9.3\n",
       "3           4  151.5   41.3       58.5   18.5\n",
       "4           5  180.8   10.8       58.4   12.9\n",
       "5           6    8.7   48.9       75.0    7.2\n",
       "6           7   57.5   32.8       23.5   11.8\n",
       "7           8  120.2   19.6       11.6   13.2\n",
       "8           9    8.6    2.1        1.0    4.8\n",
       "9          10  199.8    2.6       21.2   10.6"
      ]
     },
     "execution_count": 2,
     "metadata": {},
     "output_type": "execute_result"
    }
   ],
   "source": [
    "data=pd.read_csv('https://raw.githubusercontent.com/dsrscientist/DSData/master/Advertising.csv')\n",
    "data.head(10)"
   ]
  },
  {
   "cell_type": "markdown",
   "id": "0cad0e98",
   "metadata": {},
   "source": [
    "Unanamed column contain id so we can drop it.\n",
    "\n",
    "Target value is continious data so its a regression problem."
   ]
  },
  {
   "cell_type": "code",
   "execution_count": 3,
   "id": "5df63dc9",
   "metadata": {},
   "outputs": [],
   "source": [
    "data.drop(columns=['Unnamed: 0'], inplace=True)"
   ]
  },
  {
   "cell_type": "markdown",
   "id": "8260a471",
   "metadata": {},
   "source": [
    "### Missing Value & Non numeric Test"
   ]
  },
  {
   "cell_type": "code",
   "execution_count": 4,
   "id": "99d2573e",
   "metadata": {},
   "outputs": [
    {
     "name": "stdout",
     "output_type": "stream",
     "text": [
      "(200, 4)\n",
      "<class 'pandas.core.frame.DataFrame'>\n",
      "RangeIndex: 200 entries, 0 to 199\n",
      "Data columns (total 4 columns):\n",
      " #   Column     Non-Null Count  Dtype  \n",
      "---  ------     --------------  -----  \n",
      " 0   TV         200 non-null    float64\n",
      " 1   radio      200 non-null    float64\n",
      " 2   newspaper  200 non-null    float64\n",
      " 3   sales      200 non-null    float64\n",
      "dtypes: float64(4)\n",
      "memory usage: 6.4 KB\n"
     ]
    }
   ],
   "source": [
    "print(data.shape)\n",
    "data.info()"
   ]
  },
  {
   "cell_type": "markdown",
   "id": "2a5f2407",
   "metadata": {},
   "source": [
    "All features are float dataype and having no null values."
   ]
  },
  {
   "cell_type": "code",
   "execution_count": 5,
   "id": "a2ae0425",
   "metadata": {},
   "outputs": [
    {
     "data": {
      "text/plain": [
       "TV           0\n",
       "radio        0\n",
       "newspaper    0\n",
       "sales        0\n",
       "dtype: int64"
      ]
     },
     "execution_count": 5,
     "metadata": {},
     "output_type": "execute_result"
    }
   ],
   "source": [
    "data.isnull().sum()"
   ]
  },
  {
   "cell_type": "markdown",
   "id": "9e918c92",
   "metadata": {},
   "source": [
    "### Duplicacy Test"
   ]
  },
  {
   "cell_type": "code",
   "execution_count": 6,
   "id": "bdbda8c3",
   "metadata": {},
   "outputs": [
    {
     "data": {
      "text/plain": [
       "0"
      ]
     },
     "execution_count": 6,
     "metadata": {},
     "output_type": "execute_result"
    }
   ],
   "source": [
    "#checking duplicacy & found no duplicate data.\n",
    "\n",
    "dup=data.duplicated()\n",
    "\n",
    "dup.sum()"
   ]
  },
  {
   "cell_type": "code",
   "execution_count": 7,
   "id": "66bf164b",
   "metadata": {},
   "outputs": [
    {
     "data": {
      "text/html": [
       "<div>\n",
       "<style scoped>\n",
       "    .dataframe tbody tr th:only-of-type {\n",
       "        vertical-align: middle;\n",
       "    }\n",
       "\n",
       "    .dataframe tbody tr th {\n",
       "        vertical-align: top;\n",
       "    }\n",
       "\n",
       "    .dataframe thead th {\n",
       "        text-align: right;\n",
       "    }\n",
       "</style>\n",
       "<table border=\"1\" class=\"dataframe\">\n",
       "  <thead>\n",
       "    <tr style=\"text-align: right;\">\n",
       "      <th></th>\n",
       "      <th>TV</th>\n",
       "      <th>radio</th>\n",
       "      <th>newspaper</th>\n",
       "      <th>sales</th>\n",
       "    </tr>\n",
       "  </thead>\n",
       "  <tbody>\n",
       "    <tr>\n",
       "      <th>count</th>\n",
       "      <td>200.000000</td>\n",
       "      <td>200.000000</td>\n",
       "      <td>200.000000</td>\n",
       "      <td>200.000000</td>\n",
       "    </tr>\n",
       "    <tr>\n",
       "      <th>mean</th>\n",
       "      <td>147.042500</td>\n",
       "      <td>23.264000</td>\n",
       "      <td>30.554000</td>\n",
       "      <td>14.022500</td>\n",
       "    </tr>\n",
       "    <tr>\n",
       "      <th>std</th>\n",
       "      <td>85.854236</td>\n",
       "      <td>14.846809</td>\n",
       "      <td>21.778621</td>\n",
       "      <td>5.217457</td>\n",
       "    </tr>\n",
       "    <tr>\n",
       "      <th>min</th>\n",
       "      <td>0.700000</td>\n",
       "      <td>0.000000</td>\n",
       "      <td>0.300000</td>\n",
       "      <td>1.600000</td>\n",
       "    </tr>\n",
       "    <tr>\n",
       "      <th>25%</th>\n",
       "      <td>74.375000</td>\n",
       "      <td>9.975000</td>\n",
       "      <td>12.750000</td>\n",
       "      <td>10.375000</td>\n",
       "    </tr>\n",
       "    <tr>\n",
       "      <th>50%</th>\n",
       "      <td>149.750000</td>\n",
       "      <td>22.900000</td>\n",
       "      <td>25.750000</td>\n",
       "      <td>12.900000</td>\n",
       "    </tr>\n",
       "    <tr>\n",
       "      <th>75%</th>\n",
       "      <td>218.825000</td>\n",
       "      <td>36.525000</td>\n",
       "      <td>45.100000</td>\n",
       "      <td>17.400000</td>\n",
       "    </tr>\n",
       "    <tr>\n",
       "      <th>max</th>\n",
       "      <td>296.400000</td>\n",
       "      <td>49.600000</td>\n",
       "      <td>114.000000</td>\n",
       "      <td>27.000000</td>\n",
       "    </tr>\n",
       "  </tbody>\n",
       "</table>\n",
       "</div>"
      ],
      "text/plain": [
       "               TV       radio   newspaper       sales\n",
       "count  200.000000  200.000000  200.000000  200.000000\n",
       "mean   147.042500   23.264000   30.554000   14.022500\n",
       "std     85.854236   14.846809   21.778621    5.217457\n",
       "min      0.700000    0.000000    0.300000    1.600000\n",
       "25%     74.375000    9.975000   12.750000   10.375000\n",
       "50%    149.750000   22.900000   25.750000   12.900000\n",
       "75%    218.825000   36.525000   45.100000   17.400000\n",
       "max    296.400000   49.600000  114.000000   27.000000"
      ]
     },
     "execution_count": 7,
     "metadata": {},
     "output_type": "execute_result"
    }
   ],
   "source": [
    "data.describe()"
   ]
  },
  {
   "cell_type": "markdown",
   "id": "ddbd9829",
   "metadata": {},
   "source": [
    "Dataset looks good with describe"
   ]
  },
  {
   "cell_type": "markdown",
   "id": "d4e83ab0",
   "metadata": {},
   "source": [
    "### Correlation using heatmap"
   ]
  },
  {
   "cell_type": "code",
   "execution_count": 8,
   "id": "1b7a3016",
   "metadata": {},
   "outputs": [
    {
     "data": {
      "image/png": "[encoded data removed]",
      "text/plain": [
       "<Figure size 432x288 with 2 Axes>"
      ]
     },
     "metadata": {
      "needs_background": "light"
     },
     "output_type": "display_data"
    }
   ],
   "source": [
    "sns.heatmap(data.corr(),annot=True)\n",
    "plt.show()"
   ]
  },
  {
   "cell_type": "code",
   "execution_count": null,
   "id": "bb1d05dd",
   "metadata": {},
   "outputs": [],
   "source": []
  },
  {
   "cell_type": "markdown",
   "id": "5d5809cc",
   "metadata": {},
   "source": [
    "Its clearly showing postive correlation of all features with target(sales).\n",
    "\n",
    "Feature(TV) has maximum relation & newspaper has least.\n",
    " \n",
    "No Multicollinearity showing amongs features."
   ]
  },
  {
   "cell_type": "markdown",
   "id": "fae3f4b3",
   "metadata": {},
   "source": [
    "### Scatterplot"
   ]
  },
  {
   "cell_type": "code",
   "execution_count": 9,
   "id": "ff9fef82",
   "metadata": {},
   "outputs": [
    {
     "data": {
      "image/png": "[encoded data removed]",
      "text/plain": [
       "<Figure size 864x576 with 4 Axes>"
      ]
     },
     "metadata": {
      "needs_background": "light"
     },
     "output_type": "display_data"
    }
   ],
   "source": [
    "plt.figure(figsize=(12,8))\n",
    "\n",
    "plotnumber=1\n",
    "\n",
    "for col in data:\n",
    "    if plotnumber<=5:\n",
    "        ax=plt.subplot(3,2,plotnumber)\n",
    "        sns.scatterplot(x=col,y='sales',data=data)\n",
    "        \n",
    "    plotnumber+=1\n",
    "\n",
    "plt.tight_layout()   "
   ]
  },
  {
   "cell_type": "markdown",
   "id": "19520e12",
   "metadata": {},
   "source": [
    "Its clearly reflecting positive relation but newspaper have least relation same thing observed in heatmap as well"
   ]
  },
  {
   "cell_type": "markdown",
   "id": "7230b537",
   "metadata": {},
   "source": [
    "### Data distribution & skewness"
   ]
  },
  {
   "cell_type": "code",
   "execution_count": 10,
   "id": "2bb74e31",
   "metadata": {},
   "outputs": [
    {
     "data": {
      "image/png": "[encoded data removed]",
      "text/plain": [
       "<Figure size 864x576 with 4 Axes>"
      ]
     },
     "metadata": {
      "needs_background": "light"
     },
     "output_type": "display_data"
    }
   ],
   "source": [
    "plt.figure(figsize=(12,8))\n",
    "\n",
    "plotnumber=1\n",
    "\n",
    "for col in data:\n",
    "    if plotnumber<=5:\n",
    "        ax=plt.subplot(3,2,plotnumber)\n",
    "        sns.distplot(data[col])\n",
    "        \n",
    "    plotnumber+=1\n",
    "\n",
    "plt.tight_layout() "
   ]
  },
  {
   "cell_type": "markdown",
   "id": "127038b6",
   "metadata": {},
   "source": [
    "Data is somewhat normally distributed but not completely but as we have only 200 data points so cant affort to loss any data points. so we will continue with same data."
   ]
  },
  {
   "cell_type": "code",
   "execution_count": 11,
   "id": "a8abb0c9",
   "metadata": {},
   "outputs": [
    {
     "data": {
      "text/plain": [
       "TV          -0.069853\n",
       "radio        0.094175\n",
       "newspaper    0.894720\n",
       "sales        0.407571\n",
       "dtype: float64"
      ]
     },
     "execution_count": 11,
     "metadata": {},
     "output_type": "execute_result"
    }
   ],
   "source": [
    "data.skew()"
   ]
  },
  {
   "cell_type": "markdown",
   "id": "8760cb38",
   "metadata": {},
   "source": [
    "There is not much skewness in data , only newspaper showing some skewness which is acceptable accrdong to data set. so not keeping it as its."
   ]
  },
  {
   "cell_type": "markdown",
   "id": "2d196ee9",
   "metadata": {},
   "source": [
    "### Scaling"
   ]
  },
  {
   "cell_type": "code",
   "execution_count": 12,
   "id": "7bbdf580",
   "metadata": {},
   "outputs": [],
   "source": [
    "X=data.drop(columns=['sales'])\n",
    "y=data.sales\n",
    "scaler=StandardScaler()\n",
    "\n",
    "X_scale=scaler.fit_transform(X)"
   ]
  },
  {
   "cell_type": "markdown",
   "id": "85606125",
   "metadata": {},
   "source": [
    "### Train Test Split"
   ]
  },
  {
   "cell_type": "code",
   "execution_count": 13,
   "id": "77f8a532",
   "metadata": {},
   "outputs": [
    {
     "name": "stdout",
     "output_type": "stream",
     "text": [
      "0.8366843974055227 10\n",
      "0.8692372171143041 11\n",
      "0.9074967628613593 12\n",
      "0.9329679186406995 13\n",
      "0.8697874025357979 14\n",
      "0.9042108940079047 15\n",
      "0.9063440181751056 16\n",
      "0.8429263407537217 17\n",
      "0.8768164503326362 18\n",
      "0.8982572127330383 19\n",
      "0.8601993386354956 20\n",
      "0.9219136041031583 21\n",
      "0.9144692690504648 22\n",
      "0.9197128083738796 23\n",
      "0.8877732345406748 24\n",
      "0.8812441427551716 25\n",
      "0.8778867145626432 26\n",
      "0.8969447297214866 27\n",
      "0.9051411159792939 28\n",
      "0.9001120338383458 29\n",
      "0.9191674086367524 30\n",
      "0.9274788307471854 31\n",
      "0.82440096322391 32\n",
      "0.9217933306319247 33\n",
      "0.9016142017731229 34\n",
      "0.7747938634678531 35\n",
      "0.9127563183970623 36\n",
      "0.8797183787611138 37\n",
      "0.8929040119659396 38\n",
      "0.9067416005164273 39\n",
      "0.8180628772556526 40\n",
      "0.8962913252219633 41\n",
      "0.8935163320163658 42\n",
      "0.9288546462999523 43\n",
      "0.8305483472800644 44\n",
      "0.9035487616562978 45\n",
      "0.8695983142378589 46\n",
      "0.839164865048828 47\n",
      "0.925995758804734 48\n",
      "0.8049578006977758 49\n",
      "0.8789006652994477 50\n",
      "0.9019163360048594 51\n",
      "0.8913454190688576 52\n",
      "0.9193010386229922 53\n",
      "0.9187017470701987 54\n",
      "0.9057620181752584 55\n",
      "0.8906299261177036 56\n",
      "0.9306432988266021 57\n",
      "0.8270894345353439 58\n",
      "0.924524013396975 59\n",
      "0.9155306477114973 60\n",
      "0.8927246251346079 61\n",
      "0.8516790241586175 62\n",
      "0.8798390636738596 63\n",
      "0.8620749667277625 64\n",
      "0.9143098304237811 65\n",
      "0.8797817114430063 66\n",
      "0.8867958519614397 67\n",
      "0.887196382985473 68\n",
      "0.9288427743492063 69\n",
      "0.9086686660884565 70\n",
      "0.8280673461167765 71\n",
      "0.9083391029437632 72\n",
      "0.8383891745736055 73\n",
      "0.8840099753755182 74\n",
      "0.9130868371898685 75\n",
      "0.854014394718206 76\n",
      "0.92193349094449 77\n",
      "0.903973070138586 78\n",
      "0.9078243420563884 79\n",
      "0.8591642655025515 80\n",
      "0.8791024370689235 81\n",
      "0.8281757952511548 82\n",
      "0.9168726382801216 83\n",
      "0.9166537674543113 84\n",
      "0.8575876458943542 85\n",
      "0.8668985217062708 86\n",
      "0.8458749641721199 87\n",
      "0.8596416485962011 88\n",
      "0.8736827496134014 89\n",
      "0.8428243401966478 90\n",
      "0.9139745973467447 91\n",
      "0.9181906443189417 92\n",
      "0.8892413042518231 93\n",
      "0.8789441965526091 94\n",
      "0.9074438760288212 95\n",
      "0.8671498692717092 96\n",
      "0.8925580337393877 97\n",
      "0.9193602759573389 98\n",
      "0.9175057618627588 99\n"
     ]
    }
   ],
   "source": [
    "#checking best random state\n",
    "for i in range(10,100):\n",
    "    x_train,x_test,y_train,y_test=train_test_split(X_scale,y,test_size=0.25,random_state=i)\n",
    "    lr=LinearRegression()\n",
    "    lr.fit(x_train,y_train)\n",
    "    y_pred=lr.predict(x_test)\n",
    "\n",
    "    print(r2_score(y_test,y_pred),i)"
   ]
  },
  {
   "cell_type": "markdown",
   "id": "a53d97d9",
   "metadata": {},
   "source": [
    "### Model Building"
   ]
  },
  {
   "cell_type": "code",
   "execution_count": 14,
   "id": "b2e16807",
   "metadata": {},
   "outputs": [],
   "source": [
    "#getting best score with random state 13\n",
    "\n",
    "x_train,x_test,y_train,y_test=train_test_split(X_scale,y,test_size=0.25,random_state=13)"
   ]
  },
  {
   "cell_type": "code",
   "execution_count": 17,
   "id": "7e35edce",
   "metadata": {},
   "outputs": [
    {
     "name": "stdout",
     "output_type": "stream",
     "text": [
      "93.29679186406995\n",
      "2.096387052750005\n",
      "1.19572688330949\n",
      "1.4478905527525223\n"
     ]
    }
   ],
   "source": [
    "lr=LinearRegression()\n",
    "lr.fit(x_train,y_train)\n",
    "y_pred=lr.predict(x_test)\n",
    "\n",
    "print(r2_score(y_test,y_pred)*100)\n",
    "\n",
    "print(mean_squared_error(y_test,y_pred))\n",
    "print(mean_absolute_error(y_test,y_pred))\n",
    "print(np.sqrt(mean_squared_error(y_test,y_pred)))"
   ]
  },
  {
   "cell_type": "markdown",
   "id": "efd63263",
   "metadata": {},
   "source": [
    "### Logistic regression scoring 93.29% .. will try to some other algorithm to improve scoring. "
   ]
  },
  {
   "cell_type": "code",
   "execution_count": 20,
   "id": "b0aa8aaa",
   "metadata": {},
   "outputs": [],
   "source": [
    "rfr=RandomForestRegressor()\n",
    "sv=SVR()\n",
    "abr=AdaBoostRegressor()"
   ]
  },
  {
   "cell_type": "code",
   "execution_count": 21,
   "id": "0dcc8686",
   "metadata": {},
   "outputs": [
    {
     "name": "stdout",
     "output_type": "stream",
     "text": [
      "97.77269864052317\n"
     ]
    }
   ],
   "source": [
    "#RandomForestRegressor\n",
    "rfr.fit(x_train,y_train)\n",
    "y_pred=rfr.predict(x_test)\n",
    "\n",
    "print(r2_score(y_test,y_pred)*100)"
   ]
  },
  {
   "cell_type": "code",
   "execution_count": 22,
   "id": "91237508",
   "metadata": {},
   "outputs": [
    {
     "name": "stdout",
     "output_type": "stream",
     "text": [
      "86.8007674790105\n"
     ]
    }
   ],
   "source": [
    "#SVR\n",
    "sv.fit(x_train,y_train)\n",
    "y_pred=sv.predict(x_test)\n",
    "\n",
    "print(r2_score(y_test,y_pred)*100)"
   ]
  },
  {
   "cell_type": "code",
   "execution_count": 23,
   "id": "34d494cc",
   "metadata": {},
   "outputs": [
    {
     "name": "stdout",
     "output_type": "stream",
     "text": [
      "94.37998540542482\n"
     ]
    }
   ],
   "source": [
    "#AdaBoostRegressor\n",
    "\n",
    "abr.fit(x_train,y_train)\n",
    "y_pred=abr.predict(x_test)\n",
    "\n",
    "print(r2_score(y_test,y_pred)*100)"
   ]
  },
  {
   "cell_type": "markdown",
   "id": "4f3f4042",
   "metadata": {},
   "source": [
    "Linear Regression-93.29%\n",
    "\n",
    "RandomForestRegressor=97.77%\n",
    "\n",
    "SVR=86.80%\n",
    "\n",
    "AdaBoostRegressor=94.37%"
   ]
  },
  {
   "cell_type": "markdown",
   "id": "1d044d40",
   "metadata": {},
   "source": [
    "### Since RandomForestRegressor=97.77% producing highest score. will check with cross validation."
   ]
  },
  {
   "cell_type": "markdown",
   "id": "08288115",
   "metadata": {},
   "source": [
    "### Cross validation"
   ]
  },
  {
   "cell_type": "code",
   "execution_count": 25,
   "id": "00494fbc",
   "metadata": {},
   "outputs": [],
   "source": [
    "from sklearn.model_selection import cross_val_score"
   ]
  },
  {
   "cell_type": "code",
   "execution_count": 33,
   "id": "c4d05a9f",
   "metadata": {},
   "outputs": [
    {
     "name": "stdout",
     "output_type": "stream",
     "text": [
      "CV score for LogisticRegression  88.71063495438435\n",
      "\n",
      "CV score for RandomForest  97.52075957686081\n",
      "\n",
      "CV score for SVR  90.1671440580458\n",
      "\n",
      "CV score for AdaBoostRegressor  95.50420049612775\n"
     ]
    }
   ],
   "source": [
    "cv_score=cross_val_score(lr,X_scale,y,cv=5)\n",
    "print(\"CV score for LogisticRegression \",cv_score.mean()*100)\n",
    "\n",
    "cv_score=cross_val_score(rfr,X_scale,y,cv=5)\n",
    "print(\"\\nCV score for RandomForest \",cv_score.mean()*100)\n",
    "\n",
    "cv_score=cross_val_score(sv,X_scale,y,cv=5)\n",
    "print(\"\\nCV score for SVR \",cv_score.mean()*100)\n",
    "\n",
    "\n",
    "cv_score=cross_val_score(abr,X_scale,y,cv=5)\n",
    "print(\"\\nCV score for AdaBoostRegressor \",cv_score.mean()*100)\n"
   ]
  },
  {
   "cell_type": "markdown",
   "id": "9d9af570",
   "metadata": {},
   "source": [
    "#### RandomForestRegressor=97.77% & CV Score=97.52% . its best model will try hyperparametertunning"
   ]
  },
  {
   "cell_type": "markdown",
   "id": "1a478dba",
   "metadata": {},
   "source": [
    "### Hyper Parameter Tunning"
   ]
  },
  {
   "cell_type": "code",
   "execution_count": 89,
   "id": "abf57e93",
   "metadata": {},
   "outputs": [
    {
     "data": {
      "text/plain": [
       "GridSearchCV(estimator=RandomForestRegressor(max_depth=16, n_estimators=41),\n",
       "             param_grid={'bootstrap': [True, False],\n",
       "                         'max_depth': [5, 8, 15, 20, 25],\n",
       "                         'min_samples_leaf': [1, 2, 4],\n",
       "                         'min_samples_split': [2, 5, 10],\n",
       "                         'n_estimators': [5, 10, 15, 20, 25, 40, 60]})"
      ]
     },
     "execution_count": 89,
     "metadata": {},
     "output_type": "execute_result"
    }
   ],
   "source": [
    "params={'bootstrap': [True, False],\n",
    " 'max_depth': [5, 8, 15, 20, 25],\n",
    " 'min_samples_leaf': [1, 2, 4],\n",
    " 'min_samples_split': [2, 5, 10],\n",
    " 'n_estimators': [5,10,15,20,25,40,60]}\n",
    "\n",
    "grd=GridSearchCV(rfr,param_grid=params)\n",
    "\n",
    "grd.fit(x_train,y_train)"
   ]
  },
  {
   "cell_type": "code",
   "execution_count": 123,
   "id": "41777fbe",
   "metadata": {},
   "outputs": [
    {
     "name": "stdout",
     "output_type": "stream",
     "text": [
      "{'bootstrap': True, 'max_depth': 25, 'min_samples_leaf': 1, 'min_samples_split': 2, 'n_estimators': 25}\n",
      "98.32836118950694\n"
     ]
    }
   ],
   "source": [
    "print(grd.best_params_)\n",
    "\n",
    "rfr=RandomForestRegressor(bootstrap=True, max_depth= 81,min_samples_leaf= 1, min_samples_split= 2, n_estimators=37)\n",
    "rfr.fit(x_train,y_train)\n",
    "y_pred=rfr.predict(x_test)\n",
    "\n",
    "print(r2_score(y_test,y_pred)*100)"
   ]
  },
  {
   "cell_type": "markdown",
   "id": "3d357cf4",
   "metadata": {},
   "source": [
    "We successfully improved score after tunning its around 98%"
   ]
  },
  {
   "cell_type": "markdown",
   "id": "064dda3e",
   "metadata": {},
   "source": [
    "### Final Score with Random Forest Regressor"
   ]
  },
  {
   "cell_type": "code",
   "execution_count": 124,
   "id": "5ff11456",
   "metadata": {},
   "outputs": [
    {
     "name": "stdout",
     "output_type": "stream",
     "text": [
      "R Squared score:  98.32836118950694\n",
      "\n",
      "Mean squared error:  0.5227947406866317\n",
      "\n",
      "Mean absolute error:  0.5710270270270267\n",
      "\n",
      "Root mean square error:  0.7230454623926712\n"
     ]
    }
   ],
   "source": [
    "print('R Squared score: ',r2_score(y_test,y_pred)*100)\n",
    "print('\\nMean squared error: ',mean_squared_error(y_test,y_pred))\n",
    "print('\\nMean absolute error: ',mean_absolute_error(y_test,y_pred))\n",
    "print('\\nRoot mean square error: ',np.sqrt(mean_squared_error(y_test,y_pred)))"
   ]
  },
  {
   "cell_type": "markdown",
   "id": "7855b9fb",
   "metadata": {},
   "source": [
    "### Model Save"
   ]
  },
  {
   "cell_type": "code",
   "execution_count": 125,
   "id": "b56f0cec",
   "metadata": {},
   "outputs": [],
   "source": [
    "filename='sales_chennals.pickle'\n",
    "\n",
    "pickle.dump(rfr,open(filename,'wb'))"
   ]
  }
 ],
 "metadata": {
  "kernelspec": {
   "display_name": "Python 3",
   "language": "python",
   "name": "python3"
  },
  "language_info": {
   "codemirror_mode": {
    "name": "ipython",
    "version": 3
   },
   "file_extension": ".py",
   "mimetype": "text/x-python",
   "name": "python",
   "nbconvert_exporter": "python",
   "pygments_lexer": "ipython3",
   "version": "3.8.8"
  }
 },
 "nbformat": 4,
 "nbformat_minor": 5
}
